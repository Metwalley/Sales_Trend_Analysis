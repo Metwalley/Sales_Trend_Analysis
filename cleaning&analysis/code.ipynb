{
 "cells": [
  {
   "cell_type": "code",
   "execution_count": 33,
   "metadata": {},
   "outputs": [],
   "source": [
    "import pandas as pd\n",
    "import plotly.express as px\n",
    "import us"
   ]
  },
  {
   "cell_type": "code",
   "execution_count": 2,
   "metadata": {},
   "outputs": [
    {
     "data": {
      "text/html": [
       "<div>\n",
       "<style scoped>\n",
       "    .dataframe tbody tr th:only-of-type {\n",
       "        vertical-align: middle;\n",
       "    }\n",
       "\n",
       "    .dataframe tbody tr th {\n",
       "        vertical-align: top;\n",
       "    }\n",
       "\n",
       "    .dataframe thead th {\n",
       "        text-align: right;\n",
       "    }\n",
       "</style>\n",
       "<table border=\"1\" class=\"dataframe\">\n",
       "  <thead>\n",
       "    <tr style=\"text-align: right;\">\n",
       "      <th></th>\n",
       "      <th>Row ID</th>\n",
       "      <th>Order ID</th>\n",
       "      <th>Order Date</th>\n",
       "      <th>Ship Date</th>\n",
       "      <th>Ship Mode</th>\n",
       "      <th>Customer ID</th>\n",
       "      <th>Customer Name</th>\n",
       "      <th>Segment</th>\n",
       "      <th>Country</th>\n",
       "      <th>City</th>\n",
       "      <th>...</th>\n",
       "      <th>Postal Code</th>\n",
       "      <th>Region</th>\n",
       "      <th>Product ID</th>\n",
       "      <th>Category</th>\n",
       "      <th>Sub-Category</th>\n",
       "      <th>Product Name</th>\n",
       "      <th>Sales</th>\n",
       "      <th>Quantity</th>\n",
       "      <th>Discount</th>\n",
       "      <th>Profit</th>\n",
       "    </tr>\n",
       "  </thead>\n",
       "  <tbody>\n",
       "    <tr>\n",
       "      <th>0</th>\n",
       "      <td>1</td>\n",
       "      <td>CA-2016-152156</td>\n",
       "      <td>11/8/2016</td>\n",
       "      <td>11/11/2016</td>\n",
       "      <td>Second Class</td>\n",
       "      <td>CG-12520</td>\n",
       "      <td>Claire Gute</td>\n",
       "      <td>Consumer</td>\n",
       "      <td>United States</td>\n",
       "      <td>Henderson</td>\n",
       "      <td>...</td>\n",
       "      <td>42420</td>\n",
       "      <td>South</td>\n",
       "      <td>FUR-BO-10001798</td>\n",
       "      <td>Furniture</td>\n",
       "      <td>Bookcases</td>\n",
       "      <td>Bush Somerset Collection Bookcase</td>\n",
       "      <td>261.9600</td>\n",
       "      <td>2</td>\n",
       "      <td>0.00</td>\n",
       "      <td>41.9136</td>\n",
       "    </tr>\n",
       "    <tr>\n",
       "      <th>1</th>\n",
       "      <td>2</td>\n",
       "      <td>CA-2016-152156</td>\n",
       "      <td>11/8/2016</td>\n",
       "      <td>11/11/2016</td>\n",
       "      <td>Second Class</td>\n",
       "      <td>CG-12520</td>\n",
       "      <td>Claire Gute</td>\n",
       "      <td>Consumer</td>\n",
       "      <td>United States</td>\n",
       "      <td>Henderson</td>\n",
       "      <td>...</td>\n",
       "      <td>42420</td>\n",
       "      <td>South</td>\n",
       "      <td>FUR-CH-10000454</td>\n",
       "      <td>Furniture</td>\n",
       "      <td>Chairs</td>\n",
       "      <td>Hon Deluxe Fabric Upholstered Stacking Chairs,...</td>\n",
       "      <td>731.9400</td>\n",
       "      <td>3</td>\n",
       "      <td>0.00</td>\n",
       "      <td>219.5820</td>\n",
       "    </tr>\n",
       "    <tr>\n",
       "      <th>2</th>\n",
       "      <td>3</td>\n",
       "      <td>CA-2016-138688</td>\n",
       "      <td>6/12/2016</td>\n",
       "      <td>6/16/2016</td>\n",
       "      <td>Second Class</td>\n",
       "      <td>DV-13045</td>\n",
       "      <td>Darrin Van Huff</td>\n",
       "      <td>Corporate</td>\n",
       "      <td>United States</td>\n",
       "      <td>Los Angeles</td>\n",
       "      <td>...</td>\n",
       "      <td>90036</td>\n",
       "      <td>West</td>\n",
       "      <td>OFF-LA-10000240</td>\n",
       "      <td>Office Supplies</td>\n",
       "      <td>Labels</td>\n",
       "      <td>Self-Adhesive Address Labels for Typewriters b...</td>\n",
       "      <td>14.6200</td>\n",
       "      <td>2</td>\n",
       "      <td>0.00</td>\n",
       "      <td>6.8714</td>\n",
       "    </tr>\n",
       "    <tr>\n",
       "      <th>3</th>\n",
       "      <td>4</td>\n",
       "      <td>US-2015-108966</td>\n",
       "      <td>10/11/2015</td>\n",
       "      <td>10/18/2015</td>\n",
       "      <td>Standard Class</td>\n",
       "      <td>SO-20335</td>\n",
       "      <td>Sean O'Donnell</td>\n",
       "      <td>Consumer</td>\n",
       "      <td>United States</td>\n",
       "      <td>Fort Lauderdale</td>\n",
       "      <td>...</td>\n",
       "      <td>33311</td>\n",
       "      <td>South</td>\n",
       "      <td>FUR-TA-10000577</td>\n",
       "      <td>Furniture</td>\n",
       "      <td>Tables</td>\n",
       "      <td>Bretford CR4500 Series Slim Rectangular Table</td>\n",
       "      <td>957.5775</td>\n",
       "      <td>5</td>\n",
       "      <td>0.45</td>\n",
       "      <td>-383.0310</td>\n",
       "    </tr>\n",
       "    <tr>\n",
       "      <th>4</th>\n",
       "      <td>5</td>\n",
       "      <td>US-2015-108966</td>\n",
       "      <td>10/11/2015</td>\n",
       "      <td>10/18/2015</td>\n",
       "      <td>Standard Class</td>\n",
       "      <td>SO-20335</td>\n",
       "      <td>Sean O'Donnell</td>\n",
       "      <td>Consumer</td>\n",
       "      <td>United States</td>\n",
       "      <td>Fort Lauderdale</td>\n",
       "      <td>...</td>\n",
       "      <td>33311</td>\n",
       "      <td>South</td>\n",
       "      <td>OFF-ST-10000760</td>\n",
       "      <td>Office Supplies</td>\n",
       "      <td>Storage</td>\n",
       "      <td>Eldon Fold 'N Roll Cart System</td>\n",
       "      <td>22.3680</td>\n",
       "      <td>2</td>\n",
       "      <td>0.20</td>\n",
       "      <td>2.5164</td>\n",
       "    </tr>\n",
       "  </tbody>\n",
       "</table>\n",
       "<p>5 rows × 21 columns</p>\n",
       "</div>"
      ],
      "text/plain": [
       "   Row ID        Order ID  Order Date   Ship Date       Ship Mode Customer ID  \\\n",
       "0       1  CA-2016-152156   11/8/2016  11/11/2016    Second Class    CG-12520   \n",
       "1       2  CA-2016-152156   11/8/2016  11/11/2016    Second Class    CG-12520   \n",
       "2       3  CA-2016-138688   6/12/2016   6/16/2016    Second Class    DV-13045   \n",
       "3       4  US-2015-108966  10/11/2015  10/18/2015  Standard Class    SO-20335   \n",
       "4       5  US-2015-108966  10/11/2015  10/18/2015  Standard Class    SO-20335   \n",
       "\n",
       "     Customer Name    Segment        Country             City  ...  \\\n",
       "0      Claire Gute   Consumer  United States        Henderson  ...   \n",
       "1      Claire Gute   Consumer  United States        Henderson  ...   \n",
       "2  Darrin Van Huff  Corporate  United States      Los Angeles  ...   \n",
       "3   Sean O'Donnell   Consumer  United States  Fort Lauderdale  ...   \n",
       "4   Sean O'Donnell   Consumer  United States  Fort Lauderdale  ...   \n",
       "\n",
       "  Postal Code  Region       Product ID         Category Sub-Category  \\\n",
       "0       42420   South  FUR-BO-10001798        Furniture    Bookcases   \n",
       "1       42420   South  FUR-CH-10000454        Furniture       Chairs   \n",
       "2       90036    West  OFF-LA-10000240  Office Supplies       Labels   \n",
       "3       33311   South  FUR-TA-10000577        Furniture       Tables   \n",
       "4       33311   South  OFF-ST-10000760  Office Supplies      Storage   \n",
       "\n",
       "                                        Product Name     Sales  Quantity  \\\n",
       "0                  Bush Somerset Collection Bookcase  261.9600         2   \n",
       "1  Hon Deluxe Fabric Upholstered Stacking Chairs,...  731.9400         3   \n",
       "2  Self-Adhesive Address Labels for Typewriters b...   14.6200         2   \n",
       "3      Bretford CR4500 Series Slim Rectangular Table  957.5775         5   \n",
       "4                     Eldon Fold 'N Roll Cart System   22.3680         2   \n",
       "\n",
       "   Discount    Profit  \n",
       "0      0.00   41.9136  \n",
       "1      0.00  219.5820  \n",
       "2      0.00    6.8714  \n",
       "3      0.45 -383.0310  \n",
       "4      0.20    2.5164  \n",
       "\n",
       "[5 rows x 21 columns]"
      ]
     },
     "execution_count": 2,
     "metadata": {},
     "output_type": "execute_result"
    }
   ],
   "source": [
    "df = pd.read_csv(\"Sales_Trend_Analysis_raw.csv\", encoding='ISO-8859-1')\n",
    "\n",
    "df.head()"
   ]
  },
  {
   "cell_type": "code",
   "execution_count": 40,
   "metadata": {},
   "outputs": [],
   "source": [
    "pd.set_option('display.max_columns', None)"
   ]
  },
  {
   "cell_type": "code",
   "execution_count": 3,
   "metadata": {},
   "outputs": [
    {
     "data": {
      "text/html": [
       "<div>\n",
       "<style scoped>\n",
       "    .dataframe tbody tr th:only-of-type {\n",
       "        vertical-align: middle;\n",
       "    }\n",
       "\n",
       "    .dataframe tbody tr th {\n",
       "        vertical-align: top;\n",
       "    }\n",
       "\n",
       "    .dataframe thead th {\n",
       "        text-align: right;\n",
       "    }\n",
       "</style>\n",
       "<table border=\"1\" class=\"dataframe\">\n",
       "  <thead>\n",
       "    <tr style=\"text-align: right;\">\n",
       "      <th></th>\n",
       "      <th>Row ID</th>\n",
       "      <th>Order ID</th>\n",
       "      <th>Order Date</th>\n",
       "      <th>Ship Date</th>\n",
       "      <th>Ship Mode</th>\n",
       "      <th>Customer ID</th>\n",
       "      <th>Customer Name</th>\n",
       "      <th>Segment</th>\n",
       "      <th>Country</th>\n",
       "      <th>City</th>\n",
       "      <th>...</th>\n",
       "      <th>Postal Code</th>\n",
       "      <th>Region</th>\n",
       "      <th>Product ID</th>\n",
       "      <th>Category</th>\n",
       "      <th>Sub-Category</th>\n",
       "      <th>Product Name</th>\n",
       "      <th>Sales</th>\n",
       "      <th>Quantity</th>\n",
       "      <th>Discount</th>\n",
       "      <th>Profit</th>\n",
       "    </tr>\n",
       "  </thead>\n",
       "  <tbody>\n",
       "    <tr>\n",
       "      <th>9989</th>\n",
       "      <td>9990</td>\n",
       "      <td>CA-2014-110422</td>\n",
       "      <td>1/21/2014</td>\n",
       "      <td>1/23/2014</td>\n",
       "      <td>Second Class</td>\n",
       "      <td>TB-21400</td>\n",
       "      <td>Tom Boeckenhauer</td>\n",
       "      <td>Consumer</td>\n",
       "      <td>United States</td>\n",
       "      <td>Miami</td>\n",
       "      <td>...</td>\n",
       "      <td>33180</td>\n",
       "      <td>South</td>\n",
       "      <td>FUR-FU-10001889</td>\n",
       "      <td>Furniture</td>\n",
       "      <td>Furnishings</td>\n",
       "      <td>Ultra Door Pull Handle</td>\n",
       "      <td>25.248</td>\n",
       "      <td>3</td>\n",
       "      <td>0.2</td>\n",
       "      <td>4.1028</td>\n",
       "    </tr>\n",
       "    <tr>\n",
       "      <th>9990</th>\n",
       "      <td>9991</td>\n",
       "      <td>CA-2017-121258</td>\n",
       "      <td>2/26/2017</td>\n",
       "      <td>3/3/2017</td>\n",
       "      <td>Standard Class</td>\n",
       "      <td>DB-13060</td>\n",
       "      <td>Dave Brooks</td>\n",
       "      <td>Consumer</td>\n",
       "      <td>United States</td>\n",
       "      <td>Costa Mesa</td>\n",
       "      <td>...</td>\n",
       "      <td>92627</td>\n",
       "      <td>West</td>\n",
       "      <td>FUR-FU-10000747</td>\n",
       "      <td>Furniture</td>\n",
       "      <td>Furnishings</td>\n",
       "      <td>Tenex B1-RE Series Chair Mats for Low Pile Car...</td>\n",
       "      <td>91.960</td>\n",
       "      <td>2</td>\n",
       "      <td>0.0</td>\n",
       "      <td>15.6332</td>\n",
       "    </tr>\n",
       "    <tr>\n",
       "      <th>9991</th>\n",
       "      <td>9992</td>\n",
       "      <td>CA-2017-121258</td>\n",
       "      <td>2/26/2017</td>\n",
       "      <td>3/3/2017</td>\n",
       "      <td>Standard Class</td>\n",
       "      <td>DB-13060</td>\n",
       "      <td>Dave Brooks</td>\n",
       "      <td>Consumer</td>\n",
       "      <td>United States</td>\n",
       "      <td>Costa Mesa</td>\n",
       "      <td>...</td>\n",
       "      <td>92627</td>\n",
       "      <td>West</td>\n",
       "      <td>TEC-PH-10003645</td>\n",
       "      <td>Technology</td>\n",
       "      <td>Phones</td>\n",
       "      <td>Aastra 57i VoIP phone</td>\n",
       "      <td>258.576</td>\n",
       "      <td>2</td>\n",
       "      <td>0.2</td>\n",
       "      <td>19.3932</td>\n",
       "    </tr>\n",
       "    <tr>\n",
       "      <th>9992</th>\n",
       "      <td>9993</td>\n",
       "      <td>CA-2017-121258</td>\n",
       "      <td>2/26/2017</td>\n",
       "      <td>3/3/2017</td>\n",
       "      <td>Standard Class</td>\n",
       "      <td>DB-13060</td>\n",
       "      <td>Dave Brooks</td>\n",
       "      <td>Consumer</td>\n",
       "      <td>United States</td>\n",
       "      <td>Costa Mesa</td>\n",
       "      <td>...</td>\n",
       "      <td>92627</td>\n",
       "      <td>West</td>\n",
       "      <td>OFF-PA-10004041</td>\n",
       "      <td>Office Supplies</td>\n",
       "      <td>Paper</td>\n",
       "      <td>It's Hot Message Books with Stickers, 2 3/4\" x 5\"</td>\n",
       "      <td>29.600</td>\n",
       "      <td>4</td>\n",
       "      <td>0.0</td>\n",
       "      <td>13.3200</td>\n",
       "    </tr>\n",
       "    <tr>\n",
       "      <th>9993</th>\n",
       "      <td>9994</td>\n",
       "      <td>CA-2017-119914</td>\n",
       "      <td>5/4/2017</td>\n",
       "      <td>5/9/2017</td>\n",
       "      <td>Second Class</td>\n",
       "      <td>CC-12220</td>\n",
       "      <td>Chris Cortes</td>\n",
       "      <td>Consumer</td>\n",
       "      <td>United States</td>\n",
       "      <td>Westminster</td>\n",
       "      <td>...</td>\n",
       "      <td>92683</td>\n",
       "      <td>West</td>\n",
       "      <td>OFF-AP-10002684</td>\n",
       "      <td>Office Supplies</td>\n",
       "      <td>Appliances</td>\n",
       "      <td>Acco 7-Outlet Masterpiece Power Center, Wihtou...</td>\n",
       "      <td>243.160</td>\n",
       "      <td>2</td>\n",
       "      <td>0.0</td>\n",
       "      <td>72.9480</td>\n",
       "    </tr>\n",
       "  </tbody>\n",
       "</table>\n",
       "<p>5 rows × 21 columns</p>\n",
       "</div>"
      ],
      "text/plain": [
       "      Row ID        Order ID Order Date  Ship Date       Ship Mode  \\\n",
       "9989    9990  CA-2014-110422  1/21/2014  1/23/2014    Second Class   \n",
       "9990    9991  CA-2017-121258  2/26/2017   3/3/2017  Standard Class   \n",
       "9991    9992  CA-2017-121258  2/26/2017   3/3/2017  Standard Class   \n",
       "9992    9993  CA-2017-121258  2/26/2017   3/3/2017  Standard Class   \n",
       "9993    9994  CA-2017-119914   5/4/2017   5/9/2017    Second Class   \n",
       "\n",
       "     Customer ID     Customer Name   Segment        Country         City  ...  \\\n",
       "9989    TB-21400  Tom Boeckenhauer  Consumer  United States        Miami  ...   \n",
       "9990    DB-13060       Dave Brooks  Consumer  United States   Costa Mesa  ...   \n",
       "9991    DB-13060       Dave Brooks  Consumer  United States   Costa Mesa  ...   \n",
       "9992    DB-13060       Dave Brooks  Consumer  United States   Costa Mesa  ...   \n",
       "9993    CC-12220      Chris Cortes  Consumer  United States  Westminster  ...   \n",
       "\n",
       "     Postal Code  Region       Product ID         Category Sub-Category  \\\n",
       "9989       33180   South  FUR-FU-10001889        Furniture  Furnishings   \n",
       "9990       92627    West  FUR-FU-10000747        Furniture  Furnishings   \n",
       "9991       92627    West  TEC-PH-10003645       Technology       Phones   \n",
       "9992       92627    West  OFF-PA-10004041  Office Supplies        Paper   \n",
       "9993       92683    West  OFF-AP-10002684  Office Supplies   Appliances   \n",
       "\n",
       "                                           Product Name    Sales  Quantity  \\\n",
       "9989                             Ultra Door Pull Handle   25.248         3   \n",
       "9990  Tenex B1-RE Series Chair Mats for Low Pile Car...   91.960         2   \n",
       "9991                              Aastra 57i VoIP phone  258.576         2   \n",
       "9992  It's Hot Message Books with Stickers, 2 3/4\" x 5\"   29.600         4   \n",
       "9993  Acco 7-Outlet Masterpiece Power Center, Wihtou...  243.160         2   \n",
       "\n",
       "      Discount   Profit  \n",
       "9989       0.2   4.1028  \n",
       "9990       0.0  15.6332  \n",
       "9991       0.2  19.3932  \n",
       "9992       0.0  13.3200  \n",
       "9993       0.0  72.9480  \n",
       "\n",
       "[5 rows x 21 columns]"
      ]
     },
     "execution_count": 3,
     "metadata": {},
     "output_type": "execute_result"
    }
   ],
   "source": [
    "df.tail()"
   ]
  },
  {
   "cell_type": "code",
   "execution_count": 4,
   "metadata": {},
   "outputs": [
    {
     "name": "stdout",
     "output_type": "stream",
     "text": [
      "<class 'pandas.core.frame.DataFrame'>\n",
      "RangeIndex: 9994 entries, 0 to 9993\n",
      "Data columns (total 21 columns):\n",
      " #   Column         Non-Null Count  Dtype  \n",
      "---  ------         --------------  -----  \n",
      " 0   Row ID         9994 non-null   int64  \n",
      " 1   Order ID       9994 non-null   object \n",
      " 2   Order Date     9994 non-null   object \n",
      " 3   Ship Date      9994 non-null   object \n",
      " 4   Ship Mode      9994 non-null   object \n",
      " 5   Customer ID    9994 non-null   object \n",
      " 6   Customer Name  9994 non-null   object \n",
      " 7   Segment        9994 non-null   object \n",
      " 8   Country        9994 non-null   object \n",
      " 9   City           9994 non-null   object \n",
      " 10  State          9994 non-null   object \n",
      " 11  Postal Code    9994 non-null   int64  \n",
      " 12  Region         9994 non-null   object \n",
      " 13  Product ID     9994 non-null   object \n",
      " 14  Category       9994 non-null   object \n",
      " 15  Sub-Category   9994 non-null   object \n",
      " 16  Product Name   9994 non-null   object \n",
      " 17  Sales          9994 non-null   float64\n",
      " 18  Quantity       9994 non-null   int64  \n",
      " 19  Discount       9994 non-null   float64\n",
      " 20  Profit         9994 non-null   float64\n",
      "dtypes: float64(3), int64(3), object(15)\n",
      "memory usage: 1.6+ MB\n"
     ]
    }
   ],
   "source": [
    "df.info()"
   ]
  },
  {
   "cell_type": "code",
   "execution_count": 5,
   "metadata": {},
   "outputs": [
    {
     "name": "stdout",
     "output_type": "stream",
     "text": [
      "<class 'pandas.core.frame.DataFrame'>\n",
      "RangeIndex: 9994 entries, 0 to 9993\n",
      "Data columns (total 21 columns):\n",
      " #   Column         Non-Null Count  Dtype         \n",
      "---  ------         --------------  -----         \n",
      " 0   Row ID         9994 non-null   int64         \n",
      " 1   Order ID       9994 non-null   object        \n",
      " 2   Order Date     9994 non-null   datetime64[ns]\n",
      " 3   Ship Date      9994 non-null   datetime64[ns]\n",
      " 4   Ship Mode      9994 non-null   object        \n",
      " 5   Customer ID    9994 non-null   object        \n",
      " 6   Customer Name  9994 non-null   object        \n",
      " 7   Segment        9994 non-null   object        \n",
      " 8   Country        9994 non-null   object        \n",
      " 9   City           9994 non-null   object        \n",
      " 10  State          9994 non-null   object        \n",
      " 11  Postal Code    9994 non-null   int64         \n",
      " 12  Region         9994 non-null   object        \n",
      " 13  Product ID     9994 non-null   object        \n",
      " 14  Category       9994 non-null   object        \n",
      " 15  Sub-Category   9994 non-null   object        \n",
      " 16  Product Name   9994 non-null   object        \n",
      " 17  Sales          9994 non-null   float64       \n",
      " 18  Quantity       9994 non-null   int64         \n",
      " 19  Discount       9994 non-null   float64       \n",
      " 20  Profit         9994 non-null   float64       \n",
      "dtypes: datetime64[ns](2), float64(3), int64(3), object(13)\n",
      "memory usage: 1.6+ MB\n"
     ]
    }
   ],
   "source": [
    "# Convert to Datetime so we can Sort data chronologically, Calculate time differences, Group sales by month or year.\n",
    "df['Order Date'] = pd.to_datetime(df['Order Date'])\n",
    "df['Ship Date'] = pd.to_datetime(df['Ship Date'])\n",
    "\n",
    "# Check the data types again to confirm\n",
    "df.info()"
   ]
  },
  {
   "cell_type": "code",
   "execution_count": 6,
   "metadata": {},
   "outputs": [
    {
     "data": {
      "text/plain": [
       "Row ID           0\n",
       "Order ID         0\n",
       "Order Date       0\n",
       "Ship Date        0\n",
       "Ship Mode        0\n",
       "Customer ID      0\n",
       "Customer Name    0\n",
       "Segment          0\n",
       "Country          0\n",
       "City             0\n",
       "State            0\n",
       "Postal Code      0\n",
       "Region           0\n",
       "Product ID       0\n",
       "Category         0\n",
       "Sub-Category     0\n",
       "Product Name     0\n",
       "Sales            0\n",
       "Quantity         0\n",
       "Discount         0\n",
       "Profit           0\n",
       "dtype: int64"
      ]
     },
     "execution_count": 6,
     "metadata": {},
     "output_type": "execute_result"
    }
   ],
   "source": [
    "# Non-Null Count is 9994 for all columns so there is no missing data\n",
    "# let's double check\n",
    "df.isnull().sum()"
   ]
  },
  {
   "cell_type": "code",
   "execution_count": 7,
   "metadata": {},
   "outputs": [],
   "source": [
    "# an extra step to remove any uneeded spaces\n",
    "df = df.apply(lambda x: x.str.strip() if x.dtype == \"object\" else x)"
   ]
  },
  {
   "cell_type": "code",
   "execution_count": 29,
   "metadata": {},
   "outputs": [
    {
     "data": {
      "text/plain": [
       "np.int64(0)"
      ]
     },
     "execution_count": 29,
     "metadata": {},
     "output_type": "execute_result"
    }
   ],
   "source": [
    "# let's check for Duplicates\n",
    "df.duplicated().sum()"
   ]
  },
  {
   "cell_type": "code",
   "execution_count": 9,
   "metadata": {},
   "outputs": [
    {
     "data": {
      "text/html": [
       "<div>\n",
       "<style scoped>\n",
       "    .dataframe tbody tr th:only-of-type {\n",
       "        vertical-align: middle;\n",
       "    }\n",
       "\n",
       "    .dataframe tbody tr th {\n",
       "        vertical-align: top;\n",
       "    }\n",
       "\n",
       "    .dataframe thead th {\n",
       "        text-align: right;\n",
       "    }\n",
       "</style>\n",
       "<table border=\"1\" class=\"dataframe\">\n",
       "  <thead>\n",
       "    <tr style=\"text-align: right;\">\n",
       "      <th></th>\n",
       "      <th>Row ID</th>\n",
       "      <th>Order Date</th>\n",
       "      <th>Ship Date</th>\n",
       "      <th>Postal Code</th>\n",
       "      <th>Sales</th>\n",
       "      <th>Quantity</th>\n",
       "      <th>Discount</th>\n",
       "      <th>Profit</th>\n",
       "    </tr>\n",
       "  </thead>\n",
       "  <tbody>\n",
       "    <tr>\n",
       "      <th>count</th>\n",
       "      <td>9994.000000</td>\n",
       "      <td>9994</td>\n",
       "      <td>9994</td>\n",
       "      <td>9994.000000</td>\n",
       "      <td>9994.000000</td>\n",
       "      <td>9994.000000</td>\n",
       "      <td>9994.000000</td>\n",
       "      <td>9994.000000</td>\n",
       "    </tr>\n",
       "    <tr>\n",
       "      <th>mean</th>\n",
       "      <td>4997.500000</td>\n",
       "      <td>2016-04-30 00:07:12.259355648</td>\n",
       "      <td>2016-05-03 23:06:58.571142912</td>\n",
       "      <td>55190.379428</td>\n",
       "      <td>229.858001</td>\n",
       "      <td>3.789574</td>\n",
       "      <td>0.156203</td>\n",
       "      <td>28.656896</td>\n",
       "    </tr>\n",
       "    <tr>\n",
       "      <th>min</th>\n",
       "      <td>1.000000</td>\n",
       "      <td>2014-01-03 00:00:00</td>\n",
       "      <td>2014-01-07 00:00:00</td>\n",
       "      <td>1040.000000</td>\n",
       "      <td>0.444000</td>\n",
       "      <td>1.000000</td>\n",
       "      <td>0.000000</td>\n",
       "      <td>-6599.978000</td>\n",
       "    </tr>\n",
       "    <tr>\n",
       "      <th>25%</th>\n",
       "      <td>2499.250000</td>\n",
       "      <td>2015-05-23 00:00:00</td>\n",
       "      <td>2015-05-27 00:00:00</td>\n",
       "      <td>23223.000000</td>\n",
       "      <td>17.280000</td>\n",
       "      <td>2.000000</td>\n",
       "      <td>0.000000</td>\n",
       "      <td>1.728750</td>\n",
       "    </tr>\n",
       "    <tr>\n",
       "      <th>50%</th>\n",
       "      <td>4997.500000</td>\n",
       "      <td>2016-06-26 00:00:00</td>\n",
       "      <td>2016-06-29 00:00:00</td>\n",
       "      <td>56430.500000</td>\n",
       "      <td>54.490000</td>\n",
       "      <td>3.000000</td>\n",
       "      <td>0.200000</td>\n",
       "      <td>8.666500</td>\n",
       "    </tr>\n",
       "    <tr>\n",
       "      <th>75%</th>\n",
       "      <td>7495.750000</td>\n",
       "      <td>2017-05-14 00:00:00</td>\n",
       "      <td>2017-05-18 00:00:00</td>\n",
       "      <td>90008.000000</td>\n",
       "      <td>209.940000</td>\n",
       "      <td>5.000000</td>\n",
       "      <td>0.200000</td>\n",
       "      <td>29.364000</td>\n",
       "    </tr>\n",
       "    <tr>\n",
       "      <th>max</th>\n",
       "      <td>9994.000000</td>\n",
       "      <td>2017-12-30 00:00:00</td>\n",
       "      <td>2018-01-05 00:00:00</td>\n",
       "      <td>99301.000000</td>\n",
       "      <td>22638.480000</td>\n",
       "      <td>14.000000</td>\n",
       "      <td>0.800000</td>\n",
       "      <td>8399.976000</td>\n",
       "    </tr>\n",
       "    <tr>\n",
       "      <th>std</th>\n",
       "      <td>2885.163629</td>\n",
       "      <td>NaN</td>\n",
       "      <td>NaN</td>\n",
       "      <td>32063.693350</td>\n",
       "      <td>623.245101</td>\n",
       "      <td>2.225110</td>\n",
       "      <td>0.206452</td>\n",
       "      <td>234.260108</td>\n",
       "    </tr>\n",
       "  </tbody>\n",
       "</table>\n",
       "</div>"
      ],
      "text/plain": [
       "            Row ID                     Order Date  \\\n",
       "count  9994.000000                           9994   \n",
       "mean   4997.500000  2016-04-30 00:07:12.259355648   \n",
       "min       1.000000            2014-01-03 00:00:00   \n",
       "25%    2499.250000            2015-05-23 00:00:00   \n",
       "50%    4997.500000            2016-06-26 00:00:00   \n",
       "75%    7495.750000            2017-05-14 00:00:00   \n",
       "max    9994.000000            2017-12-30 00:00:00   \n",
       "std    2885.163629                            NaN   \n",
       "\n",
       "                           Ship Date   Postal Code         Sales     Quantity  \\\n",
       "count                           9994   9994.000000   9994.000000  9994.000000   \n",
       "mean   2016-05-03 23:06:58.571142912  55190.379428    229.858001     3.789574   \n",
       "min              2014-01-07 00:00:00   1040.000000      0.444000     1.000000   \n",
       "25%              2015-05-27 00:00:00  23223.000000     17.280000     2.000000   \n",
       "50%              2016-06-29 00:00:00  56430.500000     54.490000     3.000000   \n",
       "75%              2017-05-18 00:00:00  90008.000000    209.940000     5.000000   \n",
       "max              2018-01-05 00:00:00  99301.000000  22638.480000    14.000000   \n",
       "std                              NaN  32063.693350    623.245101     2.225110   \n",
       "\n",
       "          Discount       Profit  \n",
       "count  9994.000000  9994.000000  \n",
       "mean      0.156203    28.656896  \n",
       "min       0.000000 -6599.978000  \n",
       "25%       0.000000     1.728750  \n",
       "50%       0.200000     8.666500  \n",
       "75%       0.200000    29.364000  \n",
       "max       0.800000  8399.976000  \n",
       "std       0.206452   234.260108  "
      ]
     },
     "execution_count": 9,
     "metadata": {},
     "output_type": "execute_result"
    }
   ],
   "source": [
    "# Summary statistics\n",
    "df.describe()"
   ]
  },
  {
   "cell_type": "code",
   "execution_count": 10,
   "metadata": {},
   "outputs": [
    {
     "data": {
      "application/vnd.plotly.v1+json": {
       "config": {
        "plotlyServerURL": "https://plot.ly"
       },
       "data": [
        {
         "alignmentgroup": "True",
         "hovertemplate": "Sales=%{x}<extra></extra>",
         "legendgroup": "",
         "marker": {
          "color": "#636efa"
         },
         "name": "",
         "notched": false,
         "offsetgroup": "",
         "orientation": "h",
         "showlegend": false,
         "type": "box",
         "x": {
          "bdata": "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",
          "dtype": "f8"
         },
         "x0": " ",
         "xaxis": "x",
         "y0": " ",
         "yaxis": "y"
        }
       ],
       "layout": {
        "boxmode": "group",
        "legend": {
         "tracegroupgap": 0
        },
        "template": {
         "data": {
          "bar": [
           {
            "error_x": {
             "color": "#2a3f5f"
            },
            "error_y": {
             "color": "#2a3f5f"
            },
            "marker": {
             "line": {
              "color": "#E5ECF6",
              "width": 0.5
             },
             "pattern": {
              "fillmode": "overlay",
              "size": 10,
              "solidity": 0.2
             }
            },
            "type": "bar"
           }
          ],
          "barpolar": [
           {
            "marker": {
             "line": {
              "color": "#E5ECF6",
              "width": 0.5
             },
             "pattern": {
              "fillmode": "overlay",
              "size": 10,
              "solidity": 0.2
             }
            },
            "type": "barpolar"
           }
          ],
          "carpet": [
           {
            "aaxis": {
             "endlinecolor": "#2a3f5f",
             "gridcolor": "white",
             "linecolor": "white",
             "minorgridcolor": "white",
             "startlinecolor": "#2a3f5f"
            },
            "baxis": {
             "endlinecolor": "#2a3f5f",
             "gridcolor": "white",
             "linecolor": "white",
             "minorgridcolor": "white",
             "startlinecolor": "#2a3f5f"
            },
            "type": "carpet"
           }
          ],
          "choropleth": [
           {
            "colorbar": {
             "outlinewidth": 0,
             "ticks": ""
            },
            "type": "choropleth"
           }
          ],
          "contour": [
           {
            "colorbar": {
             "outlinewidth": 0,
             "ticks": ""
            },
            "colorscale": [
             [
              0,
              "#0d0887"
             ],
             [
              0.1111111111111111,
              "#46039f"
             ],
             [
              0.2222222222222222,
              "#7201a8"
             ],
             [
              0.3333333333333333,
              "#9c179e"
             ],
             [
              0.4444444444444444,
              "#bd3786"
             ],
             [
              0.5555555555555556,
              "#d8576b"
             ],
             [
              0.6666666666666666,
              "#ed7953"
             ],
             [
              0.7777777777777778,
              "#fb9f3a"
             ],
             [
              0.8888888888888888,
              "#fdca26"
             ],
             [
              1,
              "#f0f921"
             ]
            ],
            "type": "contour"
           }
          ],
          "contourcarpet": [
           {
            "colorbar": {
             "outlinewidth": 0,
             "ticks": ""
            },
            "type": "contourcarpet"
           }
          ],
          "heatmap": [
           {
            "colorbar": {
             "outlinewidth": 0,
             "ticks": ""
            },
            "colorscale": [
             [
              0,
              "#0d0887"
             ],
             [
              0.1111111111111111,
              "#46039f"
             ],
             [
              0.2222222222222222,
              "#7201a8"
             ],
             [
              0.3333333333333333,
              "#9c179e"
             ],
             [
              0.4444444444444444,
              "#bd3786"
             ],
             [
              0.5555555555555556,
              "#d8576b"
             ],
             [
              0.6666666666666666,
              "#ed7953"
             ],
             [
              0.7777777777777778,
              "#fb9f3a"
             ],
             [
              0.8888888888888888,
              "#fdca26"
             ],
             [
              1,
              "#f0f921"
             ]
            ],
            "type": "heatmap"
           }
          ],
          "histogram": [
           {
            "marker": {
             "pattern": {
              "fillmode": "overlay",
              "size": 10,
              "solidity": 0.2
             }
            },
            "type": "histogram"
           }
          ],
          "histogram2d": [
           {
            "colorbar": {
             "outlinewidth": 0,
             "ticks": ""
            },
            "colorscale": [
             [
              0,
              "#0d0887"
             ],
             [
              0.1111111111111111,
              "#46039f"
             ],
             [
              0.2222222222222222,
              "#7201a8"
             ],
             [
              0.3333333333333333,
              "#9c179e"
             ],
             [
              0.4444444444444444,
              "#bd3786"
             ],
             [
              0.5555555555555556,
              "#d8576b"
             ],
             [
              0.6666666666666666,
              "#ed7953"
             ],
             [
              0.7777777777777778,
              "#fb9f3a"
             ],
             [
              0.8888888888888888,
              "#fdca26"
             ],
             [
              1,
              "#f0f921"
             ]
            ],
            "type": "histogram2d"
           }
          ],
          "histogram2dcontour": [
           {
            "colorbar": {
             "outlinewidth": 0,
             "ticks": ""
            },
            "colorscale": [
             [
              0,
              "#0d0887"
             ],
             [
              0.1111111111111111,
              "#46039f"
             ],
             [
              0.2222222222222222,
              "#7201a8"
             ],
             [
              0.3333333333333333,
              "#9c179e"
             ],
             [
              0.4444444444444444,
              "#bd3786"
             ],
             [
              0.5555555555555556,
              "#d8576b"
             ],
             [
              0.6666666666666666,
              "#ed7953"
             ],
             [
              0.7777777777777778,
              "#fb9f3a"
             ],
             [
              0.8888888888888888,
              "#fdca26"
             ],
             [
              1,
              "#f0f921"
             ]
            ],
            "type": "histogram2dcontour"
           }
          ],
          "mesh3d": [
           {
            "colorbar": {
             "outlinewidth": 0,
             "ticks": ""
            },
            "type": "mesh3d"
           }
          ],
          "parcoords": [
           {
            "line": {
             "colorbar": {
              "outlinewidth": 0,
              "ticks": ""
             }
            },
            "type": "parcoords"
           }
          ],
          "pie": [
           {
            "automargin": true,
            "type": "pie"
           }
          ],
          "scatter": [
           {
            "fillpattern": {
             "fillmode": "overlay",
             "size": 10,
             "solidity": 0.2
            },
            "type": "scatter"
           }
          ],
          "scatter3d": [
           {
            "line": {
             "colorbar": {
              "outlinewidth": 0,
              "ticks": ""
             }
            },
            "marker": {
             "colorbar": {
              "outlinewidth": 0,
              "ticks": ""
             }
            },
            "type": "scatter3d"
           }
          ],
          "scattercarpet": [
           {
            "marker": {
             "colorbar": {
              "outlinewidth": 0,
              "ticks": ""
             }
            },
            "type": "scattercarpet"
           }
          ],
          "scattergeo": [
           {
            "marker": {
             "colorbar": {
              "outlinewidth": 0,
              "ticks": ""
             }
            },
            "type": "scattergeo"
           }
          ],
          "scattergl": [
           {
            "marker": {
             "colorbar": {
              "outlinewidth": 0,
              "ticks": ""
             }
            },
            "type": "scattergl"
           }
          ],
          "scattermap": [
           {
            "marker": {
             "colorbar": {
              "outlinewidth": 0,
              "ticks": ""
             }
            },
            "type": "scattermap"
           }
          ],
          "scattermapbox": [
           {
            "marker": {
             "colorbar": {
              "outlinewidth": 0,
              "ticks": ""
             }
            },
            "type": "scattermapbox"
           }
          ],
          "scatterpolar": [
           {
            "marker": {
             "colorbar": {
              "outlinewidth": 0,
              "ticks": ""
             }
            },
            "type": "scatterpolar"
           }
          ],
          "scatterpolargl": [
           {
            "marker": {
             "colorbar": {
              "outlinewidth": 0,
              "ticks": ""
             }
            },
            "type": "scatterpolargl"
           }
          ],
          "scatterternary": [
           {
            "marker": {
             "colorbar": {
              "outlinewidth": 0,
              "ticks": ""
             }
            },
            "type": "scatterternary"
           }
          ],
          "surface": [
           {
            "colorbar": {
             "outlinewidth": 0,
             "ticks": ""
            },
            "colorscale": [
             [
              0,
              "#0d0887"
             ],
             [
              0.1111111111111111,
              "#46039f"
             ],
             [
              0.2222222222222222,
              "#7201a8"
             ],
             [
              0.3333333333333333,
              "#9c179e"
             ],
             [
              0.4444444444444444,
              "#bd3786"
             ],
             [
              0.5555555555555556,
              "#d8576b"
             ],
             [
              0.6666666666666666,
              "#ed7953"
             ],
             [
              0.7777777777777778,
              "#fb9f3a"
             ],
             [
              0.8888888888888888,
              "#fdca26"
             ],
             [
              1,
              "#f0f921"
             ]
            ],
            "type": "surface"
           }
          ],
          "table": [
           {
            "cells": {
             "fill": {
              "color": "#EBF0F8"
             },
             "line": {
              "color": "white"
             }
            },
            "header": {
             "fill": {
              "color": "#C8D4E3"
             },
             "line": {
              "color": "white"
             }
            },
            "type": "table"
           }
          ]
         },
         "layout": {
          "annotationdefaults": {
           "arrowcolor": "#2a3f5f",
           "arrowhead": 0,
           "arrowwidth": 1
          },
          "autotypenumbers": "strict",
          "coloraxis": {
           "colorbar": {
            "outlinewidth": 0,
            "ticks": ""
           }
          },
          "colorscale": {
           "diverging": [
            [
             0,
             "#8e0152"
            ],
            [
             0.1,
             "#c51b7d"
            ],
            [
             0.2,
             "#de77ae"
            ],
            [
             0.3,
             "#f1b6da"
            ],
            [
             0.4,
             "#fde0ef"
            ],
            [
             0.5,
             "#f7f7f7"
            ],
            [
             0.6,
             "#e6f5d0"
            ],
            [
             0.7,
             "#b8e186"
            ],
            [
             0.8,
             "#7fbc41"
            ],
            [
             0.9,
             "#4d9221"
            ],
            [
             1,
             "#276419"
            ]
           ],
           "sequential": [
            [
             0,
             "#0d0887"
            ],
            [
             0.1111111111111111,
             "#46039f"
            ],
            [
             0.2222222222222222,
             "#7201a8"
            ],
            [
             0.3333333333333333,
             "#9c179e"
            ],
            [
             0.4444444444444444,
             "#bd3786"
            ],
            [
             0.5555555555555556,
             "#d8576b"
            ],
            [
             0.6666666666666666,
             "#ed7953"
            ],
            [
             0.7777777777777778,
             "#fb9f3a"
            ],
            [
             0.8888888888888888,
             "#fdca26"
            ],
            [
             1,
             "#f0f921"
            ]
           ],
           "sequentialminus": [
            [
             0,
             "#0d0887"
            ],
            [
             0.1111111111111111,
             "#46039f"
            ],
            [
             0.2222222222222222,
             "#7201a8"
            ],
            [
             0.3333333333333333,
             "#9c179e"
            ],
            [
             0.4444444444444444,
             "#bd3786"
            ],
            [
             0.5555555555555556,
             "#d8576b"
            ],
            [
             0.6666666666666666,
             "#ed7953"
            ],
            [
             0.7777777777777778,
             "#fb9f3a"
            ],
            [
             0.8888888888888888,
             "#fdca26"
            ],
            [
             1,
             "#f0f921"
            ]
           ]
          },
          "colorway": [
           "#636efa",
           "#EF553B",
           "#00cc96",
           "#ab63fa",
           "#FFA15A",
           "#19d3f3",
           "#FF6692",
           "#B6E880",
           "#FF97FF",
           "#FECB52"
          ],
          "font": {
           "color": "#2a3f5f"
          },
          "geo": {
           "bgcolor": "white",
           "lakecolor": "white",
           "landcolor": "#E5ECF6",
           "showlakes": true,
           "showland": true,
           "subunitcolor": "white"
          },
          "hoverlabel": {
           "align": "left"
          },
          "hovermode": "closest",
          "mapbox": {
           "style": "light"
          },
          "paper_bgcolor": "white",
          "plot_bgcolor": "#E5ECF6",
          "polar": {
           "angularaxis": {
            "gridcolor": "white",
            "linecolor": "white",
            "ticks": ""
           },
           "bgcolor": "#E5ECF6",
           "radialaxis": {
            "gridcolor": "white",
            "linecolor": "white",
            "ticks": ""
           }
          },
          "scene": {
           "xaxis": {
            "backgroundcolor": "#E5ECF6",
            "gridcolor": "white",
            "gridwidth": 2,
            "linecolor": "white",
            "showbackground": true,
            "ticks": "",
            "zerolinecolor": "white"
           },
           "yaxis": {
            "backgroundcolor": "#E5ECF6",
            "gridcolor": "white",
            "gridwidth": 2,
            "linecolor": "white",
            "showbackground": true,
            "ticks": "",
            "zerolinecolor": "white"
           },
           "zaxis": {
            "backgroundcolor": "#E5ECF6",
            "gridcolor": "white",
            "gridwidth": 2,
            "linecolor": "white",
            "showbackground": true,
            "ticks": "",
            "zerolinecolor": "white"
           }
          },
          "shapedefaults": {
           "line": {
            "color": "#2a3f5f"
           }
          },
          "ternary": {
           "aaxis": {
            "gridcolor": "white",
            "linecolor": "white",
            "ticks": ""
           },
           "baxis": {
            "gridcolor": "white",
            "linecolor": "white",
            "ticks": ""
           },
           "bgcolor": "#E5ECF6",
           "caxis": {
            "gridcolor": "white",
            "linecolor": "white",
            "ticks": ""
           }
          },
          "title": {
           "x": 0.05
          },
          "xaxis": {
           "automargin": true,
           "gridcolor": "white",
           "linecolor": "white",
           "ticks": "",
           "title": {
            "standoff": 15
           },
           "zerolinecolor": "white",
           "zerolinewidth": 2
          },
          "yaxis": {
           "automargin": true,
           "gridcolor": "white",
           "linecolor": "white",
           "ticks": "",
           "title": {
            "standoff": 15
           },
           "zerolinecolor": "white",
           "zerolinewidth": 2
          }
         }
        },
        "title": {
         "text": "Sales Outliers"
        },
        "xaxis": {
         "anchor": "y",
         "domain": [
          0,
          1
         ],
         "title": {
          "text": "Sales"
         }
        },
        "yaxis": {
         "anchor": "x",
         "domain": [
          0,
          1
         ]
        }
       }
      }
     },
     "metadata": {},
     "output_type": "display_data"
    }
   ],
   "source": [
    "# Sales Boxplot\n",
    "fig = px.box(df, x='Sales', title='Sales Outliers')\n",
    "fig.show()"
   ]
  },
  {
   "cell_type": "markdown",
   "metadata": {},
   "source": [
    "**Outlier Analysis Summary:**  \n",
    "\n",
    "- **Sales:**  \n",
    "  - The max value is nearly 98 times greater than the mean, and the min is almost 100 times smaller.  \n",
    "  - Potential outliers were flagged, but upon investigation:  \n",
    "    - High sales values are from technologies and machines with above-average quantities, which is reasonable.  \n",
    "    - Very low sales are from small office supplies with below-average quantities, which also makes sense."
   ]
  },
  {
   "cell_type": "code",
   "execution_count": 19,
   "metadata": {},
   "outputs": [
    {
     "data": {
      "application/vnd.plotly.v1+json": {
       "config": {
        "plotlyServerURL": "https://plot.ly"
       },
       "data": [
        {
         "alignmentgroup": "True",
         "hovertemplate": "Quantity=%{x}<extra></extra>",
         "legendgroup": "",
         "marker": {
          "color": "#636efa"
         },
         "name": "",
         "notched": false,
         "offsetgroup": "",
         "orientation": "h",
         "showlegend": false,
         "type": "box",
         "x": {
          "bdata": "AgMCBQIHBAYDBQkEAwMFAwYCAgMEBwcCAwIDBwIDAgYGAgMHBQkDAwQEAgICAgQDAgYGAgEHBQYFBQICBAECBgMEBQgEAgEDCAIBAwMDBQEDBQEHAwIBAgcDAgECAwIBBwMGBwMDBAYDAwgBAQUCAgYOAgMGAwEDBAYJBwMGAgcCAwUCCQMBBAIDBg4CAwMDAwcECwMIBQUCBwQGAwICBwECBQIDCAMJBgUDAwIHAgQEBwUBAgcEBQICCAMDBAYIAwUHAgMDAgMDAgECBwQEAgQJAQICBQMJAgYDAgYEBAQCAQUBAggHAgMCAwMCBQUDAgUDAgcCBgUEAgENBgQJAgUGAwMFAgMHBAIDBgEDBAcDAwIBAgQGAwUHBQUFBgcCBQcIAgMIAwMFAwUIAwQBAwIDAwYBBAIBAwMCAwQBAgYEAQIGAQEDAgQKBgICAwECBAIDBAQKDQwEAwMCAgECAQQEBgIEBQUIAgIDAggEBAIHBAUDBQgBCgQHAwMEBwMCAwMEAQEEAgIDAwMCAgQDBAQCAgYDBQMFBwEJAQ0CBwQIBQEEAQYEAwQCCAEGAgcFAgUCBQMHCAMBAwMEAwcBAwMGAwMEAgIEAgMCBAkDBQYFAgIHAgMBAwIEBgcFBgMFBQMCAgIFBQYBAgIFAwIDAggEAgkCAgIDAQUBAwMFAwIDAwIFAwIDAQIJAgMCBQMDAwEGAQMFBQIHBAMEBggJAgEEBgIJAwUCAQMCBAIEBQMHBQMCAQMIBwMDBwQHAwMOBAICAQQDAgMHBAEDAgQDAgIDAgMFCAIDBAIBAwMEAwIJAgMEAgkKAgICCQEDBQIFBAkHAgUDAwUEAwMDAwMFBAMCBwQBAgUCBAMECgIIAgICAgIHDgUDBQMDAwMFAwEIBQMFAwMDAwMDAgQEAgMCAwIBAQMBBQgEBwQBAgMDAwMCBQEEBQgBBAYCAwUCAwMGAwMDBQcCAQgCAwMCAwMGBAEFAgMDAgUBAQQKBAEDCwcBAwQEAgQDBAkDAwIDBgMGAgICAwUBAgcHAwMEAQUCAQIDAgIEAQgDBQIEBwcCBwUBAgkCAgMEAgMEBQQCAgcIAQgDBQMEAwIEAwcEAgIDAgECAgEEAgMDBAQEBAICBwMEBwIGBgIDAgoCAQICAgYCAgEBBAYFAwMCBwUDAQMEAwUCBAUCAwwHBgUDAQQIBwMCBwgCBQQDAwICBAcDBAcCBgEJAgQDAwECAwEFAgMFBAIDAwMDCAYDAgECBAICBAUDBQMHBgwDBgQCAgUBAgMCAgICAgIDAgQDAwYDAgMHAwICAgMGAQIFAgQDAgUDBQIDBQcDAQMFBwIHBwMDAwMDBQIEAwENAQUCAwUFAwMIAgIDAwIFAwMJBQMCAwIDBwMEAgMFCQ4FAwwBAgIJAgIDBAQCAwIDBwMDAQUEAQQHAwIFBwIHAgMBBAkIAQIHAQMBAgIJAgUCBwcFBAMBAwMDAwYCBQwDBQICAgECAgUFAgIHBwQDAwMBBgQBBQMEAwMIAgIHAgIEAQIBAgICAQIGAgcCBwMCAQMCAwEDBQQJAgMDBAIFBAYDBAIDAwcCAQUHBgQCBAgDBAQDBAIBCQQEAwMDAgMFAQMHBwIEAgIBAQMCAwcJCAMBAQQDAgIBAgICAgMFAgMBAQIEAwQJBgwDBgkNAgQCAwECAwMIAwQDAgUDAQYDAgQDCAIFAwEDAwQDAwEDBwUDAgQDBAUDBQENAgIFAgYDAgEDBwcDAgMCAQQCBggFAQIGAwIFBAMGBgEEAwECAwIIBAMCAwgCBQYDBQIHBgoGAwIFAwEDCwMBAgcEBA4CBgIEBQcDAwIEBQMIBQUFAQMBCQUDAgIDAwMDBwMFAwQCBAECAwIFAQMCAgIDAgIEBwMDBwMEBAICCQYFBAIFBQ4IBgEOBQYCAwUFBAICBAkEBwIDAwEHAwUIAwMJBAICAgIGAgQDBAMCAgIDBAYDBwcEBAcDAgEDAgcDAwIEAQYCAwcBBQUDCQMCAgQGAwQDAggJAwUEAQQCAwcFBgUIBgYCAgcCAwEDBgIDAwECAwcFBgMEBwQCAgEGAgcFAwQBBQIJBgEFAwUDAwQDAwUDAQIDBQIBAwIJAgIDAgUDAwQEBwUEAwMCDQQBBAICAwYFAwUBBAMCAgIHAwEEAwIBAggCAgUDBQYFBgMCAgICAwUEAwICAwIDBwICAgYBAgIGBAICAwcDAwIFAwUDAwIDAwQDAgQCAgMDAwEDAgQBAwICAgICBgUFBQIEAwICBwYCCQIFAwIGAgIBBQ4GBwICBQUECAQCBAMDAgQFBAMIAgMEAgUDAwIFCAQCAgcCCAMCAwICCQICCwYGAgMEBgMCAQkCBAUEBwIGAgkCAQkFAwECAwQGCAMDAgUBCAQCAwgDBgUEAwEBBwIHBwcHBwMHBQIDAgICAgIGBAMBCgQBAwYCCAEDAwcFBwMEAQIBBAIDBgIDAgEFBQcCBQMFBAIBAgQEBQMDBQYCAQUCAQECAQMEAwkDBwQHAgMCCAQDAgEBAQMCAgIEAwYCAQICCAIGBAIDBwMFAgMDBQIFAgIJAwMCAwIBAQMBAwUFCAMCBwQDBAIJBAICAgEBCAMGBQMCAwQDAwUGAwUDAgMFAwQDBwQCAwMFBgIEBAIEBgMEBAMHAwMEBgIDBQQEAQUFBwMFAwcHAgMCBAIDAQIEAgIEBgkDAwQFAgIEAwUEAwIBAgMDAgMHAgUGBwMCAwEHAwQIBQYDBQcBAgMFAg0DBAMJAwQDAQUCAwcDBQcFBwICBgIEBQUDAgIDAwUBBQgEAwMHAwQEBAIDAQEDAwUEAwQCAQEHAQUDAwIJBQcDAwQECQcDAwcEBQQDCQIDBgIHAwQGAQUDBwMCAwYDAwQDAQEDAwIFAQcDAwMCAwMEAgkFCAcDBAUFCAICBgIJAwMDBAMFAgMDAQYHAgMBAwcEBAcKBgEBDQIEAgQBBAIIAQMBAgEBAgIFBQQHAggFAgEHAwICAgEDAgUFBgMDAwIDAgcCAQMBAwIBAgICAQEFBgcCAQMFAQQCCAIHAgcDAgUFAgMGAgEDBAUBBwQDBAQEAwIDBQEEBQEDAgIFAwcDBAcDBAUMAwECAwQCBQUBBgMHBAQCBwUDAwkFAgUGAgIDBgcFAQMHBAMHBAUCAgQBBAYCBAgBCQIDBAIFAgIHBAkEBAICAgEHCQQCAgIFAgYHBQYFBwkHCgUDCAIFAgMFAgUDCgIBAwIHAQINBAQHCAIHBAIDCQIEAgUCBAUGAgIFAwUFBgMDCAgBBgMCAwMFAgEBAQQFAQgEBAIFBwQDAwECBgQFBQICAwMEBAYHBQUIAwIBAwIEBAIEBQgEAwYEBgUEAgIJAwcGAwIBBAkCAwYCAgUEBwQGBAIEAQYDBwMDBAQBAQUIAgYCBAcCCAIHBQIEAgECBAUJCAIEAgcFAwUCAwMIAwINAwICBwEBAwIDAggCAwMCAwIHAwMBBAEBAwEFAgMDAgMGAg0DBAMFBAQIBQEEBwoDAgIBAgUCBAMDBAEGAQgDAwIGAwUDAwMDAgIFAwQLAgIBAwIDAQEEAwYCBQMFAQcCBQUEAwEJAwIFBQQDAwMFAQIEBgQDAgMDAwYCAwQHAwIECQMFAgIDAgMDBQUFAgUEAQcDBAECAQQDBwMCBAIFAgYDAQMEAwMLAgIDBQUCAwQEBQEFAwUCAQgCBwMFAwMCAwcCCAMECgICBAQCBQcFAgMBDgQHAwQCBQUBAwMGAgICBQIJBgMEAwUBAgYFAwMCAggCAgIGBQIFAwcCAQMFAgEEBwIDCAMDBgMGAQQBBAMHBAIEAwkHBAMHAwQFAwIDAwEIAwIHAgIDBgMFBAIFAwIFBQIDAgULAwUEAgIEBwUHAwICBQMDBAUEAwMCBAEFAgcCAwEBAQMDBAQCAgEBAwEHBwUDAQcDCQEHAw4FBAUCAgICAQMBBAQDCAICBQIGBAMGCAIEBQIEBwIGBAIEBAMBBAIJAQQFBwMEBAUEAQQDAgIFBAEDBQMDBQUFAgYEAggDBwMDAwUCCwMDAgUEBAEEBAYHAgUCAwUCAggFBQEHAgQCBAICAgUCCgICAwgDAwgIBQcGBAcDBQICAwUCCAIDAgMBBAICAgUHBwUDBAIIAgQEAwMGAQcGBAYDAwEIAQMFBgYFBAUCAwIFAgIEAgQCAgUEAgMFAwECAgMDAgUGBwQDBQUDBgICBwIDAgIFAwUCBQMJAgMFCA0GAgUDBwICAgMCBQIDCQMDAwcBBAMBBwMGAwMDBAcDBAgBAggFCAUJAwcLAQIGAwMCBQQBAgICBgIDAQEFAwECAQEDAwUHAwUNBQMDBQMCAgcDAwIBAwIDAgIEAgcDBAIDAgEDAwgFBgMGBwECBwUCAQMHAgMDBQUBAgMCCAsHBAMBAQYDAwMCAwMCBgUHBQICAwUJAwcDBQMDBQEDBQgCAwMDAQQEBAMJAwUDAQMJBAUFBQQDAwICAQIBCQICBAMDAgMCAgMCBAUGAgMFBAIJBgMJAQMHBQQDAgYDAgQCAQYEAQQBBgMDBwQCAgIIBAIJAgQCAgECBQICAggHBAIECgQCBgMCCQMGAgMCAgYBDgMHAgUCAgIFAQICBAMCAwMCAgIEBwEBAgIJBgMCAgIBAgUFCQIHBgIFBAMEAQICBgUDAgQFBAIGBQMDCQIDBAIEBAMCAgcJAwMDCQIEBwIHAwgGAwMIBAMFBQQEBQIDAwMFBwMCAQgIBwIBCAMGCAECBgcCBAQEBQIEAgIDBAIGBAEBAgoDAQEBBQgBAgICAQIDAgEMAQMDBQEDBgMBCQIFBQIEAwMDAwICAgIGBAUCAQUDCAUCDAIBAQcDBwIIBAcCAwQHAQcHAgIBBQEEAgYGBQQDCQIBAwQDBQMKAgcEAwUKBQIDAQYCAwIEAwIDAwQJBgcDAgYFAgEFBAcGAwIFBAECBgMDBQMCAwcDBQEDAgUFAgUFBAIIBQMCAgIDAgcBBwQBAwICAQIBBAkDAwUDAgQCBQMDAgUHBQcCAgIFAgMDAgEFCQIGAgMDAwIHBgMCAgMDBAICBwEDBQYDBgMBAwQDAwUBAQMCBAEFAgMFAQMCBgUCAgMHAwMCBgYCCQoFAQICAwIFAwIDAgMJAwMCAgIGBQMEBQcCCAEFAwUDBwMBAwMEBQIGCQEHAgQDAwcCAwUEBAICBgQDBAMCAwICBggHBQUDAwICAgIOBwQEBAUCAQUDAwIFAgIEAwQEAwYFAgMCBQUBBwMCBQUCAwMCBQIBBQcDAQECAgIGAgICAQQDAwIDBgUDAwMDBAcICgkEAgUIBwQDAgIDAwQFAQMEBQUCAwMDBgMHBQEGBQsFAwMDAQQGAgsCBAQDAwUFAgkDAwMFBQQEBwIIAwQGBQQDBgIFBAYDAwkGBQMCAwoDAgMCCwQGAQUHAwMDAQkBBQMMCQkEAgIGBAQCBAMDCQEDAwMCAwMJAgMDAgcEAwUFBQIBAQgCBQICAgMCAQMBAwMFAgMHCAQGAwIDAwYGAwQFAwMJAwUHBwYDBQMJBwMBAwMBAQQFAwMEAwIGAwMDAgQDBwkDBAIGAwcCAgICBQMFCQUEAwMBBgcBAgEDBQIDAgUDBAQBAgYHBQICAgMFAQIDAgIDBAMIAgIGBQIDAgMEAQEJCQMGAQMJBAcBAgQDAwMDAQUFBgQHBwICAwQDAgICBQQBAwgDBwMFBAsECQEBAgIHAgUCAgEDAgIBAQUDAgkBAwUDBA0CBgIFAQcEBQMCBwQDAwQCAgMDAgYDAQIDAgMDAwUJAwUBBQYCAQIDAwECAwYGAgQCAwIIAgIEAggHBAIBAgIDAwQEAwoEBgUCBQIFBgUDBQICAwMFBAIFBAMHAgMDAgUBAwICAgUDBQIDAwMCAwECBgMDAwECBQgDBAUDAgMFBgIDBgMEAwUBAwEHAwIEAQUFBQUGBAUCAQMFAgUEAgIFAgECAgQDAgEJAgICAwEDAgMEAgMCBQcCDAMCAwMFCQMDAgIHBgkGBAICBQUGBwIDAwEBAwICBgEBBAUHBAgDBAMHBgIFBAQCAgMDAgIDAwMEAgcHAgkCBwIDAQQCAwMDAwQEAQIDAwMFBAYDBgQGAwMCAgcEBQIBAwsGAwgCBwUGAwMHAgIDAgMDCAMFAQkEAQQCBwEDAgcIBAMFAwkDAgMGAwUDBAIDBQIFAwIFAwYBAwQDAggBBAQCAgIDAwkFBQQCBQECAgICBwMGAwEJAgQCCgcFBAQBAwIEAQwCAgkJBAQCBwkFAgMDBQIEAwIJAwICAgECBwIEBQMCAwEHAgICAgMHBwIDAQMCAwQDBwMGAwMDAwICAgIBAgMDAgQCAwMDBQMDAgQCAwIHBAICAgIDBAEFAwQDAwgBBQIEAwMHAQQDBwUFBAMECQUFAwMEAQMDBgMFAgIIAQkCCgMDBAIDBAMDAwICBAIIBgYHAwMEAgMDBgMCAwUCBAIGBAIDBQQCAwULAQIFCAYDAwMDBAkHAgYBAwMGCwMDAgcCBQMBBQIDAwIECQQFAgUDBgMGAwICAgECBAICCAQBBgMDBAUIAgMHAgUCAgMHAwMCAgICBgICAQMDBQMCAQIDAwcFAwUJBAIBAgICBAcDAwIBAgcDAgIJAQEBAwMEBAMCAgECAgICAgkFAgYDAgQCAwUFAwYCAwQFCAgFBAEEAQUBBQQCAwUCAwEGAwcDBwYHBAMDAgMCAwQCAwIDAwMBCAMBBQMCBQQCBwMECQUEAwUHAgICBAUDCQUGCQIJAgMDAgMHBQEDAwYCBAIFBQIDAwEEBAMEAgcBAwIBAwMEBQQDAgIDAgEDBgMEBAkFBgYECQMDAQEDBwkFAgMCCQcEAgEDCQgDBwQFAgQDBQIGCAECBAQEAwMCBQEDBAMCAwICAggCAwIDAwMDAwUDAwECAwIDAgICBwMDBwYIBAcGAgIFBwQDAwUDAQMHBwMCAgECBQEDAwMDBQUCAwUHAwcFBwMFBgICAgUBBwYBAwMDAgMCAgMBAgMCCAMEBQQDAgICAgYFAwMCAQQDAgMBBAQFBAcEAwQFBgQBAgIDAwMJCAMEAgUGAQEIAgEIAgMKBgYCAgUDAgMFBgQCAgQJAgEEAwcEAgIFBgIDAgIBBQQEAwEEBwUGAgUBBQEEAwIDBQkEAggGAgUBAgIIBQYCBAEDBAEDAgMDBwIGAwcEAwYFCAIDDgkDAwIDBgIHBgcFDAMFAgIEAQUBAwQBAwEHAwUGBAICBwIDAgMFAgUGBQMCAgEEBAUDAgUDAgECAQ0DAQYFAwUCAgUGAQIFAgYIAQMKBAUFAwMDAwUFAgcCAwUDAwEBAgQCBAMEAwMDAwICBAQEAgIDAgYCAQMDBAIEBQICBAMDAgMECgIDBQQGBAwCAQIFAwQGAwMDAwMCAwICAwYGAgUCBAMHAQYDBwECAgIBBQMBBQQEAgUBAgMBAwQDAQIGAwIFCQEFAgQDAwUCAwICAQcCAwIDAwIFAwEFBgIBBQICAwIJAgUFBgIEBQECCwQCAgkGAwkDBgIHBQUDAwYDCQQEAwUFDgMFBQIFAQEEBAIDBQQDAgkCBwECAg4DBAMCAgIGBAMHAgEBAwcFAwUGBwMJBQEFAwIJAQEGAwUBAQEDAwMDAgcDAQMFBQMHAwUFAwQCAwkHAwMCBAQJAwIDAgIDAgECBAMHBwIDAwUDAwUEAgQFAwMEAQMECgYDBgYBBAMEAQIHAQMBAwEDAQQEBgYHBwUDBwECAQIJBAMCAgQCAgMEAwMCAgQEAgMDAQQDBAkEAgEFBAMEAQICAgEEAwUFAwUEBQUCBAUEBwUCAwIDAQMDAgcDAQUCAgICAwIDAgUBBgQHAwEHAwMHAwYEAgkJAgMDAwECAgECAwEDAwUEBAEJAwMEBQQBAgMDAwMDBQcCBAYFAwICBAIHCggBBAMDAgMDAgUDAwEEDAIEAQUEBAUEAwIGBAUCBAUFBAMECQIEAwYDAgECBAMBAgUCAgoFAgICAgYGAgQGAQUHBwMFAgUEAwMEBAMCAQQCAwMDAwYDAwUIAgcDAQUCAgMCCAIFBQIDAQQFAwIEAwYEAwMDAgMHAwMJBQcFBQMEBwEIAgUCBAMFAwMGCAgBAQMCAgIDAgYCAwMJBQYJAgEGAwECAwIJAgQCAQMCCwIFAwMCBAIFAgMHAgYJAgYEAwMDCAICBAUCAQYEAwIOBQIEAwYGAgMFBAIGAwQEAgIGBQoEAgMBAwMMBAMEAwUDAwIDAgIDAgUCAgQHAgQCBQMCCAUKAwYGBAkDBQUFAgMHAwIEAwUIAgcEAQIJBwMDAgEDCAMGAgcJBAcDAQQDBAMEAgMLBQUDBAMCAQgCAwYDAgEDAgEBCQMIBAECAwQDBAcDBQIJAgUBCQUHAwMFBwICAwICAwUFAgMDBgQIAgMDAQYFBAMDAwIFAwEHAQMDCAEDAwEEAgMCBQYCAwIDBQQBAwUEAgMDBQQFBAUEAgQEAwICAwUBAwIFAgEBAgUFBAEGAgcFAQgBAQIFBQIEAwMCBQICAQUIBQQEAggBAgIFAgICBgQBAgIFCAYCAQMDAgcFBQMBAgMGBQEEAgIDAwMHCAMEAQIDAgYHAwUFBAUDBAUFAwIFAwYFAQECAgEDAgIHAQcCBQUDAgUCBgcFBQYCBwoDBAMCAQMFBwICAgYEBAMOBQQCBQQCAwIDCQ4GBgcDAwMEBAUDAwYEBwIDBQoCAQQDBwIBBQUEBAMDBQEFAwoDAwEFBgIDAQUCAQYDBgQCBQQDAQEBCQUBBQMCAwQEBQIDAwMCBAgIAwYHAQMDAwYEBQYDAwIDAwUCBwUBAQIDAwgGAwMHBAYDBgMCAwUDAgYEBQYFAwYIAQQEAg4FAwUBAQsEBQMGCAYCCQQHBAMCBwIFAgQFAwECBQIJAgIHBQcFBQICBQICBwQGAgUDBwEEAwIGAQIFBAQFBAYLAwMDAwECAgMEBAIDAwcDBAMIAwYDAwYGBAQDBQIDBgMDBAUGAwQEBAICAwMJBAMCAwMGBgUFAQMCAgICAgQFBAYCAQMCBQIDAwIFBwUFAwIBBgQDCQMCAggEAwEFBAMHBAUBAwIDAgIBBQECAwICAgIBAwMCAQIECAIDBQMFAwICBQkCAgUCBwIDBAMBAgUBBAUFAwMDBQQCBAECBAYHBAMEAgMDAgULCAMCAgUDAgkCCQMBBQMCAwYBBQUJAwUIBAIDAwgHAwQEAgIFAwcGBwUEAgUBAgICAwIDBAIBBgQFAwIHAQUCBwwDBAMHAQECAgIDAgIEAgUEAwUEBQICAwcDAgMEBQIFAQEDAgMFAwUCAgkDBQICAgQCAgQCCQUEAwUBBAQCBQUCAwUDBwUEBAQCAwIEBwIBAgICAwEFAgEDAwIDAwcDAQMJBgkGBAIFAwIDAwMDAwICAwIDAgUEAgIBBAMCBQIBBAUDCQcDAgIDAwIDBwYCCQECAgEFBAIFBwkEAwMFAgkFAgMEAQMDAgUGBgIFCQYDAgMCBgMJAgIEAgIFAgYCAgEDAgEHAgMDAwMFBAQHAwQCAgMFAgQDBAUFBQEDAQMDAwICAgcGBQEEAQIEAwUIAwIEAwoDAgMFBQMIAwIDAwMCBQkCAwQCBAMDBAgGBAIFAgICAQcFAwICCwIEAgMMAwMFBAMCBAIDAwMDBwQFBQYDAgIECAICAwMHBwcGAgkHBQMFCAIDBAMDBQQCBgUHAQcFBAcCAwQCCAIEAgMFBwoCAwcCBQMFAgQBAwMJAgkCBwECBgUEAgYDBQICAwQCAwMFAgIIAQMBAwcFBQMCAgMFAQIEBwYBBwIDAgIBAwICDQMGBgQBAQMGBQcIBQUIAQIGAwMDAwMIAgIHAwICCwMHAQMEBgMDBQUCAwIDBg4DAgUDBQMFAgMGCQQBBwQFAwIDBQgBAgECAQIFAwUBBQUCAwQDAgIDAgIEAwMFAwYFBQUFAgMCAwECAQUFAwUFBgIEAgIBBwkEAgkCCAIIBAMCBAIFBAkCAgIEBAEBBAcBBQUJBAIGBgMFAgIDBAQDAwMCAQIEAgICCQUFBwUCBQQFAQICAgYCBwUGAwYDAwMEAgUDAgIBCAgCBgYFBgcFAQMDBgMEBwUGAwMDBgEEAgQBAwQJBAMFBAECBAIBAwgDAwIHBQMEAwMHCQIDAwcEAwIDBQUGCgIDAgkCBAcDAgECAwkCBQEFBQQDAQUJBgIFBQcHCAEBAQMDBwIGBgQEBQMCAgQJAwMCBAQEAgQEBQMHBQUEAQkDBgMCAQMFBAMDBAMEAgYBAwkBCQEIAwMCBgQHBQQCAQMGAgIDBAMDAgMDBQMCAwYDBQIEAwICAwEBAgMDBAMEBAIEAwMECQUCAQIEAgMDAgYDAgIDAgICBwUEAwMCAgEJAwUFAwUCAgIFAwMBAwMDBAQDAgoCAgEDAwgDBQIFAgQFAwEDAwIEBAECAgcDAgEDAwYCAgMGAwgGCQMDBQEEAwMDAwMCBQICBAICAwQCAwsEBQwCAwMCAgICBAQCBQMEBAICAwQCBgMCAgQCBAICBgECBAIGBggCBwMFAQUJAgUDAwUCCAcGBQIBBQICAQoCAwgDAgICBQMEAQICAgMFAwQHAwEDBgMDBQIDAgMJAwgCCgkHAgUDBQYGAwIEBAIEBQQFAwEFCAQECAQDAQEEAwICAwMDAwMBAgQFBQMFBQQDAQIEAgMGBgUMBwQEBgcCAwIMBAMFBgcFCAEDBgkBCgIDBQUBAgEBBAYDBQMCCQIGAwMGBgIEAQkFAwMHBQEGAwEFAgkFAwIFAgQDAgMCAwYFBQQEBQ4CAwEDCAYDBQcKBQMEAgkHAgUDBAIFBQEDAwIHBwYBBgQEBgIFBAIFAwEFBAIDCwMEAgMCAwUCAgQDAwMHBwkICgQDAwQEBgIEBwICAgMEAgICBQMFAgYCBgcDAwcHAgMHAQYEBAYFAgQIBQMBAwEECQMBBgQHAwICBAUDBQEFAgMEAgEBBgQCBQMEAQECAwMCAwQCBgIKAQICAwMHBQICBAUCAQIEAgMIAwMFAgICAgUCAQQIAwUGCQEEAwQDBwIBBAQCCAQBBwkDAgMDAwMCAggDBgUHBgIBAwQCCQICAwMCBQMCBAUHAgkDAwQHAwIHAwEIAQICAgUFAwQHAwEEAQUDBAkCBAUGBQMHBQMDBQEKBQECBAUFAgMHAgYCAgUDAgQEAgUDAgEDAQYGAQEDBwMCBAMCAwEFAgYCAgMFAwMHBQIBBQMCBAQFAgcFBAQHBAoDAwUDAQQCAwUCBQgCAgYFAgoEAgUCCwIEAgMEAgEDBAQCAwgBBQQDBQIDAwMDBQMCAwQDAwIGBAIDAQEEAgEEAgICAwIFCgICAwUIBwMIAwEDAwMCBgICAwIECQUDCwECAgIEAwwCBgEDAw4BBwIGAwICAgQCBwMCAwQFAwIFAgcCAQQCAwQEAwQDCAcHCQMJAwMCBQMGAwQGBw0CAwUCAwQBAgIBAwICBQIHBQUCAgMCAwMEAgEEAwMCAQcCAwUCAgQCAgUCAwIDAgMHBAUCBAYFAwMFAgIEBQYDAgUFBwUDBQYLAQcBAwIFAwUDAgIEAgECAQYFBAYHBQUFBAEEAwICAwMGAQUIBQcFAwIHBgIFAgMCAgUFAwEDBAIICAEFAggBAgIEAwMDAwYFAQQCCAMCCQIHBgQDAwIDBwMDAwUEAwUEAgUDAQMEAwICAgMCBAMGAwICCAMDAQgBAgICAwUEAwQEAwYCAgUIAwMCBgQDAgUDBAMCCQcCBQUEAgIFBQICAgMDAwIDBQUEAwUDAgYEAgYEAgICAgMDBQcCAgoCAgECBAMFAwIDAwIFAwMFAgEKAgIEBQMDBgIFAQMEBAQGAwUCAgUMBAICBQIBBAMLAwcCAwQDCAIJAwcCCQIDAwMEAwIDBAMCAQMJBwgDAwkCAgYEBAIGAgIDAwQEAwMFBAIDBQMCAw4FAgUCAwcDAwMDAwUBBgIDBwUEAgMCBQUFBAIDBQIBBwEJAgIBBwcCAQICAQIDBAUCAwUCAgIHBQIHBQUCAgcFAwEDBggGAQICAQQCBwUFAgEDAwIGDQMBAwQDAwMCBAQCAgQEBAIDDQEEAwMCBQUFAwMCAgQCAgILBwMHBAQGDQMEAgIDAwMCAgUGAwQDBAEGAwIDBQICBQMFCAMGAgYCBwUHAgMDAgUKAgMCBwIFAgQDBQICAwQHBQcBCQMEAgMHAwICAwUDAQMCBQcCBAIJBQMCBg0EBQICBwIGAg0JAwUHAwMCBAEDDgICAQMDAwMDAgEDAwMEAgEBBQIEBgICBwIHBAIFBgEBAQMFCAMIAwEBAwMCAwcFAQIHAwMEBAYCBAMHBAMJBgkDBAcDAQIHAwMGAQIFAwEBBwgCBQIBAwIDAwIDAwMFAwcCAQMHBgMEAwcGAgQHAgIFBAIDAQMDBgEDAwEGAwQCBAMCAQIDAwEFAgIEBggCBAcCAwQBAgIEAwQIAgMEAgEEAgMEBAMCBQEGAwUDBwUFAQIFCAIEAwIDAwICBQMBBwYHAwQCAgYCAwQDBQcGAgMCAgMBAgEFBAgEAQMBBQEIBQICBgEJBgQCAgYFAgIJAQEFAQUCAgMDAgMCBgYFAwMGBQUIBQECAgcDBAICBAICBQICBAMGBQQCCQMGAwIBAwUDAQMGAgQGAgYCAgICAQIFAgcCAwUDBQICBgoJAwMCBwgDCQcCBgEBAwoDAwkBBwICBQMGCQMBBQYOAwMDBAIDAwMFBQMGAgICAg4HAgIDAgUCBwMFAgMCAgICAwMGBAcFAgcCBQUCAwMCAgcFAgQGAgIBBQMBAgUDAQUFBgEEAQUEBAMJBQUCAgMCAwMBCAUFAwQEAwYDBAkEAgEHAgIDAwUGAgQCAwMCAwcCAwYIAwcJAgQCDQUFBgIHAgIEAwgJAgYCAgMBBAQFCQIDAwIDAwcDAwcFAgUBBAYDAQIJAwYIAgEGCQUEBAMLBgIEBQQDBAMCAQUDAwMDAgMCAgYFAgIEBQUCAgMDDQIDBwUCAgUIDQIBAQICBgUDBQUDBAICAgQCAgMBAgIDAgUEBQIDAgIFAgEFBgUEAgUBCAMECQUCAwIFAQIDBQUDAQIGAgEDAwICBAIDBwIBAQIIBAIFBAQDBQUHBAcCAwoCAwMEAwQCAwMEBwEHBAIFAgEDCAIEBAcDBQUFAgIDAgUEAgYIBQIEAgQBBAIHAwICAwICAQICBAUDBwMDDQIDAgMCAQMCBwUEBQsCAwIBAwMBAwIHAwMFAwIHAwMCBQEDAQUHAwQDAQgCBAMFAgQHAwMDAwIFBAcOCQUDAQMGCAMBAgIBAwIFBAICAQIEAgEBBwUCBwIFAgUHAgIHBA4BBQcCCgQBAQUDAgIEAg==",
          "dtype": "i1"
         },
         "x0": " ",
         "xaxis": "x",
         "y0": " ",
         "yaxis": "y"
        }
       ],
       "layout": {
        "boxmode": "group",
        "legend": {
         "tracegroupgap": 0
        },
        "template": {
         "data": {
          "bar": [
           {
            "error_x": {
             "color": "#2a3f5f"
            },
            "error_y": {
             "color": "#2a3f5f"
            },
            "marker": {
             "line": {
              "color": "#E5ECF6",
              "width": 0.5
             },
             "pattern": {
              "fillmode": "overlay",
              "size": 10,
              "solidity": 0.2
             }
            },
            "type": "bar"
           }
          ],
          "barpolar": [
           {
            "marker": {
             "line": {
              "color": "#E5ECF6",
              "width": 0.5
             },
             "pattern": {
              "fillmode": "overlay",
              "size": 10,
              "solidity": 0.2
             }
            },
            "type": "barpolar"
           }
          ],
          "carpet": [
           {
            "aaxis": {
             "endlinecolor": "#2a3f5f",
             "gridcolor": "white",
             "linecolor": "white",
             "minorgridcolor": "white",
             "startlinecolor": "#2a3f5f"
            },
            "baxis": {
             "endlinecolor": "#2a3f5f",
             "gridcolor": "white",
             "linecolor": "white",
             "minorgridcolor": "white",
             "startlinecolor": "#2a3f5f"
            },
            "type": "carpet"
           }
          ],
          "choropleth": [
           {
            "colorbar": {
             "outlinewidth": 0,
             "ticks": ""
            },
            "type": "choropleth"
           }
          ],
          "contour": [
           {
            "colorbar": {
             "outlinewidth": 0,
             "ticks": ""
            },
            "colorscale": [
             [
              0,
              "#0d0887"
             ],
             [
              0.1111111111111111,
              "#46039f"
             ],
             [
              0.2222222222222222,
              "#7201a8"
             ],
             [
              0.3333333333333333,
              "#9c179e"
             ],
             [
              0.4444444444444444,
              "#bd3786"
             ],
             [
              0.5555555555555556,
              "#d8576b"
             ],
             [
              0.6666666666666666,
              "#ed7953"
             ],
             [
              0.7777777777777778,
              "#fb9f3a"
             ],
             [
              0.8888888888888888,
              "#fdca26"
             ],
             [
              1,
              "#f0f921"
             ]
            ],
            "type": "contour"
           }
          ],
          "contourcarpet": [
           {
            "colorbar": {
             "outlinewidth": 0,
             "ticks": ""
            },
            "type": "contourcarpet"
           }
          ],
          "heatmap": [
           {
            "colorbar": {
             "outlinewidth": 0,
             "ticks": ""
            },
            "colorscale": [
             [
              0,
              "#0d0887"
             ],
             [
              0.1111111111111111,
              "#46039f"
             ],
             [
              0.2222222222222222,
              "#7201a8"
             ],
             [
              0.3333333333333333,
              "#9c179e"
             ],
             [
              0.4444444444444444,
              "#bd3786"
             ],
             [
              0.5555555555555556,
              "#d8576b"
             ],
             [
              0.6666666666666666,
              "#ed7953"
             ],
             [
              0.7777777777777778,
              "#fb9f3a"
             ],
             [
              0.8888888888888888,
              "#fdca26"
             ],
             [
              1,
              "#f0f921"
             ]
            ],
            "type": "heatmap"
           }
          ],
          "histogram": [
           {
            "marker": {
             "pattern": {
              "fillmode": "overlay",
              "size": 10,
              "solidity": 0.2
             }
            },
            "type": "histogram"
           }
          ],
          "histogram2d": [
           {
            "colorbar": {
             "outlinewidth": 0,
             "ticks": ""
            },
            "colorscale": [
             [
              0,
              "#0d0887"
             ],
             [
              0.1111111111111111,
              "#46039f"
             ],
             [
              0.2222222222222222,
              "#7201a8"
             ],
             [
              0.3333333333333333,
              "#9c179e"
             ],
             [
              0.4444444444444444,
              "#bd3786"
             ],
             [
              0.5555555555555556,
              "#d8576b"
             ],
             [
              0.6666666666666666,
              "#ed7953"
             ],
             [
              0.7777777777777778,
              "#fb9f3a"
             ],
             [
              0.8888888888888888,
              "#fdca26"
             ],
             [
              1,
              "#f0f921"
             ]
            ],
            "type": "histogram2d"
           }
          ],
          "histogram2dcontour": [
           {
            "colorbar": {
             "outlinewidth": 0,
             "ticks": ""
            },
            "colorscale": [
             [
              0,
              "#0d0887"
             ],
             [
              0.1111111111111111,
              "#46039f"
             ],
             [
              0.2222222222222222,
              "#7201a8"
             ],
             [
              0.3333333333333333,
              "#9c179e"
             ],
             [
              0.4444444444444444,
              "#bd3786"
             ],
             [
              0.5555555555555556,
              "#d8576b"
             ],
             [
              0.6666666666666666,
              "#ed7953"
             ],
             [
              0.7777777777777778,
              "#fb9f3a"
             ],
             [
              0.8888888888888888,
              "#fdca26"
             ],
             [
              1,
              "#f0f921"
             ]
            ],
            "type": "histogram2dcontour"
           }
          ],
          "mesh3d": [
           {
            "colorbar": {
             "outlinewidth": 0,
             "ticks": ""
            },
            "type": "mesh3d"
           }
          ],
          "parcoords": [
           {
            "line": {
             "colorbar": {
              "outlinewidth": 0,
              "ticks": ""
             }
            },
            "type": "parcoords"
           }
          ],
          "pie": [
           {
            "automargin": true,
            "type": "pie"
           }
          ],
          "scatter": [
           {
            "fillpattern": {
             "fillmode": "overlay",
             "size": 10,
             "solidity": 0.2
            },
            "type": "scatter"
           }
          ],
          "scatter3d": [
           {
            "line": {
             "colorbar": {
              "outlinewidth": 0,
              "ticks": ""
             }
            },
            "marker": {
             "colorbar": {
              "outlinewidth": 0,
              "ticks": ""
             }
            },
            "type": "scatter3d"
           }
          ],
          "scattercarpet": [
           {
            "marker": {
             "colorbar": {
              "outlinewidth": 0,
              "ticks": ""
             }
            },
            "type": "scattercarpet"
           }
          ],
          "scattergeo": [
           {
            "marker": {
             "colorbar": {
              "outlinewidth": 0,
              "ticks": ""
             }
            },
            "type": "scattergeo"
           }
          ],
          "scattergl": [
           {
            "marker": {
             "colorbar": {
              "outlinewidth": 0,
              "ticks": ""
             }
            },
            "type": "scattergl"
           }
          ],
          "scattermap": [
           {
            "marker": {
             "colorbar": {
              "outlinewidth": 0,
              "ticks": ""
             }
            },
            "type": "scattermap"
           }
          ],
          "scattermapbox": [
           {
            "marker": {
             "colorbar": {
              "outlinewidth": 0,
              "ticks": ""
             }
            },
            "type": "scattermapbox"
           }
          ],
          "scatterpolar": [
           {
            "marker": {
             "colorbar": {
              "outlinewidth": 0,
              "ticks": ""
             }
            },
            "type": "scatterpolar"
           }
          ],
          "scatterpolargl": [
           {
            "marker": {
             "colorbar": {
              "outlinewidth": 0,
              "ticks": ""
             }
            },
            "type": "scatterpolargl"
           }
          ],
          "scatterternary": [
           {
            "marker": {
             "colorbar": {
              "outlinewidth": 0,
              "ticks": ""
             }
            },
            "type": "scatterternary"
           }
          ],
          "surface": [
           {
            "colorbar": {
             "outlinewidth": 0,
             "ticks": ""
            },
            "colorscale": [
             [
              0,
              "#0d0887"
             ],
             [
              0.1111111111111111,
              "#46039f"
             ],
             [
              0.2222222222222222,
              "#7201a8"
             ],
             [
              0.3333333333333333,
              "#9c179e"
             ],
             [
              0.4444444444444444,
              "#bd3786"
             ],
             [
              0.5555555555555556,
              "#d8576b"
             ],
             [
              0.6666666666666666,
              "#ed7953"
             ],
             [
              0.7777777777777778,
              "#fb9f3a"
             ],
             [
              0.8888888888888888,
              "#fdca26"
             ],
             [
              1,
              "#f0f921"
             ]
            ],
            "type": "surface"
           }
          ],
          "table": [
           {
            "cells": {
             "fill": {
              "color": "#EBF0F8"
             },
             "line": {
              "color": "white"
             }
            },
            "header": {
             "fill": {
              "color": "#C8D4E3"
             },
             "line": {
              "color": "white"
             }
            },
            "type": "table"
           }
          ]
         },
         "layout": {
          "annotationdefaults": {
           "arrowcolor": "#2a3f5f",
           "arrowhead": 0,
           "arrowwidth": 1
          },
          "autotypenumbers": "strict",
          "coloraxis": {
           "colorbar": {
            "outlinewidth": 0,
            "ticks": ""
           }
          },
          "colorscale": {
           "diverging": [
            [
             0,
             "#8e0152"
            ],
            [
             0.1,
             "#c51b7d"
            ],
            [
             0.2,
             "#de77ae"
            ],
            [
             0.3,
             "#f1b6da"
            ],
            [
             0.4,
             "#fde0ef"
            ],
            [
             0.5,
             "#f7f7f7"
            ],
            [
             0.6,
             "#e6f5d0"
            ],
            [
             0.7,
             "#b8e186"
            ],
            [
             0.8,
             "#7fbc41"
            ],
            [
             0.9,
             "#4d9221"
            ],
            [
             1,
             "#276419"
            ]
           ],
           "sequential": [
            [
             0,
             "#0d0887"
            ],
            [
             0.1111111111111111,
             "#46039f"
            ],
            [
             0.2222222222222222,
             "#7201a8"
            ],
            [
             0.3333333333333333,
             "#9c179e"
            ],
            [
             0.4444444444444444,
             "#bd3786"
            ],
            [
             0.5555555555555556,
             "#d8576b"
            ],
            [
             0.6666666666666666,
             "#ed7953"
            ],
            [
             0.7777777777777778,
             "#fb9f3a"
            ],
            [
             0.8888888888888888,
             "#fdca26"
            ],
            [
             1,
             "#f0f921"
            ]
           ],
           "sequentialminus": [
            [
             0,
             "#0d0887"
            ],
            [
             0.1111111111111111,
             "#46039f"
            ],
            [
             0.2222222222222222,
             "#7201a8"
            ],
            [
             0.3333333333333333,
             "#9c179e"
            ],
            [
             0.4444444444444444,
             "#bd3786"
            ],
            [
             0.5555555555555556,
             "#d8576b"
            ],
            [
             0.6666666666666666,
             "#ed7953"
            ],
            [
             0.7777777777777778,
             "#fb9f3a"
            ],
            [
             0.8888888888888888,
             "#fdca26"
            ],
            [
             1,
             "#f0f921"
            ]
           ]
          },
          "colorway": [
           "#636efa",
           "#EF553B",
           "#00cc96",
           "#ab63fa",
           "#FFA15A",
           "#19d3f3",
           "#FF6692",
           "#B6E880",
           "#FF97FF",
           "#FECB52"
          ],
          "font": {
           "color": "#2a3f5f"
          },
          "geo": {
           "bgcolor": "white",
           "lakecolor": "white",
           "landcolor": "#E5ECF6",
           "showlakes": true,
           "showland": true,
           "subunitcolor": "white"
          },
          "hoverlabel": {
           "align": "left"
          },
          "hovermode": "closest",
          "mapbox": {
           "style": "light"
          },
          "paper_bgcolor": "white",
          "plot_bgcolor": "#E5ECF6",
          "polar": {
           "angularaxis": {
            "gridcolor": "white",
            "linecolor": "white",
            "ticks": ""
           },
           "bgcolor": "#E5ECF6",
           "radialaxis": {
            "gridcolor": "white",
            "linecolor": "white",
            "ticks": ""
           }
          },
          "scene": {
           "xaxis": {
            "backgroundcolor": "#E5ECF6",
            "gridcolor": "white",
            "gridwidth": 2,
            "linecolor": "white",
            "showbackground": true,
            "ticks": "",
            "zerolinecolor": "white"
           },
           "yaxis": {
            "backgroundcolor": "#E5ECF6",
            "gridcolor": "white",
            "gridwidth": 2,
            "linecolor": "white",
            "showbackground": true,
            "ticks": "",
            "zerolinecolor": "white"
           },
           "zaxis": {
            "backgroundcolor": "#E5ECF6",
            "gridcolor": "white",
            "gridwidth": 2,
            "linecolor": "white",
            "showbackground": true,
            "ticks": "",
            "zerolinecolor": "white"
           }
          },
          "shapedefaults": {
           "line": {
            "color": "#2a3f5f"
           }
          },
          "ternary": {
           "aaxis": {
            "gridcolor": "white",
            "linecolor": "white",
            "ticks": ""
           },
           "baxis": {
            "gridcolor": "white",
            "linecolor": "white",
            "ticks": ""
           },
           "bgcolor": "#E5ECF6",
           "caxis": {
            "gridcolor": "white",
            "linecolor": "white",
            "ticks": ""
           }
          },
          "title": {
           "x": 0.05
          },
          "xaxis": {
           "automargin": true,
           "gridcolor": "white",
           "linecolor": "white",
           "ticks": "",
           "title": {
            "standoff": 15
           },
           "zerolinecolor": "white",
           "zerolinewidth": 2
          },
          "yaxis": {
           "automargin": true,
           "gridcolor": "white",
           "linecolor": "white",
           "ticks": "",
           "title": {
            "standoff": 15
           },
           "zerolinecolor": "white",
           "zerolinewidth": 2
          }
         }
        },
        "title": {
         "text": "Quantity Outliers"
        },
        "xaxis": {
         "anchor": "y",
         "domain": [
          0,
          1
         ],
         "title": {
          "text": "Quantity"
         }
        },
        "yaxis": {
         "anchor": "x",
         "domain": [
          0,
          1
         ]
        }
       }
      }
     },
     "metadata": {},
     "output_type": "display_data"
    }
   ],
   "source": [
    "# Quantity Boxplot\n",
    "fig = px.box(df, x='Quantity', title='Quantity Outliers')\n",
    "fig.show()"
   ]
  },
  {
   "cell_type": "markdown",
   "metadata": {},
   "source": [
    "- **Quantity:**  \n",
    "  - The max is about 4 times higher than the mean, while the min is reasonable.  \n",
    "  - Higher quantities are in products typically bought in bulk, like papers, chairs, and binders.  \n",
    "  - No unusual patterns, so values are reasonable for the category."
   ]
  },
  {
   "cell_type": "code",
   "execution_count": 20,
   "metadata": {},
   "outputs": [
    {
     "data": {
      "application/vnd.plotly.v1+json": {
       "config": {
        "plotlyServerURL": "https://plot.ly"
       },
       "data": [
        {
         "alignmentgroup": "True",
         "hovertemplate": "Profit=%{x}<extra></extra>",
         "legendgroup": "",
         "marker": {
          "color": "#636efa"
         },
         "name": "",
         "notched": false,
         "offsetgroup": "",
         "orientation": "h",
         "showlegend": false,
         "type": "box",
         "x": {
          "bdata": "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",
          "dtype": "f8"
         },
         "x0": " ",
         "xaxis": "x",
         "y0": " ",
         "yaxis": "y"
        }
       ],
       "layout": {
        "boxmode": "group",
        "legend": {
         "tracegroupgap": 0
        },
        "template": {
         "data": {
          "bar": [
           {
            "error_x": {
             "color": "#2a3f5f"
            },
            "error_y": {
             "color": "#2a3f5f"
            },
            "marker": {
             "line": {
              "color": "#E5ECF6",
              "width": 0.5
             },
             "pattern": {
              "fillmode": "overlay",
              "size": 10,
              "solidity": 0.2
             }
            },
            "type": "bar"
           }
          ],
          "barpolar": [
           {
            "marker": {
             "line": {
              "color": "#E5ECF6",
              "width": 0.5
             },
             "pattern": {
              "fillmode": "overlay",
              "size": 10,
              "solidity": 0.2
             }
            },
            "type": "barpolar"
           }
          ],
          "carpet": [
           {
            "aaxis": {
             "endlinecolor": "#2a3f5f",
             "gridcolor": "white",
             "linecolor": "white",
             "minorgridcolor": "white",
             "startlinecolor": "#2a3f5f"
            },
            "baxis": {
             "endlinecolor": "#2a3f5f",
             "gridcolor": "white",
             "linecolor": "white",
             "minorgridcolor": "white",
             "startlinecolor": "#2a3f5f"
            },
            "type": "carpet"
           }
          ],
          "choropleth": [
           {
            "colorbar": {
             "outlinewidth": 0,
             "ticks": ""
            },
            "type": "choropleth"
           }
          ],
          "contour": [
           {
            "colorbar": {
             "outlinewidth": 0,
             "ticks": ""
            },
            "colorscale": [
             [
              0,
              "#0d0887"
             ],
             [
              0.1111111111111111,
              "#46039f"
             ],
             [
              0.2222222222222222,
              "#7201a8"
             ],
             [
              0.3333333333333333,
              "#9c179e"
             ],
             [
              0.4444444444444444,
              "#bd3786"
             ],
             [
              0.5555555555555556,
              "#d8576b"
             ],
             [
              0.6666666666666666,
              "#ed7953"
             ],
             [
              0.7777777777777778,
              "#fb9f3a"
             ],
             [
              0.8888888888888888,
              "#fdca26"
             ],
             [
              1,
              "#f0f921"
             ]
            ],
            "type": "contour"
           }
          ],
          "contourcarpet": [
           {
            "colorbar": {
             "outlinewidth": 0,
             "ticks": ""
            },
            "type": "contourcarpet"
           }
          ],
          "heatmap": [
           {
            "colorbar": {
             "outlinewidth": 0,
             "ticks": ""
            },
            "colorscale": [
             [
              0,
              "#0d0887"
             ],
             [
              0.1111111111111111,
              "#46039f"
             ],
             [
              0.2222222222222222,
              "#7201a8"
             ],
             [
              0.3333333333333333,
              "#9c179e"
             ],
             [
              0.4444444444444444,
              "#bd3786"
             ],
             [
              0.5555555555555556,
              "#d8576b"
             ],
             [
              0.6666666666666666,
              "#ed7953"
             ],
             [
              0.7777777777777778,
              "#fb9f3a"
             ],
             [
              0.8888888888888888,
              "#fdca26"
             ],
             [
              1,
              "#f0f921"
             ]
            ],
            "type": "heatmap"
           }
          ],
          "histogram": [
           {
            "marker": {
             "pattern": {
              "fillmode": "overlay",
              "size": 10,
              "solidity": 0.2
             }
            },
            "type": "histogram"
           }
          ],
          "histogram2d": [
           {
            "colorbar": {
             "outlinewidth": 0,
             "ticks": ""
            },
            "colorscale": [
             [
              0,
              "#0d0887"
             ],
             [
              0.1111111111111111,
              "#46039f"
             ],
             [
              0.2222222222222222,
              "#7201a8"
             ],
             [
              0.3333333333333333,
              "#9c179e"
             ],
             [
              0.4444444444444444,
              "#bd3786"
             ],
             [
              0.5555555555555556,
              "#d8576b"
             ],
             [
              0.6666666666666666,
              "#ed7953"
             ],
             [
              0.7777777777777778,
              "#fb9f3a"
             ],
             [
              0.8888888888888888,
              "#fdca26"
             ],
             [
              1,
              "#f0f921"
             ]
            ],
            "type": "histogram2d"
           }
          ],
          "histogram2dcontour": [
           {
            "colorbar": {
             "outlinewidth": 0,
             "ticks": ""
            },
            "colorscale": [
             [
              0,
              "#0d0887"
             ],
             [
              0.1111111111111111,
              "#46039f"
             ],
             [
              0.2222222222222222,
              "#7201a8"
             ],
             [
              0.3333333333333333,
              "#9c179e"
             ],
             [
              0.4444444444444444,
              "#bd3786"
             ],
             [
              0.5555555555555556,
              "#d8576b"
             ],
             [
              0.6666666666666666,
              "#ed7953"
             ],
             [
              0.7777777777777778,
              "#fb9f3a"
             ],
             [
              0.8888888888888888,
              "#fdca26"
             ],
             [
              1,
              "#f0f921"
             ]
            ],
            "type": "histogram2dcontour"
           }
          ],
          "mesh3d": [
           {
            "colorbar": {
             "outlinewidth": 0,
             "ticks": ""
            },
            "type": "mesh3d"
           }
          ],
          "parcoords": [
           {
            "line": {
             "colorbar": {
              "outlinewidth": 0,
              "ticks": ""
             }
            },
            "type": "parcoords"
           }
          ],
          "pie": [
           {
            "automargin": true,
            "type": "pie"
           }
          ],
          "scatter": [
           {
            "fillpattern": {
             "fillmode": "overlay",
             "size": 10,
             "solidity": 0.2
            },
            "type": "scatter"
           }
          ],
          "scatter3d": [
           {
            "line": {
             "colorbar": {
              "outlinewidth": 0,
              "ticks": ""
             }
            },
            "marker": {
             "colorbar": {
              "outlinewidth": 0,
              "ticks": ""
             }
            },
            "type": "scatter3d"
           }
          ],
          "scattercarpet": [
           {
            "marker": {
             "colorbar": {
              "outlinewidth": 0,
              "ticks": ""
             }
            },
            "type": "scattercarpet"
           }
          ],
          "scattergeo": [
           {
            "marker": {
             "colorbar": {
              "outlinewidth": 0,
              "ticks": ""
             }
            },
            "type": "scattergeo"
           }
          ],
          "scattergl": [
           {
            "marker": {
             "colorbar": {
              "outlinewidth": 0,
              "ticks": ""
             }
            },
            "type": "scattergl"
           }
          ],
          "scattermap": [
           {
            "marker": {
             "colorbar": {
              "outlinewidth": 0,
              "ticks": ""
             }
            },
            "type": "scattermap"
           }
          ],
          "scattermapbox": [
           {
            "marker": {
             "colorbar": {
              "outlinewidth": 0,
              "ticks": ""
             }
            },
            "type": "scattermapbox"
           }
          ],
          "scatterpolar": [
           {
            "marker": {
             "colorbar": {
              "outlinewidth": 0,
              "ticks": ""
             }
            },
            "type": "scatterpolar"
           }
          ],
          "scatterpolargl": [
           {
            "marker": {
             "colorbar": {
              "outlinewidth": 0,
              "ticks": ""
             }
            },
            "type": "scatterpolargl"
           }
          ],
          "scatterternary": [
           {
            "marker": {
             "colorbar": {
              "outlinewidth": 0,
              "ticks": ""
             }
            },
            "type": "scatterternary"
           }
          ],
          "surface": [
           {
            "colorbar": {
             "outlinewidth": 0,
             "ticks": ""
            },
            "colorscale": [
             [
              0,
              "#0d0887"
             ],
             [
              0.1111111111111111,
              "#46039f"
             ],
             [
              0.2222222222222222,
              "#7201a8"
             ],
             [
              0.3333333333333333,
              "#9c179e"
             ],
             [
              0.4444444444444444,
              "#bd3786"
             ],
             [
              0.5555555555555556,
              "#d8576b"
             ],
             [
              0.6666666666666666,
              "#ed7953"
             ],
             [
              0.7777777777777778,
              "#fb9f3a"
             ],
             [
              0.8888888888888888,
              "#fdca26"
             ],
             [
              1,
              "#f0f921"
             ]
            ],
            "type": "surface"
           }
          ],
          "table": [
           {
            "cells": {
             "fill": {
              "color": "#EBF0F8"
             },
             "line": {
              "color": "white"
             }
            },
            "header": {
             "fill": {
              "color": "#C8D4E3"
             },
             "line": {
              "color": "white"
             }
            },
            "type": "table"
           }
          ]
         },
         "layout": {
          "annotationdefaults": {
           "arrowcolor": "#2a3f5f",
           "arrowhead": 0,
           "arrowwidth": 1
          },
          "autotypenumbers": "strict",
          "coloraxis": {
           "colorbar": {
            "outlinewidth": 0,
            "ticks": ""
           }
          },
          "colorscale": {
           "diverging": [
            [
             0,
             "#8e0152"
            ],
            [
             0.1,
             "#c51b7d"
            ],
            [
             0.2,
             "#de77ae"
            ],
            [
             0.3,
             "#f1b6da"
            ],
            [
             0.4,
             "#fde0ef"
            ],
            [
             0.5,
             "#f7f7f7"
            ],
            [
             0.6,
             "#e6f5d0"
            ],
            [
             0.7,
             "#b8e186"
            ],
            [
             0.8,
             "#7fbc41"
            ],
            [
             0.9,
             "#4d9221"
            ],
            [
             1,
             "#276419"
            ]
           ],
           "sequential": [
            [
             0,
             "#0d0887"
            ],
            [
             0.1111111111111111,
             "#46039f"
            ],
            [
             0.2222222222222222,
             "#7201a8"
            ],
            [
             0.3333333333333333,
             "#9c179e"
            ],
            [
             0.4444444444444444,
             "#bd3786"
            ],
            [
             0.5555555555555556,
             "#d8576b"
            ],
            [
             0.6666666666666666,
             "#ed7953"
            ],
            [
             0.7777777777777778,
             "#fb9f3a"
            ],
            [
             0.8888888888888888,
             "#fdca26"
            ],
            [
             1,
             "#f0f921"
            ]
           ],
           "sequentialminus": [
            [
             0,
             "#0d0887"
            ],
            [
             0.1111111111111111,
             "#46039f"
            ],
            [
             0.2222222222222222,
             "#7201a8"
            ],
            [
             0.3333333333333333,
             "#9c179e"
            ],
            [
             0.4444444444444444,
             "#bd3786"
            ],
            [
             0.5555555555555556,
             "#d8576b"
            ],
            [
             0.6666666666666666,
             "#ed7953"
            ],
            [
             0.7777777777777778,
             "#fb9f3a"
            ],
            [
             0.8888888888888888,
             "#fdca26"
            ],
            [
             1,
             "#f0f921"
            ]
           ]
          },
          "colorway": [
           "#636efa",
           "#EF553B",
           "#00cc96",
           "#ab63fa",
           "#FFA15A",
           "#19d3f3",
           "#FF6692",
           "#B6E880",
           "#FF97FF",
           "#FECB52"
          ],
          "font": {
           "color": "#2a3f5f"
          },
          "geo": {
           "bgcolor": "white",
           "lakecolor": "white",
           "landcolor": "#E5ECF6",
           "showlakes": true,
           "showland": true,
           "subunitcolor": "white"
          },
          "hoverlabel": {
           "align": "left"
          },
          "hovermode": "closest",
          "mapbox": {
           "style": "light"
          },
          "paper_bgcolor": "white",
          "plot_bgcolor": "#E5ECF6",
          "polar": {
           "angularaxis": {
            "gridcolor": "white",
            "linecolor": "white",
            "ticks": ""
           },
           "bgcolor": "#E5ECF6",
           "radialaxis": {
            "gridcolor": "white",
            "linecolor": "white",
            "ticks": ""
           }
          },
          "scene": {
           "xaxis": {
            "backgroundcolor": "#E5ECF6",
            "gridcolor": "white",
            "gridwidth": 2,
            "linecolor": "white",
            "showbackground": true,
            "ticks": "",
            "zerolinecolor": "white"
           },
           "yaxis": {
            "backgroundcolor": "#E5ECF6",
            "gridcolor": "white",
            "gridwidth": 2,
            "linecolor": "white",
            "showbackground": true,
            "ticks": "",
            "zerolinecolor": "white"
           },
           "zaxis": {
            "backgroundcolor": "#E5ECF6",
            "gridcolor": "white",
            "gridwidth": 2,
            "linecolor": "white",
            "showbackground": true,
            "ticks": "",
            "zerolinecolor": "white"
           }
          },
          "shapedefaults": {
           "line": {
            "color": "#2a3f5f"
           }
          },
          "ternary": {
           "aaxis": {
            "gridcolor": "white",
            "linecolor": "white",
            "ticks": ""
           },
           "baxis": {
            "gridcolor": "white",
            "linecolor": "white",
            "ticks": ""
           },
           "bgcolor": "#E5ECF6",
           "caxis": {
            "gridcolor": "white",
            "linecolor": "white",
            "ticks": ""
           }
          },
          "title": {
           "x": 0.05
          },
          "xaxis": {
           "automargin": true,
           "gridcolor": "white",
           "linecolor": "white",
           "ticks": "",
           "title": {
            "standoff": 15
           },
           "zerolinecolor": "white",
           "zerolinewidth": 2
          },
          "yaxis": {
           "automargin": true,
           "gridcolor": "white",
           "linecolor": "white",
           "ticks": "",
           "title": {
            "standoff": 15
           },
           "zerolinecolor": "white",
           "zerolinewidth": 2
          }
         }
        },
        "title": {
         "text": "Profit Outliers"
        },
        "xaxis": {
         "anchor": "y",
         "domain": [
          0,
          1
         ],
         "title": {
          "text": "Profit"
         }
        },
        "yaxis": {
         "anchor": "x",
         "domain": [
          0,
          1
         ]
        }
       }
      }
     },
     "metadata": {},
     "output_type": "display_data"
    }
   ],
   "source": [
    "# Profit Boxplot\n",
    "fig = px.box(df, x='Profit', title='Profit Outliers')\n",
    "fig.show()"
   ]
  },
  {
   "cell_type": "markdown",
   "metadata": {},
   "source": [
    "- **Profit:**  \n",
    "  - Negative profit values indicate a loss, mostly linked to high-discount sales.  \n",
    "  - This aligns with business strategy (e.g., clearance or promotional discounts), so these values are valid.  \n",
    "\n",
    "**Conclusion:**  \n",
    "- Although statistical outliers are present, they make sense within the business context.  \n",
    "- No removals are necessary as they reflect real-world sales patterns and strategic discounts."
   ]
  },
  {
   "cell_type": "code",
   "execution_count": 13,
   "metadata": {},
   "outputs": [],
   "source": [
    "# Create Year and Month columns from Order Date\n",
    "df['Year'] = df['Order Date'].dt.year\n",
    "df['Month'] = df['Order Date'].dt.month"
   ]
  },
  {
   "cell_type": "code",
   "execution_count": 14,
   "metadata": {},
   "outputs": [
    {
     "data": {
      "text/html": [
       "<div>\n",
       "<style scoped>\n",
       "    .dataframe tbody tr th:only-of-type {\n",
       "        vertical-align: middle;\n",
       "    }\n",
       "\n",
       "    .dataframe tbody tr th {\n",
       "        vertical-align: top;\n",
       "    }\n",
       "\n",
       "    .dataframe thead th {\n",
       "        text-align: right;\n",
       "    }\n",
       "</style>\n",
       "<table border=\"1\" class=\"dataframe\">\n",
       "  <thead>\n",
       "    <tr style=\"text-align: right;\">\n",
       "      <th></th>\n",
       "      <th>Row ID</th>\n",
       "      <th>Order ID</th>\n",
       "      <th>Order Date</th>\n",
       "      <th>Ship Date</th>\n",
       "      <th>Ship Mode</th>\n",
       "      <th>Customer ID</th>\n",
       "      <th>Customer Name</th>\n",
       "      <th>Segment</th>\n",
       "      <th>Country</th>\n",
       "      <th>City</th>\n",
       "      <th>...</th>\n",
       "      <th>Product ID</th>\n",
       "      <th>Category</th>\n",
       "      <th>Sub-Category</th>\n",
       "      <th>Product Name</th>\n",
       "      <th>Sales</th>\n",
       "      <th>Quantity</th>\n",
       "      <th>Discount</th>\n",
       "      <th>Profit</th>\n",
       "      <th>Year</th>\n",
       "      <th>Month</th>\n",
       "    </tr>\n",
       "  </thead>\n",
       "  <tbody>\n",
       "    <tr>\n",
       "      <th>0</th>\n",
       "      <td>1</td>\n",
       "      <td>CA-2016-152156</td>\n",
       "      <td>2016-11-08</td>\n",
       "      <td>2016-11-11</td>\n",
       "      <td>Second Class</td>\n",
       "      <td>CG-12520</td>\n",
       "      <td>Claire Gute</td>\n",
       "      <td>Consumer</td>\n",
       "      <td>United States</td>\n",
       "      <td>Henderson</td>\n",
       "      <td>...</td>\n",
       "      <td>FUR-BO-10001798</td>\n",
       "      <td>Furniture</td>\n",
       "      <td>Bookcases</td>\n",
       "      <td>Bush Somerset Collection Bookcase</td>\n",
       "      <td>261.9600</td>\n",
       "      <td>2</td>\n",
       "      <td>0.00</td>\n",
       "      <td>41.9136</td>\n",
       "      <td>2016</td>\n",
       "      <td>11</td>\n",
       "    </tr>\n",
       "    <tr>\n",
       "      <th>1</th>\n",
       "      <td>2</td>\n",
       "      <td>CA-2016-152156</td>\n",
       "      <td>2016-11-08</td>\n",
       "      <td>2016-11-11</td>\n",
       "      <td>Second Class</td>\n",
       "      <td>CG-12520</td>\n",
       "      <td>Claire Gute</td>\n",
       "      <td>Consumer</td>\n",
       "      <td>United States</td>\n",
       "      <td>Henderson</td>\n",
       "      <td>...</td>\n",
       "      <td>FUR-CH-10000454</td>\n",
       "      <td>Furniture</td>\n",
       "      <td>Chairs</td>\n",
       "      <td>Hon Deluxe Fabric Upholstered Stacking Chairs,...</td>\n",
       "      <td>731.9400</td>\n",
       "      <td>3</td>\n",
       "      <td>0.00</td>\n",
       "      <td>219.5820</td>\n",
       "      <td>2016</td>\n",
       "      <td>11</td>\n",
       "    </tr>\n",
       "    <tr>\n",
       "      <th>2</th>\n",
       "      <td>3</td>\n",
       "      <td>CA-2016-138688</td>\n",
       "      <td>2016-06-12</td>\n",
       "      <td>2016-06-16</td>\n",
       "      <td>Second Class</td>\n",
       "      <td>DV-13045</td>\n",
       "      <td>Darrin Van Huff</td>\n",
       "      <td>Corporate</td>\n",
       "      <td>United States</td>\n",
       "      <td>Los Angeles</td>\n",
       "      <td>...</td>\n",
       "      <td>OFF-LA-10000240</td>\n",
       "      <td>Office Supplies</td>\n",
       "      <td>Labels</td>\n",
       "      <td>Self-Adhesive Address Labels for Typewriters b...</td>\n",
       "      <td>14.6200</td>\n",
       "      <td>2</td>\n",
       "      <td>0.00</td>\n",
       "      <td>6.8714</td>\n",
       "      <td>2016</td>\n",
       "      <td>6</td>\n",
       "    </tr>\n",
       "    <tr>\n",
       "      <th>3</th>\n",
       "      <td>4</td>\n",
       "      <td>US-2015-108966</td>\n",
       "      <td>2015-10-11</td>\n",
       "      <td>2015-10-18</td>\n",
       "      <td>Standard Class</td>\n",
       "      <td>SO-20335</td>\n",
       "      <td>Sean O'Donnell</td>\n",
       "      <td>Consumer</td>\n",
       "      <td>United States</td>\n",
       "      <td>Fort Lauderdale</td>\n",
       "      <td>...</td>\n",
       "      <td>FUR-TA-10000577</td>\n",
       "      <td>Furniture</td>\n",
       "      <td>Tables</td>\n",
       "      <td>Bretford CR4500 Series Slim Rectangular Table</td>\n",
       "      <td>957.5775</td>\n",
       "      <td>5</td>\n",
       "      <td>0.45</td>\n",
       "      <td>-383.0310</td>\n",
       "      <td>2015</td>\n",
       "      <td>10</td>\n",
       "    </tr>\n",
       "    <tr>\n",
       "      <th>4</th>\n",
       "      <td>5</td>\n",
       "      <td>US-2015-108966</td>\n",
       "      <td>2015-10-11</td>\n",
       "      <td>2015-10-18</td>\n",
       "      <td>Standard Class</td>\n",
       "      <td>SO-20335</td>\n",
       "      <td>Sean O'Donnell</td>\n",
       "      <td>Consumer</td>\n",
       "      <td>United States</td>\n",
       "      <td>Fort Lauderdale</td>\n",
       "      <td>...</td>\n",
       "      <td>OFF-ST-10000760</td>\n",
       "      <td>Office Supplies</td>\n",
       "      <td>Storage</td>\n",
       "      <td>Eldon Fold 'N Roll Cart System</td>\n",
       "      <td>22.3680</td>\n",
       "      <td>2</td>\n",
       "      <td>0.20</td>\n",
       "      <td>2.5164</td>\n",
       "      <td>2015</td>\n",
       "      <td>10</td>\n",
       "    </tr>\n",
       "  </tbody>\n",
       "</table>\n",
       "<p>5 rows × 23 columns</p>\n",
       "</div>"
      ],
      "text/plain": [
       "   Row ID        Order ID Order Date  Ship Date       Ship Mode Customer ID  \\\n",
       "0       1  CA-2016-152156 2016-11-08 2016-11-11    Second Class    CG-12520   \n",
       "1       2  CA-2016-152156 2016-11-08 2016-11-11    Second Class    CG-12520   \n",
       "2       3  CA-2016-138688 2016-06-12 2016-06-16    Second Class    DV-13045   \n",
       "3       4  US-2015-108966 2015-10-11 2015-10-18  Standard Class    SO-20335   \n",
       "4       5  US-2015-108966 2015-10-11 2015-10-18  Standard Class    SO-20335   \n",
       "\n",
       "     Customer Name    Segment        Country             City  ...  \\\n",
       "0      Claire Gute   Consumer  United States        Henderson  ...   \n",
       "1      Claire Gute   Consumer  United States        Henderson  ...   \n",
       "2  Darrin Van Huff  Corporate  United States      Los Angeles  ...   \n",
       "3   Sean O'Donnell   Consumer  United States  Fort Lauderdale  ...   \n",
       "4   Sean O'Donnell   Consumer  United States  Fort Lauderdale  ...   \n",
       "\n",
       "        Product ID         Category Sub-Category  \\\n",
       "0  FUR-BO-10001798        Furniture    Bookcases   \n",
       "1  FUR-CH-10000454        Furniture       Chairs   \n",
       "2  OFF-LA-10000240  Office Supplies       Labels   \n",
       "3  FUR-TA-10000577        Furniture       Tables   \n",
       "4  OFF-ST-10000760  Office Supplies      Storage   \n",
       "\n",
       "                                        Product Name     Sales Quantity  \\\n",
       "0                  Bush Somerset Collection Bookcase  261.9600        2   \n",
       "1  Hon Deluxe Fabric Upholstered Stacking Chairs,...  731.9400        3   \n",
       "2  Self-Adhesive Address Labels for Typewriters b...   14.6200        2   \n",
       "3      Bretford CR4500 Series Slim Rectangular Table  957.5775        5   \n",
       "4                     Eldon Fold 'N Roll Cart System   22.3680        2   \n",
       "\n",
       "  Discount    Profit  Year  Month  \n",
       "0     0.00   41.9136  2016     11  \n",
       "1     0.00  219.5820  2016     11  \n",
       "2     0.00    6.8714  2016      6  \n",
       "3     0.45 -383.0310  2015     10  \n",
       "4     0.20    2.5164  2015     10  \n",
       "\n",
       "[5 rows x 23 columns]"
      ]
     },
     "execution_count": 14,
     "metadata": {},
     "output_type": "execute_result"
    }
   ],
   "source": [
    "df.head()"
   ]
  },
  {
   "cell_type": "code",
   "execution_count": 15,
   "metadata": {},
   "outputs": [],
   "source": [
    "# Calculate the average sales for each month in each year\n",
    "avg_monthly_sales = df.groupby(['Year', 'Month'])['Sales'].mean().reset_index()\n",
    "\n",
    "# Create a Date column for plotting\n",
    "avg_monthly_sales['Date'] = pd.to_datetime(avg_monthly_sales[['Year', 'Month']].assign(Day=1))"
   ]
  },
  {
   "cell_type": "code",
   "execution_count": 16,
   "metadata": {},
   "outputs": [
    {
     "data": {
      "text/html": [
       "<div>\n",
       "<style scoped>\n",
       "    .dataframe tbody tr th:only-of-type {\n",
       "        vertical-align: middle;\n",
       "    }\n",
       "\n",
       "    .dataframe tbody tr th {\n",
       "        vertical-align: top;\n",
       "    }\n",
       "\n",
       "    .dataframe thead th {\n",
       "        text-align: right;\n",
       "    }\n",
       "</style>\n",
       "<table border=\"1\" class=\"dataframe\">\n",
       "  <thead>\n",
       "    <tr style=\"text-align: right;\">\n",
       "      <th></th>\n",
       "      <th>Year</th>\n",
       "      <th>Month</th>\n",
       "      <th>Sales</th>\n",
       "      <th>Date</th>\n",
       "    </tr>\n",
       "  </thead>\n",
       "  <tbody>\n",
       "    <tr>\n",
       "      <th>0</th>\n",
       "      <td>2014</td>\n",
       "      <td>1</td>\n",
       "      <td>180.213861</td>\n",
       "      <td>2014-01-01</td>\n",
       "    </tr>\n",
       "    <tr>\n",
       "      <th>1</th>\n",
       "      <td>2014</td>\n",
       "      <td>2</td>\n",
       "      <td>98.258522</td>\n",
       "      <td>2014-02-01</td>\n",
       "    </tr>\n",
       "    <tr>\n",
       "      <th>2</th>\n",
       "      <td>2014</td>\n",
       "      <td>3</td>\n",
       "      <td>354.719803</td>\n",
       "      <td>2014-03-01</td>\n",
       "    </tr>\n",
       "    <tr>\n",
       "      <th>3</th>\n",
       "      <td>2014</td>\n",
       "      <td>4</td>\n",
       "      <td>209.595148</td>\n",
       "      <td>2014-04-01</td>\n",
       "    </tr>\n",
       "    <tr>\n",
       "      <th>4</th>\n",
       "      <td>2014</td>\n",
       "      <td>5</td>\n",
       "      <td>193.838418</td>\n",
       "      <td>2014-05-01</td>\n",
       "    </tr>\n",
       "  </tbody>\n",
       "</table>\n",
       "</div>"
      ],
      "text/plain": [
       "   Year  Month       Sales       Date\n",
       "0  2014      1  180.213861 2014-01-01\n",
       "1  2014      2   98.258522 2014-02-01\n",
       "2  2014      3  354.719803 2014-03-01\n",
       "3  2014      4  209.595148 2014-04-01\n",
       "4  2014      5  193.838418 2014-05-01"
      ]
     },
     "execution_count": 16,
     "metadata": {},
     "output_type": "execute_result"
    }
   ],
   "source": [
    "avg_monthly_sales.head()"
   ]
  },
  {
   "cell_type": "code",
   "execution_count": null,
   "metadata": {},
   "outputs": [
    {
     "data": {
      "application/vnd.plotly.v1+json": {
       "config": {
        "plotlyServerURL": "https://plot.ly"
       },
       "data": [
        {
         "hovertemplate": "Year=2014<br>Month=%{x}<br>Average Sales=%{y}<extra></extra>",
         "legendgroup": "2014",
         "line": {
          "color": "#636efa",
          "dash": "solid"
         },
         "marker": {
          "symbol": "circle"
         },
         "mode": "lines+markers",
         "name": "2014",
         "orientation": "v",
         "showlegend": true,
         "type": "scatter",
         "x": {
          "bdata": "AQAAAAIAAAADAAAABAAAAAUAAAAGAAAABwAAAAgAAAAJAAAACgAAAAsAAAAMAAAA",
          "dtype": "i4"
         },
         "xaxis": "x",
         "y": {
          "bdata": "iv2E8teGZkCyt8Oei5BYQAskrU+EK3ZASBIhdAszakBI5g1S1DpoQJuyIswpBHBA7LpsSGWsbUDSCNlCRs1mQPTqoNo6EnNALvIaHD66aEAbwIzdUuhuQBF+7FNARW9A",
          "dtype": "f8"
         },
         "yaxis": "y"
        },
        {
         "hovertemplate": "Year=2015<br>Month=%{x}<br>Average Sales=%{y}<extra></extra>",
         "legendgroup": "2015",
         "line": {
          "color": "#EF553B",
          "dash": "solid"
         },
         "marker": {
          "symbol": "circle"
         },
         "mode": "lines+markers",
         "name": "2015",
         "orientation": "v",
         "showlegend": true,
         "type": "scatter",
         "x": {
          "bdata": "AQAAAAIAAAADAAAABAAAAAUAAAAGAAAABwAAAAgAAAAJAAAACgAAAAsAAAAMAAAA",
          "dtype": "i4"
         },
         "xaxis": "x",
         "y": {
          "bdata": "vxOywImVc0BU46WbtFdnQHJeMg8AinFAPujZrAq3akDh8++LNMxpQMHXC8EYdmZA2VQacu6uaUAQ8/JVFAJtQIEnLCPYjmtALVVcDvalZ0B9ozaLdk9tQELvAnbJom1A",
          "dtype": "f8"
         },
         "yaxis": "y"
        },
        {
         "hovertemplate": "Year=2016<br>Month=%{x}<br>Average Sales=%{y}<extra></extra>",
         "legendgroup": "2016",
         "line": {
          "color": "#00cc96",
          "dash": "solid"
         },
         "marker": {
          "symbol": "circle"
         },
         "mode": "lines+markers",
         "name": "2016",
         "orientation": "v",
         "showlegend": true,
         "type": "scatter",
         "x": {
          "bdata": "AQAAAAIAAAADAAAABAAAAAUAAAAGAAAABwAAAAgAAAAJAAAACgAAAAsAAAAMAAAA",
          "dtype": "i4"
         },
         "xaxis": "x",
         "y": {
          "bdata": "WIzZivYKakDaj3atpk1xQH6QDKhn1HNA+p46/x9+bEBpFFbb66hvQOlLkDGQV2lA0a6fKKlqaEApLHo9VxlmQJbjOTtoR2lAbukLD3gIc0B6kCPZD9RqQP2OACMMOXFA",
          "dtype": "f8"
         },
         "yaxis": "y"
        },
        {
         "hovertemplate": "Year=2017<br>Month=%{x}<br>Average Sales=%{y}<extra></extra>",
         "legendgroup": "2017",
         "line": {
          "color": "#ab63fa",
          "dash": "solid"
         },
         "marker": {
          "symbol": "circle"
         },
         "mode": "lines+markers",
         "name": "2017",
         "orientation": "v",
         "showlegend": true,
         "type": "scatter",
         "x": {
          "bdata": "AQAAAAIAAAADAAAABAAAAAUAAAAGAAAABwAAAAgAAAAJAAAACgAAAAsAAAAMAAAA",
          "dtype": "i4"
         },
         "xaxis": "x",
         "y": {
          "bdata": "Q9nLBPu6cUCn6ZbzXbdnQAy9I0ec625AlaIt5RZ9ZkBz2gxztdxmQN4X5ucPCGtASyH/7x4JaUDOOxnJuRhyQG9rzpfH7WdAqzINM/FPcEAfka105iBwQPwkKhhcrmZA",
          "dtype": "f8"
         },
         "yaxis": "y"
        }
       ],
       "layout": {
        "legend": {
         "title": {
          "text": "Year"
         },
         "tracegroupgap": 0
        },
        "template": {
         "data": {
          "bar": [
           {
            "error_x": {
             "color": "#2a3f5f"
            },
            "error_y": {
             "color": "#2a3f5f"
            },
            "marker": {
             "line": {
              "color": "#E5ECF6",
              "width": 0.5
             },
             "pattern": {
              "fillmode": "overlay",
              "size": 10,
              "solidity": 0.2
             }
            },
            "type": "bar"
           }
          ],
          "barpolar": [
           {
            "marker": {
             "line": {
              "color": "#E5ECF6",
              "width": 0.5
             },
             "pattern": {
              "fillmode": "overlay",
              "size": 10,
              "solidity": 0.2
             }
            },
            "type": "barpolar"
           }
          ],
          "carpet": [
           {
            "aaxis": {
             "endlinecolor": "#2a3f5f",
             "gridcolor": "white",
             "linecolor": "white",
             "minorgridcolor": "white",
             "startlinecolor": "#2a3f5f"
            },
            "baxis": {
             "endlinecolor": "#2a3f5f",
             "gridcolor": "white",
             "linecolor": "white",
             "minorgridcolor": "white",
             "startlinecolor": "#2a3f5f"
            },
            "type": "carpet"
           }
          ],
          "choropleth": [
           {
            "colorbar": {
             "outlinewidth": 0,
             "ticks": ""
            },
            "type": "choropleth"
           }
          ],
          "contour": [
           {
            "colorbar": {
             "outlinewidth": 0,
             "ticks": ""
            },
            "colorscale": [
             [
              0,
              "#0d0887"
             ],
             [
              0.1111111111111111,
              "#46039f"
             ],
             [
              0.2222222222222222,
              "#7201a8"
             ],
             [
              0.3333333333333333,
              "#9c179e"
             ],
             [
              0.4444444444444444,
              "#bd3786"
             ],
             [
              0.5555555555555556,
              "#d8576b"
             ],
             [
              0.6666666666666666,
              "#ed7953"
             ],
             [
              0.7777777777777778,
              "#fb9f3a"
             ],
             [
              0.8888888888888888,
              "#fdca26"
             ],
             [
              1,
              "#f0f921"
             ]
            ],
            "type": "contour"
           }
          ],
          "contourcarpet": [
           {
            "colorbar": {
             "outlinewidth": 0,
             "ticks": ""
            },
            "type": "contourcarpet"
           }
          ],
          "heatmap": [
           {
            "colorbar": {
             "outlinewidth": 0,
             "ticks": ""
            },
            "colorscale": [
             [
              0,
              "#0d0887"
             ],
             [
              0.1111111111111111,
              "#46039f"
             ],
             [
              0.2222222222222222,
              "#7201a8"
             ],
             [
              0.3333333333333333,
              "#9c179e"
             ],
             [
              0.4444444444444444,
              "#bd3786"
             ],
             [
              0.5555555555555556,
              "#d8576b"
             ],
             [
              0.6666666666666666,
              "#ed7953"
             ],
             [
              0.7777777777777778,
              "#fb9f3a"
             ],
             [
              0.8888888888888888,
              "#fdca26"
             ],
             [
              1,
              "#f0f921"
             ]
            ],
            "type": "heatmap"
           }
          ],
          "histogram": [
           {
            "marker": {
             "pattern": {
              "fillmode": "overlay",
              "size": 10,
              "solidity": 0.2
             }
            },
            "type": "histogram"
           }
          ],
          "histogram2d": [
           {
            "colorbar": {
             "outlinewidth": 0,
             "ticks": ""
            },
            "colorscale": [
             [
              0,
              "#0d0887"
             ],
             [
              0.1111111111111111,
              "#46039f"
             ],
             [
              0.2222222222222222,
              "#7201a8"
             ],
             [
              0.3333333333333333,
              "#9c179e"
             ],
             [
              0.4444444444444444,
              "#bd3786"
             ],
             [
              0.5555555555555556,
              "#d8576b"
             ],
             [
              0.6666666666666666,
              "#ed7953"
             ],
             [
              0.7777777777777778,
              "#fb9f3a"
             ],
             [
              0.8888888888888888,
              "#fdca26"
             ],
             [
              1,
              "#f0f921"
             ]
            ],
            "type": "histogram2d"
           }
          ],
          "histogram2dcontour": [
           {
            "colorbar": {
             "outlinewidth": 0,
             "ticks": ""
            },
            "colorscale": [
             [
              0,
              "#0d0887"
             ],
             [
              0.1111111111111111,
              "#46039f"
             ],
             [
              0.2222222222222222,
              "#7201a8"
             ],
             [
              0.3333333333333333,
              "#9c179e"
             ],
             [
              0.4444444444444444,
              "#bd3786"
             ],
             [
              0.5555555555555556,
              "#d8576b"
             ],
             [
              0.6666666666666666,
              "#ed7953"
             ],
             [
              0.7777777777777778,
              "#fb9f3a"
             ],
             [
              0.8888888888888888,
              "#fdca26"
             ],
             [
              1,
              "#f0f921"
             ]
            ],
            "type": "histogram2dcontour"
           }
          ],
          "mesh3d": [
           {
            "colorbar": {
             "outlinewidth": 0,
             "ticks": ""
            },
            "type": "mesh3d"
           }
          ],
          "parcoords": [
           {
            "line": {
             "colorbar": {
              "outlinewidth": 0,
              "ticks": ""
             }
            },
            "type": "parcoords"
           }
          ],
          "pie": [
           {
            "automargin": true,
            "type": "pie"
           }
          ],
          "scatter": [
           {
            "fillpattern": {
             "fillmode": "overlay",
             "size": 10,
             "solidity": 0.2
            },
            "type": "scatter"
           }
          ],
          "scatter3d": [
           {
            "line": {
             "colorbar": {
              "outlinewidth": 0,
              "ticks": ""
             }
            },
            "marker": {
             "colorbar": {
              "outlinewidth": 0,
              "ticks": ""
             }
            },
            "type": "scatter3d"
           }
          ],
          "scattercarpet": [
           {
            "marker": {
             "colorbar": {
              "outlinewidth": 0,
              "ticks": ""
             }
            },
            "type": "scattercarpet"
           }
          ],
          "scattergeo": [
           {
            "marker": {
             "colorbar": {
              "outlinewidth": 0,
              "ticks": ""
             }
            },
            "type": "scattergeo"
           }
          ],
          "scattergl": [
           {
            "marker": {
             "colorbar": {
              "outlinewidth": 0,
              "ticks": ""
             }
            },
            "type": "scattergl"
           }
          ],
          "scattermap": [
           {
            "marker": {
             "colorbar": {
              "outlinewidth": 0,
              "ticks": ""
             }
            },
            "type": "scattermap"
           }
          ],
          "scattermapbox": [
           {
            "marker": {
             "colorbar": {
              "outlinewidth": 0,
              "ticks": ""
             }
            },
            "type": "scattermapbox"
           }
          ],
          "scatterpolar": [
           {
            "marker": {
             "colorbar": {
              "outlinewidth": 0,
              "ticks": ""
             }
            },
            "type": "scatterpolar"
           }
          ],
          "scatterpolargl": [
           {
            "marker": {
             "colorbar": {
              "outlinewidth": 0,
              "ticks": ""
             }
            },
            "type": "scatterpolargl"
           }
          ],
          "scatterternary": [
           {
            "marker": {
             "colorbar": {
              "outlinewidth": 0,
              "ticks": ""
             }
            },
            "type": "scatterternary"
           }
          ],
          "surface": [
           {
            "colorbar": {
             "outlinewidth": 0,
             "ticks": ""
            },
            "colorscale": [
             [
              0,
              "#0d0887"
             ],
             [
              0.1111111111111111,
              "#46039f"
             ],
             [
              0.2222222222222222,
              "#7201a8"
             ],
             [
              0.3333333333333333,
              "#9c179e"
             ],
             [
              0.4444444444444444,
              "#bd3786"
             ],
             [
              0.5555555555555556,
              "#d8576b"
             ],
             [
              0.6666666666666666,
              "#ed7953"
             ],
             [
              0.7777777777777778,
              "#fb9f3a"
             ],
             [
              0.8888888888888888,
              "#fdca26"
             ],
             [
              1,
              "#f0f921"
             ]
            ],
            "type": "surface"
           }
          ],
          "table": [
           {
            "cells": {
             "fill": {
              "color": "#EBF0F8"
             },
             "line": {
              "color": "white"
             }
            },
            "header": {
             "fill": {
              "color": "#C8D4E3"
             },
             "line": {
              "color": "white"
             }
            },
            "type": "table"
           }
          ]
         },
         "layout": {
          "annotationdefaults": {
           "arrowcolor": "#2a3f5f",
           "arrowhead": 0,
           "arrowwidth": 1
          },
          "autotypenumbers": "strict",
          "coloraxis": {
           "colorbar": {
            "outlinewidth": 0,
            "ticks": ""
           }
          },
          "colorscale": {
           "diverging": [
            [
             0,
             "#8e0152"
            ],
            [
             0.1,
             "#c51b7d"
            ],
            [
             0.2,
             "#de77ae"
            ],
            [
             0.3,
             "#f1b6da"
            ],
            [
             0.4,
             "#fde0ef"
            ],
            [
             0.5,
             "#f7f7f7"
            ],
            [
             0.6,
             "#e6f5d0"
            ],
            [
             0.7,
             "#b8e186"
            ],
            [
             0.8,
             "#7fbc41"
            ],
            [
             0.9,
             "#4d9221"
            ],
            [
             1,
             "#276419"
            ]
           ],
           "sequential": [
            [
             0,
             "#0d0887"
            ],
            [
             0.1111111111111111,
             "#46039f"
            ],
            [
             0.2222222222222222,
             "#7201a8"
            ],
            [
             0.3333333333333333,
             "#9c179e"
            ],
            [
             0.4444444444444444,
             "#bd3786"
            ],
            [
             0.5555555555555556,
             "#d8576b"
            ],
            [
             0.6666666666666666,
             "#ed7953"
            ],
            [
             0.7777777777777778,
             "#fb9f3a"
            ],
            [
             0.8888888888888888,
             "#fdca26"
            ],
            [
             1,
             "#f0f921"
            ]
           ],
           "sequentialminus": [
            [
             0,
             "#0d0887"
            ],
            [
             0.1111111111111111,
             "#46039f"
            ],
            [
             0.2222222222222222,
             "#7201a8"
            ],
            [
             0.3333333333333333,
             "#9c179e"
            ],
            [
             0.4444444444444444,
             "#bd3786"
            ],
            [
             0.5555555555555556,
             "#d8576b"
            ],
            [
             0.6666666666666666,
             "#ed7953"
            ],
            [
             0.7777777777777778,
             "#fb9f3a"
            ],
            [
             0.8888888888888888,
             "#fdca26"
            ],
            [
             1,
             "#f0f921"
            ]
           ]
          },
          "colorway": [
           "#636efa",
           "#EF553B",
           "#00cc96",
           "#ab63fa",
           "#FFA15A",
           "#19d3f3",
           "#FF6692",
           "#B6E880",
           "#FF97FF",
           "#FECB52"
          ],
          "font": {
           "color": "#2a3f5f"
          },
          "geo": {
           "bgcolor": "white",
           "lakecolor": "white",
           "landcolor": "#E5ECF6",
           "showlakes": true,
           "showland": true,
           "subunitcolor": "white"
          },
          "hoverlabel": {
           "align": "left"
          },
          "hovermode": "closest",
          "mapbox": {
           "style": "light"
          },
          "paper_bgcolor": "white",
          "plot_bgcolor": "#E5ECF6",
          "polar": {
           "angularaxis": {
            "gridcolor": "white",
            "linecolor": "white",
            "ticks": ""
           },
           "bgcolor": "#E5ECF6",
           "radialaxis": {
            "gridcolor": "white",
            "linecolor": "white",
            "ticks": ""
           }
          },
          "scene": {
           "xaxis": {
            "backgroundcolor": "#E5ECF6",
            "gridcolor": "white",
            "gridwidth": 2,
            "linecolor": "white",
            "showbackground": true,
            "ticks": "",
            "zerolinecolor": "white"
           },
           "yaxis": {
            "backgroundcolor": "#E5ECF6",
            "gridcolor": "white",
            "gridwidth": 2,
            "linecolor": "white",
            "showbackground": true,
            "ticks": "",
            "zerolinecolor": "white"
           },
           "zaxis": {
            "backgroundcolor": "#E5ECF6",
            "gridcolor": "white",
            "gridwidth": 2,
            "linecolor": "white",
            "showbackground": true,
            "ticks": "",
            "zerolinecolor": "white"
           }
          },
          "shapedefaults": {
           "line": {
            "color": "#2a3f5f"
           }
          },
          "ternary": {
           "aaxis": {
            "gridcolor": "white",
            "linecolor": "white",
            "ticks": ""
           },
           "baxis": {
            "gridcolor": "white",
            "linecolor": "white",
            "ticks": ""
           },
           "bgcolor": "#E5ECF6",
           "caxis": {
            "gridcolor": "white",
            "linecolor": "white",
            "ticks": ""
           }
          },
          "title": {
           "x": 0.05
          },
          "xaxis": {
           "automargin": true,
           "gridcolor": "white",
           "linecolor": "white",
           "ticks": "",
           "title": {
            "standoff": 15
           },
           "zerolinecolor": "white",
           "zerolinewidth": 2
          },
          "yaxis": {
           "automargin": true,
           "gridcolor": "white",
           "linecolor": "white",
           "ticks": "",
           "title": {
            "standoff": 15
           },
           "zerolinecolor": "white",
           "zerolinewidth": 2
          }
         }
        },
        "title": {
         "text": "Average Monthly Sales by Year"
        },
        "updatemenus": [
         {
          "buttons": [
           {
            "args": [
             {
              "visible": [
               true,
               true,
               true,
               true
              ]
             },
             {
              "title": "Average Monthly Sales by Year"
             }
            ],
            "label": "All Years",
            "method": "update"
           },
           {
            "args": [
             {
              "visible": [
               true,
               false,
               false,
               false
              ]
             },
             {
              "title": "Average Monthly Sales in 2014"
             }
            ],
            "label": "2014",
            "method": "update"
           },
           {
            "args": [
             {
              "visible": [
               false,
               true,
               false,
               false
              ]
             },
             {
              "title": "Average Monthly Sales in 2015"
             }
            ],
            "label": "2015",
            "method": "update"
           },
           {
            "args": [
             {
              "visible": [
               false,
               false,
               true,
               false
              ]
             },
             {
              "title": "Average Monthly Sales in 2016"
             }
            ],
            "label": "2016",
            "method": "update"
           },
           {
            "args": [
             {
              "visible": [
               false,
               false,
               false,
               true
              ]
             },
             {
              "title": "Average Monthly Sales in 2017"
             }
            ],
            "label": "2017",
            "method": "update"
           }
          ],
          "direction": "down",
          "showactive": true
         }
        ],
        "xaxis": {
         "anchor": "y",
         "domain": [
          0,
          1
         ],
         "tickmode": "array",
         "ticktext": [
          "Jan",
          "Feb",
          "Mar",
          "Apr",
          "May",
          "Jun",
          "Jul",
          "Aug",
          "Sep",
          "Oct",
          "Nov",
          "Dec"
         ],
         "tickvals": [
          1,
          2,
          3,
          4,
          5,
          6,
          7,
          8,
          9,
          10,
          11,
          12
         ],
         "title": {
          "text": "Month"
         }
        },
        "yaxis": {
         "anchor": "x",
         "domain": [
          0,
          1
         ],
         "title": {
          "text": "Average Sales"
         }
        }
       }
      }
     },
     "metadata": {},
     "output_type": "display_data"
    }
   ],
   "source": [
    "fig = px.line(avg_monthly_sales, \n",
    "              x='Month', \n",
    "              y='Sales', \n",
    "              color='Year', \n",
    "              markers=True,\n",
    "              title='Average Monthly Sales by Year',\n",
    "              labels={\n",
    "                  \"Sales\": \"Average Sales\",\n",
    "                  \"Month\": \"Month\"\n",
    "              })\n",
    "\n",
    "fig.update_layout(\n",
    "    xaxis = dict(\n",
    "        tickmode = 'array',\n",
    "        tickvals = list(range(1, 13)),\n",
    "        ticktext = ['Jan', 'Feb', 'Mar', 'Apr', 'May', 'Jun', 'Jul', 'Aug', 'Sep', 'Oct', 'Nov', 'Dec']\n",
    "    )\n",
    ")\n",
    "\n",
    "fig.update_layout(\n",
    "    updatemenus=[\n",
    "        dict(\n",
    "            buttons=[\n",
    "                dict(label='All Years', \n",
    "                     method='update', \n",
    "                     args=[{'visible': [True, True, True, True]}, \n",
    "                           {'title': 'Average Monthly Sales by Year'}]),\n",
    "                dict(label='2014', \n",
    "                     method='update', \n",
    "                     args=[{'visible': [True, False, False, False]}, \n",
    "                           {'title': 'Average Monthly Sales in 2014'}]),\n",
    "                dict(label='2015', \n",
    "                     method='update', \n",
    "                     args=[{'visible': [False, True, False, False]}, \n",
    "                           {'title': 'Average Monthly Sales in 2015'}]),\n",
    "                dict(label='2016', \n",
    "                     method='update', \n",
    "                     args=[{'visible': [False, False, True, False]}, \n",
    "                           {'title': 'Average Monthly Sales in 2016'}]),\n",
    "                dict(label='2017', \n",
    "                     method='update', \n",
    "                     args=[{'visible': [False, False, False, True]}, \n",
    "                           {'title': 'Average Monthly Sales in 2017'}])\n",
    "            ],\n",
    "            direction='down',\n",
    "            showactive=True\n",
    "        )\n",
    "    ]\n",
    ")\n",
    "\n",
    "fig.show()"
   ]
  },
  {
   "cell_type": "code",
   "execution_count": 18,
   "metadata": {},
   "outputs": [
    {
     "data": {
      "text/html": [
       "<div>\n",
       "<style scoped>\n",
       "    .dataframe tbody tr th:only-of-type {\n",
       "        vertical-align: middle;\n",
       "    }\n",
       "\n",
       "    .dataframe tbody tr th {\n",
       "        vertical-align: top;\n",
       "    }\n",
       "\n",
       "    .dataframe thead th {\n",
       "        text-align: right;\n",
       "    }\n",
       "</style>\n",
       "<table border=\"1\" class=\"dataframe\">\n",
       "  <thead>\n",
       "    <tr style=\"text-align: right;\">\n",
       "      <th></th>\n",
       "      <th>Row ID</th>\n",
       "      <th>Order ID</th>\n",
       "      <th>Order Date</th>\n",
       "      <th>Ship Date</th>\n",
       "      <th>Ship Mode</th>\n",
       "      <th>Customer ID</th>\n",
       "      <th>Customer Name</th>\n",
       "      <th>Segment</th>\n",
       "      <th>Country</th>\n",
       "      <th>City</th>\n",
       "      <th>...</th>\n",
       "      <th>Product ID</th>\n",
       "      <th>Category</th>\n",
       "      <th>Sub-Category</th>\n",
       "      <th>Product Name</th>\n",
       "      <th>Sales</th>\n",
       "      <th>Quantity</th>\n",
       "      <th>Discount</th>\n",
       "      <th>Profit</th>\n",
       "      <th>Year</th>\n",
       "      <th>Month</th>\n",
       "    </tr>\n",
       "  </thead>\n",
       "  <tbody>\n",
       "    <tr>\n",
       "      <th>0</th>\n",
       "      <td>1</td>\n",
       "      <td>CA-2016-152156</td>\n",
       "      <td>2016-11-08</td>\n",
       "      <td>2016-11-11</td>\n",
       "      <td>Second Class</td>\n",
       "      <td>CG-12520</td>\n",
       "      <td>Claire Gute</td>\n",
       "      <td>Consumer</td>\n",
       "      <td>United States</td>\n",
       "      <td>Henderson</td>\n",
       "      <td>...</td>\n",
       "      <td>FUR-BO-10001798</td>\n",
       "      <td>Furniture</td>\n",
       "      <td>Bookcases</td>\n",
       "      <td>Bush Somerset Collection Bookcase</td>\n",
       "      <td>261.9600</td>\n",
       "      <td>2</td>\n",
       "      <td>0.00</td>\n",
       "      <td>41.9136</td>\n",
       "      <td>2016</td>\n",
       "      <td>11</td>\n",
       "    </tr>\n",
       "    <tr>\n",
       "      <th>1</th>\n",
       "      <td>2</td>\n",
       "      <td>CA-2016-152156</td>\n",
       "      <td>2016-11-08</td>\n",
       "      <td>2016-11-11</td>\n",
       "      <td>Second Class</td>\n",
       "      <td>CG-12520</td>\n",
       "      <td>Claire Gute</td>\n",
       "      <td>Consumer</td>\n",
       "      <td>United States</td>\n",
       "      <td>Henderson</td>\n",
       "      <td>...</td>\n",
       "      <td>FUR-CH-10000454</td>\n",
       "      <td>Furniture</td>\n",
       "      <td>Chairs</td>\n",
       "      <td>Hon Deluxe Fabric Upholstered Stacking Chairs,...</td>\n",
       "      <td>731.9400</td>\n",
       "      <td>3</td>\n",
       "      <td>0.00</td>\n",
       "      <td>219.5820</td>\n",
       "      <td>2016</td>\n",
       "      <td>11</td>\n",
       "    </tr>\n",
       "    <tr>\n",
       "      <th>2</th>\n",
       "      <td>3</td>\n",
       "      <td>CA-2016-138688</td>\n",
       "      <td>2016-06-12</td>\n",
       "      <td>2016-06-16</td>\n",
       "      <td>Second Class</td>\n",
       "      <td>DV-13045</td>\n",
       "      <td>Darrin Van Huff</td>\n",
       "      <td>Corporate</td>\n",
       "      <td>United States</td>\n",
       "      <td>Los Angeles</td>\n",
       "      <td>...</td>\n",
       "      <td>OFF-LA-10000240</td>\n",
       "      <td>Office Supplies</td>\n",
       "      <td>Labels</td>\n",
       "      <td>Self-Adhesive Address Labels for Typewriters b...</td>\n",
       "      <td>14.6200</td>\n",
       "      <td>2</td>\n",
       "      <td>0.00</td>\n",
       "      <td>6.8714</td>\n",
       "      <td>2016</td>\n",
       "      <td>6</td>\n",
       "    </tr>\n",
       "    <tr>\n",
       "      <th>3</th>\n",
       "      <td>4</td>\n",
       "      <td>US-2015-108966</td>\n",
       "      <td>2015-10-11</td>\n",
       "      <td>2015-10-18</td>\n",
       "      <td>Standard Class</td>\n",
       "      <td>SO-20335</td>\n",
       "      <td>Sean O'Donnell</td>\n",
       "      <td>Consumer</td>\n",
       "      <td>United States</td>\n",
       "      <td>Fort Lauderdale</td>\n",
       "      <td>...</td>\n",
       "      <td>FUR-TA-10000577</td>\n",
       "      <td>Furniture</td>\n",
       "      <td>Tables</td>\n",
       "      <td>Bretford CR4500 Series Slim Rectangular Table</td>\n",
       "      <td>957.5775</td>\n",
       "      <td>5</td>\n",
       "      <td>0.45</td>\n",
       "      <td>-383.0310</td>\n",
       "      <td>2015</td>\n",
       "      <td>10</td>\n",
       "    </tr>\n",
       "    <tr>\n",
       "      <th>4</th>\n",
       "      <td>5</td>\n",
       "      <td>US-2015-108966</td>\n",
       "      <td>2015-10-11</td>\n",
       "      <td>2015-10-18</td>\n",
       "      <td>Standard Class</td>\n",
       "      <td>SO-20335</td>\n",
       "      <td>Sean O'Donnell</td>\n",
       "      <td>Consumer</td>\n",
       "      <td>United States</td>\n",
       "      <td>Fort Lauderdale</td>\n",
       "      <td>...</td>\n",
       "      <td>OFF-ST-10000760</td>\n",
       "      <td>Office Supplies</td>\n",
       "      <td>Storage</td>\n",
       "      <td>Eldon Fold 'N Roll Cart System</td>\n",
       "      <td>22.3680</td>\n",
       "      <td>2</td>\n",
       "      <td>0.20</td>\n",
       "      <td>2.5164</td>\n",
       "      <td>2015</td>\n",
       "      <td>10</td>\n",
       "    </tr>\n",
       "  </tbody>\n",
       "</table>\n",
       "<p>5 rows × 23 columns</p>\n",
       "</div>"
      ],
      "text/plain": [
       "   Row ID        Order ID Order Date  Ship Date       Ship Mode Customer ID  \\\n",
       "0       1  CA-2016-152156 2016-11-08 2016-11-11    Second Class    CG-12520   \n",
       "1       2  CA-2016-152156 2016-11-08 2016-11-11    Second Class    CG-12520   \n",
       "2       3  CA-2016-138688 2016-06-12 2016-06-16    Second Class    DV-13045   \n",
       "3       4  US-2015-108966 2015-10-11 2015-10-18  Standard Class    SO-20335   \n",
       "4       5  US-2015-108966 2015-10-11 2015-10-18  Standard Class    SO-20335   \n",
       "\n",
       "     Customer Name    Segment        Country             City  ...  \\\n",
       "0      Claire Gute   Consumer  United States        Henderson  ...   \n",
       "1      Claire Gute   Consumer  United States        Henderson  ...   \n",
       "2  Darrin Van Huff  Corporate  United States      Los Angeles  ...   \n",
       "3   Sean O'Donnell   Consumer  United States  Fort Lauderdale  ...   \n",
       "4   Sean O'Donnell   Consumer  United States  Fort Lauderdale  ...   \n",
       "\n",
       "        Product ID         Category Sub-Category  \\\n",
       "0  FUR-BO-10001798        Furniture    Bookcases   \n",
       "1  FUR-CH-10000454        Furniture       Chairs   \n",
       "2  OFF-LA-10000240  Office Supplies       Labels   \n",
       "3  FUR-TA-10000577        Furniture       Tables   \n",
       "4  OFF-ST-10000760  Office Supplies      Storage   \n",
       "\n",
       "                                        Product Name     Sales Quantity  \\\n",
       "0                  Bush Somerset Collection Bookcase  261.9600        2   \n",
       "1  Hon Deluxe Fabric Upholstered Stacking Chairs,...  731.9400        3   \n",
       "2  Self-Adhesive Address Labels for Typewriters b...   14.6200        2   \n",
       "3      Bretford CR4500 Series Slim Rectangular Table  957.5775        5   \n",
       "4                     Eldon Fold 'N Roll Cart System   22.3680        2   \n",
       "\n",
       "  Discount    Profit  Year  Month  \n",
       "0     0.00   41.9136  2016     11  \n",
       "1     0.00  219.5820  2016     11  \n",
       "2     0.00    6.8714  2016      6  \n",
       "3     0.45 -383.0310  2015     10  \n",
       "4     0.20    2.5164  2015     10  \n",
       "\n",
       "[5 rows x 23 columns]"
      ]
     },
     "execution_count": 18,
     "metadata": {},
     "output_type": "execute_result"
    }
   ],
   "source": [
    "df.head()"
   ]
  },
  {
   "cell_type": "code",
   "execution_count": 21,
   "metadata": {},
   "outputs": [
    {
     "data": {
      "text/html": [
       "<div>\n",
       "<style scoped>\n",
       "    .dataframe tbody tr th:only-of-type {\n",
       "        vertical-align: middle;\n",
       "    }\n",
       "\n",
       "    .dataframe tbody tr th {\n",
       "        vertical-align: top;\n",
       "    }\n",
       "\n",
       "    .dataframe thead th {\n",
       "        text-align: right;\n",
       "    }\n",
       "</style>\n",
       "<table border=\"1\" class=\"dataframe\">\n",
       "  <thead>\n",
       "    <tr style=\"text-align: right;\">\n",
       "      <th></th>\n",
       "      <th>Category</th>\n",
       "      <th>Sub-Category</th>\n",
       "      <th>Total Sales</th>\n",
       "      <th>Avg Monthly Sales</th>\n",
       "    </tr>\n",
       "  </thead>\n",
       "  <tbody>\n",
       "    <tr>\n",
       "      <th>16</th>\n",
       "      <td>Technology</td>\n",
       "      <td>Phones</td>\n",
       "      <td>330007.054</td>\n",
       "      <td>371.211534</td>\n",
       "    </tr>\n",
       "    <tr>\n",
       "      <th>1</th>\n",
       "      <td>Furniture</td>\n",
       "      <td>Chairs</td>\n",
       "      <td>328449.103</td>\n",
       "      <td>532.332420</td>\n",
       "    </tr>\n",
       "    <tr>\n",
       "      <th>11</th>\n",
       "      <td>Office Supplies</td>\n",
       "      <td>Storage</td>\n",
       "      <td>223843.608</td>\n",
       "      <td>264.590553</td>\n",
       "    </tr>\n",
       "    <tr>\n",
       "      <th>3</th>\n",
       "      <td>Furniture</td>\n",
       "      <td>Tables</td>\n",
       "      <td>206965.532</td>\n",
       "      <td>648.794771</td>\n",
       "    </tr>\n",
       "    <tr>\n",
       "      <th>6</th>\n",
       "      <td>Office Supplies</td>\n",
       "      <td>Binders</td>\n",
       "      <td>203412.733</td>\n",
       "      <td>133.560560</td>\n",
       "    </tr>\n",
       "  </tbody>\n",
       "</table>\n",
       "</div>"
      ],
      "text/plain": [
       "           Category Sub-Category  Total Sales  Avg Monthly Sales\n",
       "16       Technology       Phones   330007.054         371.211534\n",
       "1         Furniture       Chairs   328449.103         532.332420\n",
       "11  Office Supplies      Storage   223843.608         264.590553\n",
       "3         Furniture       Tables   206965.532         648.794771\n",
       "6   Office Supplies      Binders   203412.733         133.560560"
      ]
     },
     "execution_count": 21,
     "metadata": {},
     "output_type": "execute_result"
    }
   ],
   "source": [
    "category_sales = df.groupby(['Category', 'Sub-Category'])['Sales'].agg(['sum', 'mean']).reset_index()\n",
    "\n",
    "category_sales.columns = ['Category', 'Sub-Category', 'Total Sales', 'Avg Monthly Sales']\n",
    "\n",
    "category_sales = category_sales.sort_values(by='Total Sales', ascending=False)\n",
    "\n",
    "category_sales.head()\n"
   ]
  },
  {
   "cell_type": "code",
   "execution_count": 22,
   "metadata": {},
   "outputs": [
    {
     "data": {
      "application/vnd.plotly.v1+json": {
       "config": {
        "plotlyServerURL": "https://plot.ly"
       },
       "data": [
        {
         "hovertemplate": "Category=Technology<br>Total Sales=%{x}<br>Sub-Category=%{y}<extra></extra>",
         "legendgroup": "Technology",
         "marker": {
          "color": "#636efa",
          "pattern": {
           "shape": ""
          }
         },
         "name": "Technology",
         "orientation": "h",
         "showlegend": true,
         "textposition": "auto",
         "type": "bar",
         "x": {
          "bdata": "qMZLN1wkFEFeukkMtRkHQYGVQ4uibgRB16NwPcBAAkE=",
          "dtype": "f8"
         },
         "xaxis": "x",
         "y": [
          "Phones",
          "Machines",
          "Accessories",
          "Copiers"
         ],
         "yaxis": "y"
        },
        {
         "hovertemplate": "Category=Furniture<br>Total Sales=%{x}<br>Sub-Category=%{y}<extra></extra>",
         "legendgroup": "Furniture",
         "marker": {
          "color": "#EF553B",
          "pattern": {
           "shape": ""
          }
         },
         "name": "Furniture",
         "orientation": "h",
         "showlegend": true,
         "textposition": "auto",
         "type": "bar",
         "x": {
          "bdata": "/tR4aQQMFEFMN4lBrEMJQdBE2PD/C/xAyXa+n5Jj9kA=",
          "dtype": "f8"
         },
         "xaxis": "x",
         "y": [
          "Chairs",
          "Tables",
          "Bookcases",
          "Furnishings"
         ],
         "yaxis": "y"
        },
        {
         "hovertemplate": "Category=Office Supplies<br>Total Sales=%{x}<br>Sub-Category=%{y}<extra></extra>",
         "legendgroup": "Office Supplies",
         "marker": {
          "color": "#00cc96",
          "pattern": {
           "shape": ""
          }
         },
         "name": "Office Supplies",
         "orientation": "h",
         "showlegend": true,
         "textposition": "auto",
         "type": "bar",
         "x": {
          "bdata": "oBov3RxTC0GgGi/dpdQIQWu8dJPCQPpA8KfGS/Mo80Coxks3McrmQJzEILCye9pAPzVeuhkX0EAtsp3vJ2PIQMP1KFyPoKdA",
          "dtype": "f8"
         },
         "xaxis": "x",
         "y": [
          "Storage",
          "Binders",
          "Appliances",
          "Paper",
          "Supplies",
          "Art",
          "Envelopes",
          "Labels",
          "Fasteners"
         ],
         "yaxis": "y"
        }
       ],
       "layout": {
        "barmode": "relative",
        "legend": {
         "title": {
          "text": "Category"
         },
         "tracegroupgap": 0
        },
        "template": {
         "data": {
          "bar": [
           {
            "error_x": {
             "color": "#2a3f5f"
            },
            "error_y": {
             "color": "#2a3f5f"
            },
            "marker": {
             "line": {
              "color": "#E5ECF6",
              "width": 0.5
             },
             "pattern": {
              "fillmode": "overlay",
              "size": 10,
              "solidity": 0.2
             }
            },
            "type": "bar"
           }
          ],
          "barpolar": [
           {
            "marker": {
             "line": {
              "color": "#E5ECF6",
              "width": 0.5
             },
             "pattern": {
              "fillmode": "overlay",
              "size": 10,
              "solidity": 0.2
             }
            },
            "type": "barpolar"
           }
          ],
          "carpet": [
           {
            "aaxis": {
             "endlinecolor": "#2a3f5f",
             "gridcolor": "white",
             "linecolor": "white",
             "minorgridcolor": "white",
             "startlinecolor": "#2a3f5f"
            },
            "baxis": {
             "endlinecolor": "#2a3f5f",
             "gridcolor": "white",
             "linecolor": "white",
             "minorgridcolor": "white",
             "startlinecolor": "#2a3f5f"
            },
            "type": "carpet"
           }
          ],
          "choropleth": [
           {
            "colorbar": {
             "outlinewidth": 0,
             "ticks": ""
            },
            "type": "choropleth"
           }
          ],
          "contour": [
           {
            "colorbar": {
             "outlinewidth": 0,
             "ticks": ""
            },
            "colorscale": [
             [
              0,
              "#0d0887"
             ],
             [
              0.1111111111111111,
              "#46039f"
             ],
             [
              0.2222222222222222,
              "#7201a8"
             ],
             [
              0.3333333333333333,
              "#9c179e"
             ],
             [
              0.4444444444444444,
              "#bd3786"
             ],
             [
              0.5555555555555556,
              "#d8576b"
             ],
             [
              0.6666666666666666,
              "#ed7953"
             ],
             [
              0.7777777777777778,
              "#fb9f3a"
             ],
             [
              0.8888888888888888,
              "#fdca26"
             ],
             [
              1,
              "#f0f921"
             ]
            ],
            "type": "contour"
           }
          ],
          "contourcarpet": [
           {
            "colorbar": {
             "outlinewidth": 0,
             "ticks": ""
            },
            "type": "contourcarpet"
           }
          ],
          "heatmap": [
           {
            "colorbar": {
             "outlinewidth": 0,
             "ticks": ""
            },
            "colorscale": [
             [
              0,
              "#0d0887"
             ],
             [
              0.1111111111111111,
              "#46039f"
             ],
             [
              0.2222222222222222,
              "#7201a8"
             ],
             [
              0.3333333333333333,
              "#9c179e"
             ],
             [
              0.4444444444444444,
              "#bd3786"
             ],
             [
              0.5555555555555556,
              "#d8576b"
             ],
             [
              0.6666666666666666,
              "#ed7953"
             ],
             [
              0.7777777777777778,
              "#fb9f3a"
             ],
             [
              0.8888888888888888,
              "#fdca26"
             ],
             [
              1,
              "#f0f921"
             ]
            ],
            "type": "heatmap"
           }
          ],
          "histogram": [
           {
            "marker": {
             "pattern": {
              "fillmode": "overlay",
              "size": 10,
              "solidity": 0.2
             }
            },
            "type": "histogram"
           }
          ],
          "histogram2d": [
           {
            "colorbar": {
             "outlinewidth": 0,
             "ticks": ""
            },
            "colorscale": [
             [
              0,
              "#0d0887"
             ],
             [
              0.1111111111111111,
              "#46039f"
             ],
             [
              0.2222222222222222,
              "#7201a8"
             ],
             [
              0.3333333333333333,
              "#9c179e"
             ],
             [
              0.4444444444444444,
              "#bd3786"
             ],
             [
              0.5555555555555556,
              "#d8576b"
             ],
             [
              0.6666666666666666,
              "#ed7953"
             ],
             [
              0.7777777777777778,
              "#fb9f3a"
             ],
             [
              0.8888888888888888,
              "#fdca26"
             ],
             [
              1,
              "#f0f921"
             ]
            ],
            "type": "histogram2d"
           }
          ],
          "histogram2dcontour": [
           {
            "colorbar": {
             "outlinewidth": 0,
             "ticks": ""
            },
            "colorscale": [
             [
              0,
              "#0d0887"
             ],
             [
              0.1111111111111111,
              "#46039f"
             ],
             [
              0.2222222222222222,
              "#7201a8"
             ],
             [
              0.3333333333333333,
              "#9c179e"
             ],
             [
              0.4444444444444444,
              "#bd3786"
             ],
             [
              0.5555555555555556,
              "#d8576b"
             ],
             [
              0.6666666666666666,
              "#ed7953"
             ],
             [
              0.7777777777777778,
              "#fb9f3a"
             ],
             [
              0.8888888888888888,
              "#fdca26"
             ],
             [
              1,
              "#f0f921"
             ]
            ],
            "type": "histogram2dcontour"
           }
          ],
          "mesh3d": [
           {
            "colorbar": {
             "outlinewidth": 0,
             "ticks": ""
            },
            "type": "mesh3d"
           }
          ],
          "parcoords": [
           {
            "line": {
             "colorbar": {
              "outlinewidth": 0,
              "ticks": ""
             }
            },
            "type": "parcoords"
           }
          ],
          "pie": [
           {
            "automargin": true,
            "type": "pie"
           }
          ],
          "scatter": [
           {
            "fillpattern": {
             "fillmode": "overlay",
             "size": 10,
             "solidity": 0.2
            },
            "type": "scatter"
           }
          ],
          "scatter3d": [
           {
            "line": {
             "colorbar": {
              "outlinewidth": 0,
              "ticks": ""
             }
            },
            "marker": {
             "colorbar": {
              "outlinewidth": 0,
              "ticks": ""
             }
            },
            "type": "scatter3d"
           }
          ],
          "scattercarpet": [
           {
            "marker": {
             "colorbar": {
              "outlinewidth": 0,
              "ticks": ""
             }
            },
            "type": "scattercarpet"
           }
          ],
          "scattergeo": [
           {
            "marker": {
             "colorbar": {
              "outlinewidth": 0,
              "ticks": ""
             }
            },
            "type": "scattergeo"
           }
          ],
          "scattergl": [
           {
            "marker": {
             "colorbar": {
              "outlinewidth": 0,
              "ticks": ""
             }
            },
            "type": "scattergl"
           }
          ],
          "scattermap": [
           {
            "marker": {
             "colorbar": {
              "outlinewidth": 0,
              "ticks": ""
             }
            },
            "type": "scattermap"
           }
          ],
          "scattermapbox": [
           {
            "marker": {
             "colorbar": {
              "outlinewidth": 0,
              "ticks": ""
             }
            },
            "type": "scattermapbox"
           }
          ],
          "scatterpolar": [
           {
            "marker": {
             "colorbar": {
              "outlinewidth": 0,
              "ticks": ""
             }
            },
            "type": "scatterpolar"
           }
          ],
          "scatterpolargl": [
           {
            "marker": {
             "colorbar": {
              "outlinewidth": 0,
              "ticks": ""
             }
            },
            "type": "scatterpolargl"
           }
          ],
          "scatterternary": [
           {
            "marker": {
             "colorbar": {
              "outlinewidth": 0,
              "ticks": ""
             }
            },
            "type": "scatterternary"
           }
          ],
          "surface": [
           {
            "colorbar": {
             "outlinewidth": 0,
             "ticks": ""
            },
            "colorscale": [
             [
              0,
              "#0d0887"
             ],
             [
              0.1111111111111111,
              "#46039f"
             ],
             [
              0.2222222222222222,
              "#7201a8"
             ],
             [
              0.3333333333333333,
              "#9c179e"
             ],
             [
              0.4444444444444444,
              "#bd3786"
             ],
             [
              0.5555555555555556,
              "#d8576b"
             ],
             [
              0.6666666666666666,
              "#ed7953"
             ],
             [
              0.7777777777777778,
              "#fb9f3a"
             ],
             [
              0.8888888888888888,
              "#fdca26"
             ],
             [
              1,
              "#f0f921"
             ]
            ],
            "type": "surface"
           }
          ],
          "table": [
           {
            "cells": {
             "fill": {
              "color": "#EBF0F8"
             },
             "line": {
              "color": "white"
             }
            },
            "header": {
             "fill": {
              "color": "#C8D4E3"
             },
             "line": {
              "color": "white"
             }
            },
            "type": "table"
           }
          ]
         },
         "layout": {
          "annotationdefaults": {
           "arrowcolor": "#2a3f5f",
           "arrowhead": 0,
           "arrowwidth": 1
          },
          "autotypenumbers": "strict",
          "coloraxis": {
           "colorbar": {
            "outlinewidth": 0,
            "ticks": ""
           }
          },
          "colorscale": {
           "diverging": [
            [
             0,
             "#8e0152"
            ],
            [
             0.1,
             "#c51b7d"
            ],
            [
             0.2,
             "#de77ae"
            ],
            [
             0.3,
             "#f1b6da"
            ],
            [
             0.4,
             "#fde0ef"
            ],
            [
             0.5,
             "#f7f7f7"
            ],
            [
             0.6,
             "#e6f5d0"
            ],
            [
             0.7,
             "#b8e186"
            ],
            [
             0.8,
             "#7fbc41"
            ],
            [
             0.9,
             "#4d9221"
            ],
            [
             1,
             "#276419"
            ]
           ],
           "sequential": [
            [
             0,
             "#0d0887"
            ],
            [
             0.1111111111111111,
             "#46039f"
            ],
            [
             0.2222222222222222,
             "#7201a8"
            ],
            [
             0.3333333333333333,
             "#9c179e"
            ],
            [
             0.4444444444444444,
             "#bd3786"
            ],
            [
             0.5555555555555556,
             "#d8576b"
            ],
            [
             0.6666666666666666,
             "#ed7953"
            ],
            [
             0.7777777777777778,
             "#fb9f3a"
            ],
            [
             0.8888888888888888,
             "#fdca26"
            ],
            [
             1,
             "#f0f921"
            ]
           ],
           "sequentialminus": [
            [
             0,
             "#0d0887"
            ],
            [
             0.1111111111111111,
             "#46039f"
            ],
            [
             0.2222222222222222,
             "#7201a8"
            ],
            [
             0.3333333333333333,
             "#9c179e"
            ],
            [
             0.4444444444444444,
             "#bd3786"
            ],
            [
             0.5555555555555556,
             "#d8576b"
            ],
            [
             0.6666666666666666,
             "#ed7953"
            ],
            [
             0.7777777777777778,
             "#fb9f3a"
            ],
            [
             0.8888888888888888,
             "#fdca26"
            ],
            [
             1,
             "#f0f921"
            ]
           ]
          },
          "colorway": [
           "#636efa",
           "#EF553B",
           "#00cc96",
           "#ab63fa",
           "#FFA15A",
           "#19d3f3",
           "#FF6692",
           "#B6E880",
           "#FF97FF",
           "#FECB52"
          ],
          "font": {
           "color": "#2a3f5f"
          },
          "geo": {
           "bgcolor": "white",
           "lakecolor": "white",
           "landcolor": "#E5ECF6",
           "showlakes": true,
           "showland": true,
           "subunitcolor": "white"
          },
          "hoverlabel": {
           "align": "left"
          },
          "hovermode": "closest",
          "mapbox": {
           "style": "light"
          },
          "paper_bgcolor": "white",
          "plot_bgcolor": "#E5ECF6",
          "polar": {
           "angularaxis": {
            "gridcolor": "white",
            "linecolor": "white",
            "ticks": ""
           },
           "bgcolor": "#E5ECF6",
           "radialaxis": {
            "gridcolor": "white",
            "linecolor": "white",
            "ticks": ""
           }
          },
          "scene": {
           "xaxis": {
            "backgroundcolor": "#E5ECF6",
            "gridcolor": "white",
            "gridwidth": 2,
            "linecolor": "white",
            "showbackground": true,
            "ticks": "",
            "zerolinecolor": "white"
           },
           "yaxis": {
            "backgroundcolor": "#E5ECF6",
            "gridcolor": "white",
            "gridwidth": 2,
            "linecolor": "white",
            "showbackground": true,
            "ticks": "",
            "zerolinecolor": "white"
           },
           "zaxis": {
            "backgroundcolor": "#E5ECF6",
            "gridcolor": "white",
            "gridwidth": 2,
            "linecolor": "white",
            "showbackground": true,
            "ticks": "",
            "zerolinecolor": "white"
           }
          },
          "shapedefaults": {
           "line": {
            "color": "#2a3f5f"
           }
          },
          "ternary": {
           "aaxis": {
            "gridcolor": "white",
            "linecolor": "white",
            "ticks": ""
           },
           "baxis": {
            "gridcolor": "white",
            "linecolor": "white",
            "ticks": ""
           },
           "bgcolor": "#E5ECF6",
           "caxis": {
            "gridcolor": "white",
            "linecolor": "white",
            "ticks": ""
           }
          },
          "title": {
           "x": 0.05
          },
          "xaxis": {
           "automargin": true,
           "gridcolor": "white",
           "linecolor": "white",
           "ticks": "",
           "title": {
            "standoff": 15
           },
           "zerolinecolor": "white",
           "zerolinewidth": 2
          },
          "yaxis": {
           "automargin": true,
           "gridcolor": "white",
           "linecolor": "white",
           "ticks": "",
           "title": {
            "standoff": 15
           },
           "zerolinecolor": "white",
           "zerolinewidth": 2
          }
         }
        },
        "title": {
         "text": "Total Sales by Category & Sub-Category"
        },
        "xaxis": {
         "anchor": "y",
         "domain": [
          0,
          1
         ],
         "title": {
          "text": "Total Sales"
         }
        },
        "yaxis": {
         "anchor": "x",
         "categoryorder": "total ascending",
         "domain": [
          0,
          1
         ],
         "title": {
          "text": "Sub-Category"
         }
        }
       }
      }
     },
     "metadata": {},
     "output_type": "display_data"
    }
   ],
   "source": [
    "fig = px.bar(category_sales, \n",
    "             x='Total Sales', \n",
    "             y='Sub-Category', \n",
    "             color='Category', \n",
    "             orientation='h',  \n",
    "             title='Total Sales by Category & Sub-Category')\n",
    "\n",
    "fig.update_layout(yaxis={'categoryorder':'total ascending'})\n",
    "fig.show()\n"
   ]
  },
  {
   "cell_type": "code",
   "execution_count": 23,
   "metadata": {},
   "outputs": [
    {
     "data": {
      "text/html": [
       "<div>\n",
       "<style scoped>\n",
       "    .dataframe tbody tr th:only-of-type {\n",
       "        vertical-align: middle;\n",
       "    }\n",
       "\n",
       "    .dataframe tbody tr th {\n",
       "        vertical-align: top;\n",
       "    }\n",
       "\n",
       "    .dataframe thead th {\n",
       "        text-align: right;\n",
       "    }\n",
       "</style>\n",
       "<table border=\"1\" class=\"dataframe\">\n",
       "  <thead>\n",
       "    <tr style=\"text-align: right;\">\n",
       "      <th></th>\n",
       "      <th>Category</th>\n",
       "      <th>Sub-Category</th>\n",
       "      <th>Total Sales</th>\n",
       "      <th>Avg Monthly Sales</th>\n",
       "      <th>Profit</th>\n",
       "      <th>Profit Margin %</th>\n",
       "    </tr>\n",
       "  </thead>\n",
       "  <tbody>\n",
       "    <tr>\n",
       "      <th>3</th>\n",
       "      <td>Furniture</td>\n",
       "      <td>Tables</td>\n",
       "      <td>206965.5320</td>\n",
       "      <td>648.794771</td>\n",
       "      <td>-17725.4811</td>\n",
       "      <td>-8.564460</td>\n",
       "    </tr>\n",
       "    <tr>\n",
       "      <th>8</th>\n",
       "      <td>Furniture</td>\n",
       "      <td>Bookcases</td>\n",
       "      <td>114879.9963</td>\n",
       "      <td>503.859633</td>\n",
       "      <td>-3472.5560</td>\n",
       "      <td>-3.022768</td>\n",
       "    </tr>\n",
       "    <tr>\n",
       "      <th>12</th>\n",
       "      <td>Office Supplies</td>\n",
       "      <td>Supplies</td>\n",
       "      <td>46673.5380</td>\n",
       "      <td>245.650200</td>\n",
       "      <td>-1189.0995</td>\n",
       "      <td>-2.547695</td>\n",
       "    </tr>\n",
       "    <tr>\n",
       "      <th>5</th>\n",
       "      <td>Technology</td>\n",
       "      <td>Machines</td>\n",
       "      <td>189238.6310</td>\n",
       "      <td>1645.553313</td>\n",
       "      <td>3384.7569</td>\n",
       "      <td>1.788618</td>\n",
       "    </tr>\n",
       "    <tr>\n",
       "      <th>1</th>\n",
       "      <td>Furniture</td>\n",
       "      <td>Chairs</td>\n",
       "      <td>328449.1030</td>\n",
       "      <td>532.332420</td>\n",
       "      <td>26590.1663</td>\n",
       "      <td>8.095673</td>\n",
       "    </tr>\n",
       "  </tbody>\n",
       "</table>\n",
       "</div>"
      ],
      "text/plain": [
       "           Category Sub-Category  Total Sales  Avg Monthly Sales      Profit  \\\n",
       "3         Furniture       Tables  206965.5320         648.794771 -17725.4811   \n",
       "8         Furniture    Bookcases  114879.9963         503.859633  -3472.5560   \n",
       "12  Office Supplies     Supplies   46673.5380         245.650200  -1189.0995   \n",
       "5        Technology     Machines  189238.6310        1645.553313   3384.7569   \n",
       "1         Furniture       Chairs  328449.1030         532.332420  26590.1663   \n",
       "\n",
       "    Profit Margin %  \n",
       "3         -8.564460  \n",
       "8         -3.022768  \n",
       "12        -2.547695  \n",
       "5          1.788618  \n",
       "1          8.095673  "
      ]
     },
     "execution_count": 23,
     "metadata": {},
     "output_type": "execute_result"
    }
   ],
   "source": [
    "category_profit = df.groupby(['Category', 'Sub-Category'])['Profit'].sum().reset_index()\n",
    "\n",
    "category_analysis = category_sales.merge(category_profit, on=['Category', 'Sub-Category'])\n",
    "\n",
    "category_analysis['Profit Margin %'] = (category_analysis['Profit'] / category_analysis['Total Sales']) * 100\n",
    "\n",
    "category_analysis = category_analysis.sort_values(by='Profit Margin %')\n",
    "\n",
    "category_analysis.head()"
   ]
  },
  {
   "cell_type": "code",
   "execution_count": 24,
   "metadata": {},
   "outputs": [
    {
     "data": {
      "application/vnd.plotly.v1+json": {
       "config": {
        "plotlyServerURL": "https://plot.ly"
       },
       "data": [
        {
         "branchvalues": "total",
         "customdata": {
          "bdata": "hC0/9QAhIcCyP4EYoS4IwAihCAmuYQTAZxxSSS6e/D8W8N8W/DAgQEoXcj8hAyNA9HUrEYn6KkBEkQoyEHssQAjSzvj3ti1A4vXzlRXeMEC5Zx6DMhI4QAsxW8kADjlA1JAmToFlP0AFN4vqCJlCQLmgLh9AIkVAB3OiuCeyRUCyZigNlzVGQE2gCmvA5ANAY1rnIwAJMUAT4vxiTWUxQA==",
          "dtype": "f8",
          "shape": "20, 1"
         },
         "domain": {
          "x": [
           0,
           1
          ],
          "y": [
           0,
           1
          ]
         },
         "hovertemplate": "labels=%{label}<br>Total Sales=%{value}<br>parent=%{parent}<br>id=%{id}<br>Profit Margin %=%{color}<extra></extra>",
         "ids": [
          "Furniture/Tables",
          "Furniture/Bookcases",
          "Office Supplies/Supplies",
          "Technology/Machines",
          "Furniture/Chairs",
          "Office Supplies/Storage",
          "Technology/Phones",
          "Furniture/Furnishings",
          "Office Supplies/Binders",
          "Office Supplies/Appliances",
          "Office Supplies/Art",
          "Technology/Accessories",
          "Office Supplies/Fasteners",
          "Technology/Copiers",
          "Office Supplies/Envelopes",
          "Office Supplies/Paper",
          "Office Supplies/Labels",
          "Furniture",
          "Office Supplies",
          "Technology"
         ],
         "labels": [
          "Tables",
          "Bookcases",
          "Supplies",
          "Machines",
          "Chairs",
          "Storage",
          "Phones",
          "Furnishings",
          "Binders",
          "Appliances",
          "Art",
          "Accessories",
          "Fasteners",
          "Copiers",
          "Envelopes",
          "Paper",
          "Labels",
          "Furniture",
          "Office Supplies",
          "Technology"
         ],
         "marker": {
          "coloraxis": "coloraxis",
          "colors": {
           "bdata": "hC0/9QAhIcCyP4EYoS4IwAihCAmuYQTAZxxSSS6e/D8W8N8W/DAgQEoXcj8hAyNA9HUrEYn6KkBEkQoyEHssQAjSzvj3ti1A4vXzlRXeMEC5Zx6DMhI4QAsxW8kADjlA1JAmToFlP0AFN4vqCJlCQLmgLh9AIkVAB3OiuCeyRUCyZigNlzVGQE2gCmvA5ANAY1rnIwAJMUAT4vxiTWUxQA==",
           "dtype": "f8"
          }
         },
         "name": "",
         "parents": [
          "Furniture",
          "Furniture",
          "Office Supplies",
          "Technology",
          "Furniture",
          "Office Supplies",
          "Technology",
          "Furniture",
          "Office Supplies",
          "Office Supplies",
          "Office Supplies",
          "Technology",
          "Office Supplies",
          "Technology",
          "Office Supplies",
          "Office Supplies",
          "Office Supplies",
          "",
          "",
          ""
         ],
         "type": "treemap",
         "values": {
          "bdata": "TDeJQaxDCUHQRNjw/wv8QKjGSzcxyuZAXrpJDLUZB0H+1HhpBAwUQaAaL90cUwtBqMZLN1wkFEHJdr6fkmP2QKAaL92l1AhBa7x0k8JA+kCcxCCwsnvaQIGVQ4uibgRBw/UoXI+gp0DXo3A9wEACQT81XroZF9BA8KfGS/Mo80Atsp3vJ2PIQMWPMZffpCZB001iEI7xJUFCYOUQdIQpQQ==",
          "dtype": "f8"
         }
        }
       ],
       "layout": {
        "coloraxis": {
         "colorbar": {
          "title": {
           "text": "Profit Margin %"
          }
         },
         "colorscale": [
          [
           0,
           "rgb(165,0,38)"
          ],
          [
           0.1,
           "rgb(215,48,39)"
          ],
          [
           0.2,
           "rgb(244,109,67)"
          ],
          [
           0.3,
           "rgb(253,174,97)"
          ],
          [
           0.4,
           "rgb(254,224,139)"
          ],
          [
           0.5,
           "rgb(255,255,191)"
          ],
          [
           0.6,
           "rgb(217,239,139)"
          ],
          [
           0.7,
           "rgb(166,217,106)"
          ],
          [
           0.8,
           "rgb(102,189,99)"
          ],
          [
           0.9,
           "rgb(26,152,80)"
          ],
          [
           1,
           "rgb(0,104,55)"
          ]
         ]
        },
        "legend": {
         "tracegroupgap": 0
        },
        "template": {
         "data": {
          "bar": [
           {
            "error_x": {
             "color": "#2a3f5f"
            },
            "error_y": {
             "color": "#2a3f5f"
            },
            "marker": {
             "line": {
              "color": "#E5ECF6",
              "width": 0.5
             },
             "pattern": {
              "fillmode": "overlay",
              "size": 10,
              "solidity": 0.2
             }
            },
            "type": "bar"
           }
          ],
          "barpolar": [
           {
            "marker": {
             "line": {
              "color": "#E5ECF6",
              "width": 0.5
             },
             "pattern": {
              "fillmode": "overlay",
              "size": 10,
              "solidity": 0.2
             }
            },
            "type": "barpolar"
           }
          ],
          "carpet": [
           {
            "aaxis": {
             "endlinecolor": "#2a3f5f",
             "gridcolor": "white",
             "linecolor": "white",
             "minorgridcolor": "white",
             "startlinecolor": "#2a3f5f"
            },
            "baxis": {
             "endlinecolor": "#2a3f5f",
             "gridcolor": "white",
             "linecolor": "white",
             "minorgridcolor": "white",
             "startlinecolor": "#2a3f5f"
            },
            "type": "carpet"
           }
          ],
          "choropleth": [
           {
            "colorbar": {
             "outlinewidth": 0,
             "ticks": ""
            },
            "type": "choropleth"
           }
          ],
          "contour": [
           {
            "colorbar": {
             "outlinewidth": 0,
             "ticks": ""
            },
            "colorscale": [
             [
              0,
              "#0d0887"
             ],
             [
              0.1111111111111111,
              "#46039f"
             ],
             [
              0.2222222222222222,
              "#7201a8"
             ],
             [
              0.3333333333333333,
              "#9c179e"
             ],
             [
              0.4444444444444444,
              "#bd3786"
             ],
             [
              0.5555555555555556,
              "#d8576b"
             ],
             [
              0.6666666666666666,
              "#ed7953"
             ],
             [
              0.7777777777777778,
              "#fb9f3a"
             ],
             [
              0.8888888888888888,
              "#fdca26"
             ],
             [
              1,
              "#f0f921"
             ]
            ],
            "type": "contour"
           }
          ],
          "contourcarpet": [
           {
            "colorbar": {
             "outlinewidth": 0,
             "ticks": ""
            },
            "type": "contourcarpet"
           }
          ],
          "heatmap": [
           {
            "colorbar": {
             "outlinewidth": 0,
             "ticks": ""
            },
            "colorscale": [
             [
              0,
              "#0d0887"
             ],
             [
              0.1111111111111111,
              "#46039f"
             ],
             [
              0.2222222222222222,
              "#7201a8"
             ],
             [
              0.3333333333333333,
              "#9c179e"
             ],
             [
              0.4444444444444444,
              "#bd3786"
             ],
             [
              0.5555555555555556,
              "#d8576b"
             ],
             [
              0.6666666666666666,
              "#ed7953"
             ],
             [
              0.7777777777777778,
              "#fb9f3a"
             ],
             [
              0.8888888888888888,
              "#fdca26"
             ],
             [
              1,
              "#f0f921"
             ]
            ],
            "type": "heatmap"
           }
          ],
          "histogram": [
           {
            "marker": {
             "pattern": {
              "fillmode": "overlay",
              "size": 10,
              "solidity": 0.2
             }
            },
            "type": "histogram"
           }
          ],
          "histogram2d": [
           {
            "colorbar": {
             "outlinewidth": 0,
             "ticks": ""
            },
            "colorscale": [
             [
              0,
              "#0d0887"
             ],
             [
              0.1111111111111111,
              "#46039f"
             ],
             [
              0.2222222222222222,
              "#7201a8"
             ],
             [
              0.3333333333333333,
              "#9c179e"
             ],
             [
              0.4444444444444444,
              "#bd3786"
             ],
             [
              0.5555555555555556,
              "#d8576b"
             ],
             [
              0.6666666666666666,
              "#ed7953"
             ],
             [
              0.7777777777777778,
              "#fb9f3a"
             ],
             [
              0.8888888888888888,
              "#fdca26"
             ],
             [
              1,
              "#f0f921"
             ]
            ],
            "type": "histogram2d"
           }
          ],
          "histogram2dcontour": [
           {
            "colorbar": {
             "outlinewidth": 0,
             "ticks": ""
            },
            "colorscale": [
             [
              0,
              "#0d0887"
             ],
             [
              0.1111111111111111,
              "#46039f"
             ],
             [
              0.2222222222222222,
              "#7201a8"
             ],
             [
              0.3333333333333333,
              "#9c179e"
             ],
             [
              0.4444444444444444,
              "#bd3786"
             ],
             [
              0.5555555555555556,
              "#d8576b"
             ],
             [
              0.6666666666666666,
              "#ed7953"
             ],
             [
              0.7777777777777778,
              "#fb9f3a"
             ],
             [
              0.8888888888888888,
              "#fdca26"
             ],
             [
              1,
              "#f0f921"
             ]
            ],
            "type": "histogram2dcontour"
           }
          ],
          "mesh3d": [
           {
            "colorbar": {
             "outlinewidth": 0,
             "ticks": ""
            },
            "type": "mesh3d"
           }
          ],
          "parcoords": [
           {
            "line": {
             "colorbar": {
              "outlinewidth": 0,
              "ticks": ""
             }
            },
            "type": "parcoords"
           }
          ],
          "pie": [
           {
            "automargin": true,
            "type": "pie"
           }
          ],
          "scatter": [
           {
            "fillpattern": {
             "fillmode": "overlay",
             "size": 10,
             "solidity": 0.2
            },
            "type": "scatter"
           }
          ],
          "scatter3d": [
           {
            "line": {
             "colorbar": {
              "outlinewidth": 0,
              "ticks": ""
             }
            },
            "marker": {
             "colorbar": {
              "outlinewidth": 0,
              "ticks": ""
             }
            },
            "type": "scatter3d"
           }
          ],
          "scattercarpet": [
           {
            "marker": {
             "colorbar": {
              "outlinewidth": 0,
              "ticks": ""
             }
            },
            "type": "scattercarpet"
           }
          ],
          "scattergeo": [
           {
            "marker": {
             "colorbar": {
              "outlinewidth": 0,
              "ticks": ""
             }
            },
            "type": "scattergeo"
           }
          ],
          "scattergl": [
           {
            "marker": {
             "colorbar": {
              "outlinewidth": 0,
              "ticks": ""
             }
            },
            "type": "scattergl"
           }
          ],
          "scattermap": [
           {
            "marker": {
             "colorbar": {
              "outlinewidth": 0,
              "ticks": ""
             }
            },
            "type": "scattermap"
           }
          ],
          "scattermapbox": [
           {
            "marker": {
             "colorbar": {
              "outlinewidth": 0,
              "ticks": ""
             }
            },
            "type": "scattermapbox"
           }
          ],
          "scatterpolar": [
           {
            "marker": {
             "colorbar": {
              "outlinewidth": 0,
              "ticks": ""
             }
            },
            "type": "scatterpolar"
           }
          ],
          "scatterpolargl": [
           {
            "marker": {
             "colorbar": {
              "outlinewidth": 0,
              "ticks": ""
             }
            },
            "type": "scatterpolargl"
           }
          ],
          "scatterternary": [
           {
            "marker": {
             "colorbar": {
              "outlinewidth": 0,
              "ticks": ""
             }
            },
            "type": "scatterternary"
           }
          ],
          "surface": [
           {
            "colorbar": {
             "outlinewidth": 0,
             "ticks": ""
            },
            "colorscale": [
             [
              0,
              "#0d0887"
             ],
             [
              0.1111111111111111,
              "#46039f"
             ],
             [
              0.2222222222222222,
              "#7201a8"
             ],
             [
              0.3333333333333333,
              "#9c179e"
             ],
             [
              0.4444444444444444,
              "#bd3786"
             ],
             [
              0.5555555555555556,
              "#d8576b"
             ],
             [
              0.6666666666666666,
              "#ed7953"
             ],
             [
              0.7777777777777778,
              "#fb9f3a"
             ],
             [
              0.8888888888888888,
              "#fdca26"
             ],
             [
              1,
              "#f0f921"
             ]
            ],
            "type": "surface"
           }
          ],
          "table": [
           {
            "cells": {
             "fill": {
              "color": "#EBF0F8"
             },
             "line": {
              "color": "white"
             }
            },
            "header": {
             "fill": {
              "color": "#C8D4E3"
             },
             "line": {
              "color": "white"
             }
            },
            "type": "table"
           }
          ]
         },
         "layout": {
          "annotationdefaults": {
           "arrowcolor": "#2a3f5f",
           "arrowhead": 0,
           "arrowwidth": 1
          },
          "autotypenumbers": "strict",
          "coloraxis": {
           "colorbar": {
            "outlinewidth": 0,
            "ticks": ""
           }
          },
          "colorscale": {
           "diverging": [
            [
             0,
             "#8e0152"
            ],
            [
             0.1,
             "#c51b7d"
            ],
            [
             0.2,
             "#de77ae"
            ],
            [
             0.3,
             "#f1b6da"
            ],
            [
             0.4,
             "#fde0ef"
            ],
            [
             0.5,
             "#f7f7f7"
            ],
            [
             0.6,
             "#e6f5d0"
            ],
            [
             0.7,
             "#b8e186"
            ],
            [
             0.8,
             "#7fbc41"
            ],
            [
             0.9,
             "#4d9221"
            ],
            [
             1,
             "#276419"
            ]
           ],
           "sequential": [
            [
             0,
             "#0d0887"
            ],
            [
             0.1111111111111111,
             "#46039f"
            ],
            [
             0.2222222222222222,
             "#7201a8"
            ],
            [
             0.3333333333333333,
             "#9c179e"
            ],
            [
             0.4444444444444444,
             "#bd3786"
            ],
            [
             0.5555555555555556,
             "#d8576b"
            ],
            [
             0.6666666666666666,
             "#ed7953"
            ],
            [
             0.7777777777777778,
             "#fb9f3a"
            ],
            [
             0.8888888888888888,
             "#fdca26"
            ],
            [
             1,
             "#f0f921"
            ]
           ],
           "sequentialminus": [
            [
             0,
             "#0d0887"
            ],
            [
             0.1111111111111111,
             "#46039f"
            ],
            [
             0.2222222222222222,
             "#7201a8"
            ],
            [
             0.3333333333333333,
             "#9c179e"
            ],
            [
             0.4444444444444444,
             "#bd3786"
            ],
            [
             0.5555555555555556,
             "#d8576b"
            ],
            [
             0.6666666666666666,
             "#ed7953"
            ],
            [
             0.7777777777777778,
             "#fb9f3a"
            ],
            [
             0.8888888888888888,
             "#fdca26"
            ],
            [
             1,
             "#f0f921"
            ]
           ]
          },
          "colorway": [
           "#636efa",
           "#EF553B",
           "#00cc96",
           "#ab63fa",
           "#FFA15A",
           "#19d3f3",
           "#FF6692",
           "#B6E880",
           "#FF97FF",
           "#FECB52"
          ],
          "font": {
           "color": "#2a3f5f"
          },
          "geo": {
           "bgcolor": "white",
           "lakecolor": "white",
           "landcolor": "#E5ECF6",
           "showlakes": true,
           "showland": true,
           "subunitcolor": "white"
          },
          "hoverlabel": {
           "align": "left"
          },
          "hovermode": "closest",
          "mapbox": {
           "style": "light"
          },
          "paper_bgcolor": "white",
          "plot_bgcolor": "#E5ECF6",
          "polar": {
           "angularaxis": {
            "gridcolor": "white",
            "linecolor": "white",
            "ticks": ""
           },
           "bgcolor": "#E5ECF6",
           "radialaxis": {
            "gridcolor": "white",
            "linecolor": "white",
            "ticks": ""
           }
          },
          "scene": {
           "xaxis": {
            "backgroundcolor": "#E5ECF6",
            "gridcolor": "white",
            "gridwidth": 2,
            "linecolor": "white",
            "showbackground": true,
            "ticks": "",
            "zerolinecolor": "white"
           },
           "yaxis": {
            "backgroundcolor": "#E5ECF6",
            "gridcolor": "white",
            "gridwidth": 2,
            "linecolor": "white",
            "showbackground": true,
            "ticks": "",
            "zerolinecolor": "white"
           },
           "zaxis": {
            "backgroundcolor": "#E5ECF6",
            "gridcolor": "white",
            "gridwidth": 2,
            "linecolor": "white",
            "showbackground": true,
            "ticks": "",
            "zerolinecolor": "white"
           }
          },
          "shapedefaults": {
           "line": {
            "color": "#2a3f5f"
           }
          },
          "ternary": {
           "aaxis": {
            "gridcolor": "white",
            "linecolor": "white",
            "ticks": ""
           },
           "baxis": {
            "gridcolor": "white",
            "linecolor": "white",
            "ticks": ""
           },
           "bgcolor": "#E5ECF6",
           "caxis": {
            "gridcolor": "white",
            "linecolor": "white",
            "ticks": ""
           }
          },
          "title": {
           "x": 0.05
          },
          "xaxis": {
           "automargin": true,
           "gridcolor": "white",
           "linecolor": "white",
           "ticks": "",
           "title": {
            "standoff": 15
           },
           "zerolinecolor": "white",
           "zerolinewidth": 2
          },
          "yaxis": {
           "automargin": true,
           "gridcolor": "white",
           "linecolor": "white",
           "ticks": "",
           "title": {
            "standoff": 15
           },
           "zerolinecolor": "white",
           "zerolinewidth": 2
          }
         }
        },
        "title": {
         "text": "Profitability by Category & Sub-Category"
        }
       }
      }
     },
     "metadata": {},
     "output_type": "display_data"
    }
   ],
   "source": [
    "fig = px.treemap(category_analysis, \n",
    "                 path=['Category', 'Sub-Category'], \n",
    "                 values='Total Sales', \n",
    "                 color='Profit Margin %',\n",
    "                 title='Profitability by Category & Sub-Category',\n",
    "                 color_continuous_scale='RdYlGn') \n",
    "\n",
    "fig.show()"
   ]
  },
  {
   "cell_type": "code",
   "execution_count": 45,
   "metadata": {},
   "outputs": [],
   "source": [
    "# Convert state names to abbreviations so plotly could read them\n",
    "df['State Code'] = df['State'].apply(lambda x: us.states.lookup(x).abbr if us.states.lookup(x) else x)"
   ]
  },
  {
   "cell_type": "code",
   "execution_count": 46,
   "metadata": {},
   "outputs": [],
   "source": [
    "region_sales = region_sales.merge(df[['State', 'State Code']].drop_duplicates(), on='State', how='left')"
   ]
  },
  {
   "cell_type": "code",
   "execution_count": 60,
   "metadata": {},
   "outputs": [
    {
     "data": {
      "application/vnd.plotly.v1+json": {
       "config": {
        "plotlyServerURL": "https://plot.ly"
       },
       "data": [
        {
         "coloraxis": "coloraxis",
         "geo": "geo",
         "hovertemplate": "State Code=%{location}<br>Sales=%{z}<extra></extra>",
         "locationmode": "USA-states",
         "locations": [
          "CA",
          "NY",
          "CA",
          "TX",
          "CA",
          "NY",
          "WA",
          "PA",
          "NY",
          "TX",
          "IL",
          "OH",
          "WA",
          "MI",
          "VA",
          "FL",
          "FL",
          "IN",
          "PA",
          "NC",
          "VA",
          "WA",
          "GA",
          "OH",
          "MI",
          "FL",
          "KY",
          "TX",
          "MN",
          "IL",
          "NC",
          "PA",
          "NJ",
          "DE",
          "TN",
          "AZ",
          "MI",
          "IL",
          "GA",
          "CO",
          "IN",
          "RI",
          "WI",
          "NJ",
          "WI",
          "AZ",
          "OK",
          "MD",
          "MA",
          "AL",
          "OH",
          "MO",
          "MD",
          "CO",
          "TN",
          "MA",
          "OR",
          "AR",
          "GA",
          "DE",
          "KY",
          "KY",
          "MA",
          "MS",
          "AL",
          "MN",
          "VA",
          "UT",
          "AZ",
          "NC",
          "IN",
          "NV",
          "OR",
          "MO",
          "CO",
          "VT",
          "LA",
          "CT",
          "CT",
          "OK",
          "SC",
          "WI",
          "NH",
          "RI",
          "NV",
          "NE",
          "MO",
          "NV",
          "MT",
          "TN",
          "NJ",
          "MN",
          "SC",
          "District of Columbia",
          "ID",
          "OK",
          "RI",
          "AR",
          "MD",
          "NM",
          "DE",
          "UT",
          "IA",
          "OR",
          "UT",
          "LA",
          "CT",
          "MS",
          "WY",
          "IA",
          "ID",
          "MS",
          "VT",
          "NM",
          "KS",
          "VT",
          "SD",
          "NM",
          "NE",
          "ME",
          "LA",
          "AL",
          "NH",
          "NE",
          "IA",
          "NH",
          "KS",
          "MT",
          "ND",
          "KS",
          "WV",
          "WV",
          "AR",
          "ID",
          "District of Columbia",
          "ME",
          "MT",
          "SD",
          "ND",
          "SC"
         ],
         "name": "",
         "type": "choropleth",
         "z": {
          "bdata": "PQrXoyAIDEF7FK5HSGMFQWQ738819wFBXrpJDIZu90AzMzMzzb7zQLpJDAL1B/NAH4XrUagI8kCcxCCwNFXwQMdLN4l9LuxAQs9m1YNS6kDXo3A9xg/mQOOlm8RAF+VAUrgeheNl40DVeOkmvezhQI/C9Sh0bOFAf2q8dN2+4ECBlUOLTO/fQMP1KFwvC99ARIts54Nm3kA5tMh2TkvdQIXrUbhe29pAXI/C9eh12EDhehSux9/XQMDKoUV+pNdArBxaZOPX1kDl0CLbZfPVQEjhehSu89NAjZduEuPT00BSuB6Fy8jSQNNNYhDojdJAtMh2vi840kBxPQrXowzSQI/C9SgM19FAtvP91HCQ0EC8dJMYvDDQQLpJDAIbCtBAMzMzMxOUz0BxPQrXIzjPQAAAAAAgN89A0SLb+T7ZzkAVrkfhekXNQI/C9Si81cxASOF6FC7My0BWDi2y/QrKQD4K16PQNchAqMZLNynsxkD2KFyP4pTGQD4K16MQPcZA7FG4HsXHxUA+CtejsGzFQBKDwMoRM8VApHA9CjeCxEBt5/upAaPDQPp+arz0bMNAuR6F6+EIw0DqJjEIzNPCQJZDi2z3XsFAexSuRwExwUCPwvUoPO3AQBbZzvfTO8BAmpmZmZkUwECuR+F61Pe+QM3MzMxMo75ArkfhepQIvkDXo3A9inG9QI/C9SjcXL1Aj8L1KJwbvUAv3SQGAfC7QBKDwMpB0btA1XjpJjElu0Bcj8L1qHu6QIts5/tpuLlAH4XrUfijuUDNzMzMzJm5QFg5tMi237hACtejcD2KuED2KFyPQh64QDEIrBx6LbdAPQrXo7BTtkCG61G43q+1QAAAAADAo7VAhetRuJ5utUBDi2zn+ya1QGZmZmYmBbVAeOkmMUjetEAAAAAAQI20QFK4HoXrHrRALbKd72fCskB/arx0EyOyQAaBlUMr8bBAcD0K1yNCsEAfhetROE6oQK5H4XoUyKZASOF6FK6CpUAAAAAAgIykQAAAAACAE6RA6iYxCKxmo0DD9Shcjz+jQPUoXI/CsqFAz/dT46UUoUDNzMzMTAOhQEw3iUHgfqBAcT0K1yNooEBzaJHt/NSeQPp+arx0kp5AZmZmZmZpnUD2KFyPwhybQFyPwvUo4JpABoGVQ4sMmUApXI/C9YCYQESLbOf7kZZAexSuR+FKlUDsUbgehSGVQKabxCCwvZRAzMzMzMyblEAAAAAAADuUQLgehetR15NAyXa+nxrXk0ApXI/C9cqTQM3MzMzMMZJASOF6FK4hkkD2KFyPwl2PQDMzMzMzR45A7FG4HoVHjUCamZmZmXuMQIbrUbgeZYxAPgrXo3ARjEBiEFg5tBCMQArXo3A93ItAPQrXo3DJhUCYbhKDwAqFQKRwPQrXw4BAPQrXo3DFeUCkcD0K1ztzQOxRuB6F61tAhutRuB6FWkDy0k1iEBhIQD4K16Nw3UZA4XoUrkdhPEDsUbgehes5QA==",
          "dtype": "f8"
         }
        }
       ],
       "layout": {
        "coloraxis": {
         "cmax": 67247.65434999988,
         "cmin": 25.92,
         "colorbar": {
          "title": {
           "text": "Sales"
          }
         },
         "colorscale": [
          [
           0,
           "rgb(247,251,255)"
          ],
          [
           0.125,
           "rgb(222,235,247)"
          ],
          [
           0.25,
           "rgb(198,219,239)"
          ],
          [
           0.375,
           "rgb(158,202,225)"
          ],
          [
           0.5,
           "rgb(107,174,214)"
          ],
          [
           0.625,
           "rgb(66,146,198)"
          ],
          [
           0.75,
           "rgb(33,113,181)"
          ],
          [
           0.875,
           "rgb(8,81,156)"
          ],
          [
           1,
           "rgb(8,48,107)"
          ]
         ]
        },
        "geo": {
         "center": {},
         "domain": {
          "x": [
           0,
           1
          ],
          "y": [
           0,
           1
          ]
         },
         "scope": "usa"
        },
        "legend": {
         "tracegroupgap": 0
        },
        "template": {
         "data": {
          "bar": [
           {
            "error_x": {
             "color": "#2a3f5f"
            },
            "error_y": {
             "color": "#2a3f5f"
            },
            "marker": {
             "line": {
              "color": "#E5ECF6",
              "width": 0.5
             },
             "pattern": {
              "fillmode": "overlay",
              "size": 10,
              "solidity": 0.2
             }
            },
            "type": "bar"
           }
          ],
          "barpolar": [
           {
            "marker": {
             "line": {
              "color": "#E5ECF6",
              "width": 0.5
             },
             "pattern": {
              "fillmode": "overlay",
              "size": 10,
              "solidity": 0.2
             }
            },
            "type": "barpolar"
           }
          ],
          "carpet": [
           {
            "aaxis": {
             "endlinecolor": "#2a3f5f",
             "gridcolor": "white",
             "linecolor": "white",
             "minorgridcolor": "white",
             "startlinecolor": "#2a3f5f"
            },
            "baxis": {
             "endlinecolor": "#2a3f5f",
             "gridcolor": "white",
             "linecolor": "white",
             "minorgridcolor": "white",
             "startlinecolor": "#2a3f5f"
            },
            "type": "carpet"
           }
          ],
          "choropleth": [
           {
            "colorbar": {
             "outlinewidth": 0,
             "ticks": ""
            },
            "type": "choropleth"
           }
          ],
          "contour": [
           {
            "colorbar": {
             "outlinewidth": 0,
             "ticks": ""
            },
            "colorscale": [
             [
              0,
              "#0d0887"
             ],
             [
              0.1111111111111111,
              "#46039f"
             ],
             [
              0.2222222222222222,
              "#7201a8"
             ],
             [
              0.3333333333333333,
              "#9c179e"
             ],
             [
              0.4444444444444444,
              "#bd3786"
             ],
             [
              0.5555555555555556,
              "#d8576b"
             ],
             [
              0.6666666666666666,
              "#ed7953"
             ],
             [
              0.7777777777777778,
              "#fb9f3a"
             ],
             [
              0.8888888888888888,
              "#fdca26"
             ],
             [
              1,
              "#f0f921"
             ]
            ],
            "type": "contour"
           }
          ],
          "contourcarpet": [
           {
            "colorbar": {
             "outlinewidth": 0,
             "ticks": ""
            },
            "type": "contourcarpet"
           }
          ],
          "heatmap": [
           {
            "colorbar": {
             "outlinewidth": 0,
             "ticks": ""
            },
            "colorscale": [
             [
              0,
              "#0d0887"
             ],
             [
              0.1111111111111111,
              "#46039f"
             ],
             [
              0.2222222222222222,
              "#7201a8"
             ],
             [
              0.3333333333333333,
              "#9c179e"
             ],
             [
              0.4444444444444444,
              "#bd3786"
             ],
             [
              0.5555555555555556,
              "#d8576b"
             ],
             [
              0.6666666666666666,
              "#ed7953"
             ],
             [
              0.7777777777777778,
              "#fb9f3a"
             ],
             [
              0.8888888888888888,
              "#fdca26"
             ],
             [
              1,
              "#f0f921"
             ]
            ],
            "type": "heatmap"
           }
          ],
          "histogram": [
           {
            "marker": {
             "pattern": {
              "fillmode": "overlay",
              "size": 10,
              "solidity": 0.2
             }
            },
            "type": "histogram"
           }
          ],
          "histogram2d": [
           {
            "colorbar": {
             "outlinewidth": 0,
             "ticks": ""
            },
            "colorscale": [
             [
              0,
              "#0d0887"
             ],
             [
              0.1111111111111111,
              "#46039f"
             ],
             [
              0.2222222222222222,
              "#7201a8"
             ],
             [
              0.3333333333333333,
              "#9c179e"
             ],
             [
              0.4444444444444444,
              "#bd3786"
             ],
             [
              0.5555555555555556,
              "#d8576b"
             ],
             [
              0.6666666666666666,
              "#ed7953"
             ],
             [
              0.7777777777777778,
              "#fb9f3a"
             ],
             [
              0.8888888888888888,
              "#fdca26"
             ],
             [
              1,
              "#f0f921"
             ]
            ],
            "type": "histogram2d"
           }
          ],
          "histogram2dcontour": [
           {
            "colorbar": {
             "outlinewidth": 0,
             "ticks": ""
            },
            "colorscale": [
             [
              0,
              "#0d0887"
             ],
             [
              0.1111111111111111,
              "#46039f"
             ],
             [
              0.2222222222222222,
              "#7201a8"
             ],
             [
              0.3333333333333333,
              "#9c179e"
             ],
             [
              0.4444444444444444,
              "#bd3786"
             ],
             [
              0.5555555555555556,
              "#d8576b"
             ],
             [
              0.6666666666666666,
              "#ed7953"
             ],
             [
              0.7777777777777778,
              "#fb9f3a"
             ],
             [
              0.8888888888888888,
              "#fdca26"
             ],
             [
              1,
              "#f0f921"
             ]
            ],
            "type": "histogram2dcontour"
           }
          ],
          "mesh3d": [
           {
            "colorbar": {
             "outlinewidth": 0,
             "ticks": ""
            },
            "type": "mesh3d"
           }
          ],
          "parcoords": [
           {
            "line": {
             "colorbar": {
              "outlinewidth": 0,
              "ticks": ""
             }
            },
            "type": "parcoords"
           }
          ],
          "pie": [
           {
            "automargin": true,
            "type": "pie"
           }
          ],
          "scatter": [
           {
            "fillpattern": {
             "fillmode": "overlay",
             "size": 10,
             "solidity": 0.2
            },
            "type": "scatter"
           }
          ],
          "scatter3d": [
           {
            "line": {
             "colorbar": {
              "outlinewidth": 0,
              "ticks": ""
             }
            },
            "marker": {
             "colorbar": {
              "outlinewidth": 0,
              "ticks": ""
             }
            },
            "type": "scatter3d"
           }
          ],
          "scattercarpet": [
           {
            "marker": {
             "colorbar": {
              "outlinewidth": 0,
              "ticks": ""
             }
            },
            "type": "scattercarpet"
           }
          ],
          "scattergeo": [
           {
            "marker": {
             "colorbar": {
              "outlinewidth": 0,
              "ticks": ""
             }
            },
            "type": "scattergeo"
           }
          ],
          "scattergl": [
           {
            "marker": {
             "colorbar": {
              "outlinewidth": 0,
              "ticks": ""
             }
            },
            "type": "scattergl"
           }
          ],
          "scattermap": [
           {
            "marker": {
             "colorbar": {
              "outlinewidth": 0,
              "ticks": ""
             }
            },
            "type": "scattermap"
           }
          ],
          "scattermapbox": [
           {
            "marker": {
             "colorbar": {
              "outlinewidth": 0,
              "ticks": ""
             }
            },
            "type": "scattermapbox"
           }
          ],
          "scatterpolar": [
           {
            "marker": {
             "colorbar": {
              "outlinewidth": 0,
              "ticks": ""
             }
            },
            "type": "scatterpolar"
           }
          ],
          "scatterpolargl": [
           {
            "marker": {
             "colorbar": {
              "outlinewidth": 0,
              "ticks": ""
             }
            },
            "type": "scatterpolargl"
           }
          ],
          "scatterternary": [
           {
            "marker": {
             "colorbar": {
              "outlinewidth": 0,
              "ticks": ""
             }
            },
            "type": "scatterternary"
           }
          ],
          "surface": [
           {
            "colorbar": {
             "outlinewidth": 0,
             "ticks": ""
            },
            "colorscale": [
             [
              0,
              "#0d0887"
             ],
             [
              0.1111111111111111,
              "#46039f"
             ],
             [
              0.2222222222222222,
              "#7201a8"
             ],
             [
              0.3333333333333333,
              "#9c179e"
             ],
             [
              0.4444444444444444,
              "#bd3786"
             ],
             [
              0.5555555555555556,
              "#d8576b"
             ],
             [
              0.6666666666666666,
              "#ed7953"
             ],
             [
              0.7777777777777778,
              "#fb9f3a"
             ],
             [
              0.8888888888888888,
              "#fdca26"
             ],
             [
              1,
              "#f0f921"
             ]
            ],
            "type": "surface"
           }
          ],
          "table": [
           {
            "cells": {
             "fill": {
              "color": "#EBF0F8"
             },
             "line": {
              "color": "white"
             }
            },
            "header": {
             "fill": {
              "color": "#C8D4E3"
             },
             "line": {
              "color": "white"
             }
            },
            "type": "table"
           }
          ]
         },
         "layout": {
          "annotationdefaults": {
           "arrowcolor": "#2a3f5f",
           "arrowhead": 0,
           "arrowwidth": 1
          },
          "autotypenumbers": "strict",
          "coloraxis": {
           "colorbar": {
            "outlinewidth": 0,
            "ticks": ""
           }
          },
          "colorscale": {
           "diverging": [
            [
             0,
             "#8e0152"
            ],
            [
             0.1,
             "#c51b7d"
            ],
            [
             0.2,
             "#de77ae"
            ],
            [
             0.3,
             "#f1b6da"
            ],
            [
             0.4,
             "#fde0ef"
            ],
            [
             0.5,
             "#f7f7f7"
            ],
            [
             0.6,
             "#e6f5d0"
            ],
            [
             0.7,
             "#b8e186"
            ],
            [
             0.8,
             "#7fbc41"
            ],
            [
             0.9,
             "#4d9221"
            ],
            [
             1,
             "#276419"
            ]
           ],
           "sequential": [
            [
             0,
             "#0d0887"
            ],
            [
             0.1111111111111111,
             "#46039f"
            ],
            [
             0.2222222222222222,
             "#7201a8"
            ],
            [
             0.3333333333333333,
             "#9c179e"
            ],
            [
             0.4444444444444444,
             "#bd3786"
            ],
            [
             0.5555555555555556,
             "#d8576b"
            ],
            [
             0.6666666666666666,
             "#ed7953"
            ],
            [
             0.7777777777777778,
             "#fb9f3a"
            ],
            [
             0.8888888888888888,
             "#fdca26"
            ],
            [
             1,
             "#f0f921"
            ]
           ],
           "sequentialminus": [
            [
             0,
             "#0d0887"
            ],
            [
             0.1111111111111111,
             "#46039f"
            ],
            [
             0.2222222222222222,
             "#7201a8"
            ],
            [
             0.3333333333333333,
             "#9c179e"
            ],
            [
             0.4444444444444444,
             "#bd3786"
            ],
            [
             0.5555555555555556,
             "#d8576b"
            ],
            [
             0.6666666666666666,
             "#ed7953"
            ],
            [
             0.7777777777777778,
             "#fb9f3a"
            ],
            [
             0.8888888888888888,
             "#fdca26"
            ],
            [
             1,
             "#f0f921"
            ]
           ]
          },
          "colorway": [
           "#636efa",
           "#EF553B",
           "#00cc96",
           "#ab63fa",
           "#FFA15A",
           "#19d3f3",
           "#FF6692",
           "#B6E880",
           "#FF97FF",
           "#FECB52"
          ],
          "font": {
           "color": "#2a3f5f"
          },
          "geo": {
           "bgcolor": "white",
           "lakecolor": "white",
           "landcolor": "#E5ECF6",
           "showlakes": true,
           "showland": true,
           "subunitcolor": "white"
          },
          "hoverlabel": {
           "align": "left"
          },
          "hovermode": "closest",
          "mapbox": {
           "style": "light"
          },
          "paper_bgcolor": "white",
          "plot_bgcolor": "#E5ECF6",
          "polar": {
           "angularaxis": {
            "gridcolor": "white",
            "linecolor": "white",
            "ticks": ""
           },
           "bgcolor": "#E5ECF6",
           "radialaxis": {
            "gridcolor": "white",
            "linecolor": "white",
            "ticks": ""
           }
          },
          "scene": {
           "xaxis": {
            "backgroundcolor": "#E5ECF6",
            "gridcolor": "white",
            "gridwidth": 2,
            "linecolor": "white",
            "showbackground": true,
            "ticks": "",
            "zerolinecolor": "white"
           },
           "yaxis": {
            "backgroundcolor": "#E5ECF6",
            "gridcolor": "white",
            "gridwidth": 2,
            "linecolor": "white",
            "showbackground": true,
            "ticks": "",
            "zerolinecolor": "white"
           },
           "zaxis": {
            "backgroundcolor": "#E5ECF6",
            "gridcolor": "white",
            "gridwidth": 2,
            "linecolor": "white",
            "showbackground": true,
            "ticks": "",
            "zerolinecolor": "white"
           }
          },
          "shapedefaults": {
           "line": {
            "color": "#2a3f5f"
           }
          },
          "ternary": {
           "aaxis": {
            "gridcolor": "white",
            "linecolor": "white",
            "ticks": ""
           },
           "baxis": {
            "gridcolor": "white",
            "linecolor": "white",
            "ticks": ""
           },
           "bgcolor": "#E5ECF6",
           "caxis": {
            "gridcolor": "white",
            "linecolor": "white",
            "ticks": ""
           }
          },
          "title": {
           "x": 0.05
          },
          "xaxis": {
           "automargin": true,
           "gridcolor": "white",
           "linecolor": "white",
           "ticks": "",
           "title": {
            "standoff": 15
           },
           "zerolinecolor": "white",
           "zerolinewidth": 2
          },
          "yaxis": {
           "automargin": true,
           "gridcolor": "white",
           "linecolor": "white",
           "ticks": "",
           "title": {
            "standoff": 15
           },
           "zerolinecolor": "white",
           "zerolinewidth": 2
          }
         }
        },
        "title": {
         "text": "Total Sales by State"
        }
       }
      }
     },
     "metadata": {},
     "output_type": "display_data"
    }
   ],
   "source": [
    "fig = px.choropleth(region_sales, \n",
    "                    locations='State Code', \n",
    "                    locationmode='USA-states', \n",
    "                    color='Sales', \n",
    "                    scope=\"usa\",\n",
    "                    title=\"Total Sales by State\",\n",
    "                    color_continuous_scale='Blues',\n",
    "                    range_color=[region_sales['Sales'].min(), region_sales['Sales'].quantile(0.95)])\n",
    "\n",
    "fig.show()\n",
    "\n",
    "# it's slowing vscode so I commented it till I finish"
   ]
  },
  {
   "cell_type": "code",
   "execution_count": null,
   "metadata": {},
   "outputs": [
    {
     "data": {
      "application/vnd.plotly.v1+json": {
       "config": {
        "plotlyServerURL": "https://plot.ly"
       },
       "data": [
        {
         "hovertemplate": "Sales=%{x}<br>Region=%{y}<br>Profit Margin %=%{marker.color}<extra></extra>",
         "legendgroup": "",
         "marker": {
          "color": {
           "bdata": "LqrIZ7+vH0A8kGgEgPcqQLru+wVi3idAWoOo8cDjLUA=",
           "dtype": "f8"
          },
          "coloraxis": "coloraxis",
          "pattern": {
           "shape": ""
          }
         },
         "name": "",
         "orientation": "h",
         "showlegend": false,
         "textposition": "auto",
         "type": "bar",
         "x": {
          "bdata": "DeAtkN+XHkGuR+F6+rYkQetRuJ6n6BdBL90kpqMjJkE=",
          "dtype": "f8"
         },
         "xaxis": "x",
         "y": [
          "Central",
          "East",
          "South",
          "West"
         ],
         "yaxis": "y"
        }
       ],
       "layout": {
        "barmode": "relative",
        "coloraxis": {
         "colorbar": {
          "title": {
           "text": "Profit Margin %"
          }
         },
         "colorscale": [
          [
           0,
           "rgb(165,0,38)"
          ],
          [
           0.1,
           "rgb(215,48,39)"
          ],
          [
           0.2,
           "rgb(244,109,67)"
          ],
          [
           0.3,
           "rgb(253,174,97)"
          ],
          [
           0.4,
           "rgb(254,224,139)"
          ],
          [
           0.5,
           "rgb(255,255,191)"
          ],
          [
           0.6,
           "rgb(217,239,139)"
          ],
          [
           0.7,
           "rgb(166,217,106)"
          ],
          [
           0.8,
           "rgb(102,189,99)"
          ],
          [
           0.9,
           "rgb(26,152,80)"
          ],
          [
           1,
           "rgb(0,104,55)"
          ]
         ]
        },
        "legend": {
         "tracegroupgap": 0
        },
        "template": {
         "data": {
          "bar": [
           {
            "error_x": {
             "color": "#2a3f5f"
            },
            "error_y": {
             "color": "#2a3f5f"
            },
            "marker": {
             "line": {
              "color": "#E5ECF6",
              "width": 0.5
             },
             "pattern": {
              "fillmode": "overlay",
              "size": 10,
              "solidity": 0.2
             }
            },
            "type": "bar"
           }
          ],
          "barpolar": [
           {
            "marker": {
             "line": {
              "color": "#E5ECF6",
              "width": 0.5
             },
             "pattern": {
              "fillmode": "overlay",
              "size": 10,
              "solidity": 0.2
             }
            },
            "type": "barpolar"
           }
          ],
          "carpet": [
           {
            "aaxis": {
             "endlinecolor": "#2a3f5f",
             "gridcolor": "white",
             "linecolor": "white",
             "minorgridcolor": "white",
             "startlinecolor": "#2a3f5f"
            },
            "baxis": {
             "endlinecolor": "#2a3f5f",
             "gridcolor": "white",
             "linecolor": "white",
             "minorgridcolor": "white",
             "startlinecolor": "#2a3f5f"
            },
            "type": "carpet"
           }
          ],
          "choropleth": [
           {
            "colorbar": {
             "outlinewidth": 0,
             "ticks": ""
            },
            "type": "choropleth"
           }
          ],
          "contour": [
           {
            "colorbar": {
             "outlinewidth": 0,
             "ticks": ""
            },
            "colorscale": [
             [
              0,
              "#0d0887"
             ],
             [
              0.1111111111111111,
              "#46039f"
             ],
             [
              0.2222222222222222,
              "#7201a8"
             ],
             [
              0.3333333333333333,
              "#9c179e"
             ],
             [
              0.4444444444444444,
              "#bd3786"
             ],
             [
              0.5555555555555556,
              "#d8576b"
             ],
             [
              0.6666666666666666,
              "#ed7953"
             ],
             [
              0.7777777777777778,
              "#fb9f3a"
             ],
             [
              0.8888888888888888,
              "#fdca26"
             ],
             [
              1,
              "#f0f921"
             ]
            ],
            "type": "contour"
           }
          ],
          "contourcarpet": [
           {
            "colorbar": {
             "outlinewidth": 0,
             "ticks": ""
            },
            "type": "contourcarpet"
           }
          ],
          "heatmap": [
           {
            "colorbar": {
             "outlinewidth": 0,
             "ticks": ""
            },
            "colorscale": [
             [
              0,
              "#0d0887"
             ],
             [
              0.1111111111111111,
              "#46039f"
             ],
             [
              0.2222222222222222,
              "#7201a8"
             ],
             [
              0.3333333333333333,
              "#9c179e"
             ],
             [
              0.4444444444444444,
              "#bd3786"
             ],
             [
              0.5555555555555556,
              "#d8576b"
             ],
             [
              0.6666666666666666,
              "#ed7953"
             ],
             [
              0.7777777777777778,
              "#fb9f3a"
             ],
             [
              0.8888888888888888,
              "#fdca26"
             ],
             [
              1,
              "#f0f921"
             ]
            ],
            "type": "heatmap"
           }
          ],
          "histogram": [
           {
            "marker": {
             "pattern": {
              "fillmode": "overlay",
              "size": 10,
              "solidity": 0.2
             }
            },
            "type": "histogram"
           }
          ],
          "histogram2d": [
           {
            "colorbar": {
             "outlinewidth": 0,
             "ticks": ""
            },
            "colorscale": [
             [
              0,
              "#0d0887"
             ],
             [
              0.1111111111111111,
              "#46039f"
             ],
             [
              0.2222222222222222,
              "#7201a8"
             ],
             [
              0.3333333333333333,
              "#9c179e"
             ],
             [
              0.4444444444444444,
              "#bd3786"
             ],
             [
              0.5555555555555556,
              "#d8576b"
             ],
             [
              0.6666666666666666,
              "#ed7953"
             ],
             [
              0.7777777777777778,
              "#fb9f3a"
             ],
             [
              0.8888888888888888,
              "#fdca26"
             ],
             [
              1,
              "#f0f921"
             ]
            ],
            "type": "histogram2d"
           }
          ],
          "histogram2dcontour": [
           {
            "colorbar": {
             "outlinewidth": 0,
             "ticks": ""
            },
            "colorscale": [
             [
              0,
              "#0d0887"
             ],
             [
              0.1111111111111111,
              "#46039f"
             ],
             [
              0.2222222222222222,
              "#7201a8"
             ],
             [
              0.3333333333333333,
              "#9c179e"
             ],
             [
              0.4444444444444444,
              "#bd3786"
             ],
             [
              0.5555555555555556,
              "#d8576b"
             ],
             [
              0.6666666666666666,
              "#ed7953"
             ],
             [
              0.7777777777777778,
              "#fb9f3a"
             ],
             [
              0.8888888888888888,
              "#fdca26"
             ],
             [
              1,
              "#f0f921"
             ]
            ],
            "type": "histogram2dcontour"
           }
          ],
          "mesh3d": [
           {
            "colorbar": {
             "outlinewidth": 0,
             "ticks": ""
            },
            "type": "mesh3d"
           }
          ],
          "parcoords": [
           {
            "line": {
             "colorbar": {
              "outlinewidth": 0,
              "ticks": ""
             }
            },
            "type": "parcoords"
           }
          ],
          "pie": [
           {
            "automargin": true,
            "type": "pie"
           }
          ],
          "scatter": [
           {
            "fillpattern": {
             "fillmode": "overlay",
             "size": 10,
             "solidity": 0.2
            },
            "type": "scatter"
           }
          ],
          "scatter3d": [
           {
            "line": {
             "colorbar": {
              "outlinewidth": 0,
              "ticks": ""
             }
            },
            "marker": {
             "colorbar": {
              "outlinewidth": 0,
              "ticks": ""
             }
            },
            "type": "scatter3d"
           }
          ],
          "scattercarpet": [
           {
            "marker": {
             "colorbar": {
              "outlinewidth": 0,
              "ticks": ""
             }
            },
            "type": "scattercarpet"
           }
          ],
          "scattergeo": [
           {
            "marker": {
             "colorbar": {
              "outlinewidth": 0,
              "ticks": ""
             }
            },
            "type": "scattergeo"
           }
          ],
          "scattergl": [
           {
            "marker": {
             "colorbar": {
              "outlinewidth": 0,
              "ticks": ""
             }
            },
            "type": "scattergl"
           }
          ],
          "scattermap": [
           {
            "marker": {
             "colorbar": {
              "outlinewidth": 0,
              "ticks": ""
             }
            },
            "type": "scattermap"
           }
          ],
          "scattermapbox": [
           {
            "marker": {
             "colorbar": {
              "outlinewidth": 0,
              "ticks": ""
             }
            },
            "type": "scattermapbox"
           }
          ],
          "scatterpolar": [
           {
            "marker": {
             "colorbar": {
              "outlinewidth": 0,
              "ticks": ""
             }
            },
            "type": "scatterpolar"
           }
          ],
          "scatterpolargl": [
           {
            "marker": {
             "colorbar": {
              "outlinewidth": 0,
              "ticks": ""
             }
            },
            "type": "scatterpolargl"
           }
          ],
          "scatterternary": [
           {
            "marker": {
             "colorbar": {
              "outlinewidth": 0,
              "ticks": ""
             }
            },
            "type": "scatterternary"
           }
          ],
          "surface": [
           {
            "colorbar": {
             "outlinewidth": 0,
             "ticks": ""
            },
            "colorscale": [
             [
              0,
              "#0d0887"
             ],
             [
              0.1111111111111111,
              "#46039f"
             ],
             [
              0.2222222222222222,
              "#7201a8"
             ],
             [
              0.3333333333333333,
              "#9c179e"
             ],
             [
              0.4444444444444444,
              "#bd3786"
             ],
             [
              0.5555555555555556,
              "#d8576b"
             ],
             [
              0.6666666666666666,
              "#ed7953"
             ],
             [
              0.7777777777777778,
              "#fb9f3a"
             ],
             [
              0.8888888888888888,
              "#fdca26"
             ],
             [
              1,
              "#f0f921"
             ]
            ],
            "type": "surface"
           }
          ],
          "table": [
           {
            "cells": {
             "fill": {
              "color": "#EBF0F8"
             },
             "line": {
              "color": "white"
             }
            },
            "header": {
             "fill": {
              "color": "#C8D4E3"
             },
             "line": {
              "color": "white"
             }
            },
            "type": "table"
           }
          ]
         },
         "layout": {
          "annotationdefaults": {
           "arrowcolor": "#2a3f5f",
           "arrowhead": 0,
           "arrowwidth": 1
          },
          "autotypenumbers": "strict",
          "coloraxis": {
           "colorbar": {
            "outlinewidth": 0,
            "ticks": ""
           }
          },
          "colorscale": {
           "diverging": [
            [
             0,
             "#8e0152"
            ],
            [
             0.1,
             "#c51b7d"
            ],
            [
             0.2,
             "#de77ae"
            ],
            [
             0.3,
             "#f1b6da"
            ],
            [
             0.4,
             "#fde0ef"
            ],
            [
             0.5,
             "#f7f7f7"
            ],
            [
             0.6,
             "#e6f5d0"
            ],
            [
             0.7,
             "#b8e186"
            ],
            [
             0.8,
             "#7fbc41"
            ],
            [
             0.9,
             "#4d9221"
            ],
            [
             1,
             "#276419"
            ]
           ],
           "sequential": [
            [
             0,
             "#0d0887"
            ],
            [
             0.1111111111111111,
             "#46039f"
            ],
            [
             0.2222222222222222,
             "#7201a8"
            ],
            [
             0.3333333333333333,
             "#9c179e"
            ],
            [
             0.4444444444444444,
             "#bd3786"
            ],
            [
             0.5555555555555556,
             "#d8576b"
            ],
            [
             0.6666666666666666,
             "#ed7953"
            ],
            [
             0.7777777777777778,
             "#fb9f3a"
            ],
            [
             0.8888888888888888,
             "#fdca26"
            ],
            [
             1,
             "#f0f921"
            ]
           ],
           "sequentialminus": [
            [
             0,
             "#0d0887"
            ],
            [
             0.1111111111111111,
             "#46039f"
            ],
            [
             0.2222222222222222,
             "#7201a8"
            ],
            [
             0.3333333333333333,
             "#9c179e"
            ],
            [
             0.4444444444444444,
             "#bd3786"
            ],
            [
             0.5555555555555556,
             "#d8576b"
            ],
            [
             0.6666666666666666,
             "#ed7953"
            ],
            [
             0.7777777777777778,
             "#fb9f3a"
            ],
            [
             0.8888888888888888,
             "#fdca26"
            ],
            [
             1,
             "#f0f921"
            ]
           ]
          },
          "colorway": [
           "#636efa",
           "#EF553B",
           "#00cc96",
           "#ab63fa",
           "#FFA15A",
           "#19d3f3",
           "#FF6692",
           "#B6E880",
           "#FF97FF",
           "#FECB52"
          ],
          "font": {
           "color": "#2a3f5f"
          },
          "geo": {
           "bgcolor": "white",
           "lakecolor": "white",
           "landcolor": "#E5ECF6",
           "showlakes": true,
           "showland": true,
           "subunitcolor": "white"
          },
          "hoverlabel": {
           "align": "left"
          },
          "hovermode": "closest",
          "mapbox": {
           "style": "light"
          },
          "paper_bgcolor": "white",
          "plot_bgcolor": "#E5ECF6",
          "polar": {
           "angularaxis": {
            "gridcolor": "white",
            "linecolor": "white",
            "ticks": ""
           },
           "bgcolor": "#E5ECF6",
           "radialaxis": {
            "gridcolor": "white",
            "linecolor": "white",
            "ticks": ""
           }
          },
          "scene": {
           "xaxis": {
            "backgroundcolor": "#E5ECF6",
            "gridcolor": "white",
            "gridwidth": 2,
            "linecolor": "white",
            "showbackground": true,
            "ticks": "",
            "zerolinecolor": "white"
           },
           "yaxis": {
            "backgroundcolor": "#E5ECF6",
            "gridcolor": "white",
            "gridwidth": 2,
            "linecolor": "white",
            "showbackground": true,
            "ticks": "",
            "zerolinecolor": "white"
           },
           "zaxis": {
            "backgroundcolor": "#E5ECF6",
            "gridcolor": "white",
            "gridwidth": 2,
            "linecolor": "white",
            "showbackground": true,
            "ticks": "",
            "zerolinecolor": "white"
           }
          },
          "shapedefaults": {
           "line": {
            "color": "#2a3f5f"
           }
          },
          "ternary": {
           "aaxis": {
            "gridcolor": "white",
            "linecolor": "white",
            "ticks": ""
           },
           "baxis": {
            "gridcolor": "white",
            "linecolor": "white",
            "ticks": ""
           },
           "bgcolor": "#E5ECF6",
           "caxis": {
            "gridcolor": "white",
            "linecolor": "white",
            "ticks": ""
           }
          },
          "title": {
           "x": 0.05
          },
          "xaxis": {
           "automargin": true,
           "gridcolor": "white",
           "linecolor": "white",
           "ticks": "",
           "title": {
            "standoff": 15
           },
           "zerolinecolor": "white",
           "zerolinewidth": 2
          },
          "yaxis": {
           "automargin": true,
           "gridcolor": "white",
           "linecolor": "white",
           "ticks": "",
           "title": {
            "standoff": 15
           },
           "zerolinecolor": "white",
           "zerolinewidth": 2
          }
         }
        },
        "title": {
         "text": "Profitability by Region"
        },
        "xaxis": {
         "anchor": "y",
         "domain": [
          0,
          1
         ],
         "title": {
          "text": "Sales"
         }
        },
        "yaxis": {
         "anchor": "x",
         "domain": [
          0,
          1
         ],
         "title": {
          "text": "Region"
         }
        }
       }
      }
     },
     "metadata": {},
     "output_type": "display_data"
    }
   ],
   "source": [
    "region_summary = region_sales.groupby('Region', as_index=False).agg({\n",
    "    'Sales': 'sum',  \n",
    "    'Profit': 'sum'\n",
    "})\n",
    "\n",
    "region_summary['Profit Margin %'] = (region_summary['Profit'] / region_summary['Sales']) * 100\n",
    "\n",
    "fig = px.bar(region_summary, \n",
    "             x='Sales', \n",
    "             y='Region', \n",
    "             color='Profit Margin %',  \n",
    "             orientation='h', \n",
    "             title='Profitability by Region',\n",
    "             color_continuous_scale='RdYlGn')\n",
    "\n",
    "fig.show()"
   ]
  },
  {
   "cell_type": "code",
   "execution_count": 52,
   "metadata": {},
   "outputs": [
    {
     "data": {
      "text/html": [
       "<div>\n",
       "<style scoped>\n",
       "    .dataframe tbody tr th:only-of-type {\n",
       "        vertical-align: middle;\n",
       "    }\n",
       "\n",
       "    .dataframe tbody tr th {\n",
       "        vertical-align: top;\n",
       "    }\n",
       "\n",
       "    .dataframe thead th {\n",
       "        text-align: right;\n",
       "    }\n",
       "</style>\n",
       "<table border=\"1\" class=\"dataframe\">\n",
       "  <thead>\n",
       "    <tr style=\"text-align: right;\">\n",
       "      <th></th>\n",
       "      <th>Region</th>\n",
       "      <th>Segment</th>\n",
       "      <th>Sales</th>\n",
       "      <th>Profit</th>\n",
       "      <th>Profit Margin %</th>\n",
       "    </tr>\n",
       "  </thead>\n",
       "  <tbody>\n",
       "    <tr>\n",
       "      <th>0</th>\n",
       "      <td>Central</td>\n",
       "      <td>Consumer</td>\n",
       "      <td>252031.4340</td>\n",
       "      <td>8564.0481</td>\n",
       "      <td>3.398008</td>\n",
       "    </tr>\n",
       "    <tr>\n",
       "      <th>1</th>\n",
       "      <td>Central</td>\n",
       "      <td>Corporate</td>\n",
       "      <td>157995.8128</td>\n",
       "      <td>18703.9020</td>\n",
       "      <td>11.838226</td>\n",
       "    </tr>\n",
       "    <tr>\n",
       "      <th>2</th>\n",
       "      <td>Central</td>\n",
       "      <td>Home Office</td>\n",
       "      <td>91212.6440</td>\n",
       "      <td>12438.4124</td>\n",
       "      <td>13.636719</td>\n",
       "    </tr>\n",
       "    <tr>\n",
       "      <th>3</th>\n",
       "      <td>East</td>\n",
       "      <td>Consumer</td>\n",
       "      <td>350908.1670</td>\n",
       "      <td>41190.9843</td>\n",
       "      <td>11.738394</td>\n",
       "    </tr>\n",
       "    <tr>\n",
       "      <th>4</th>\n",
       "      <td>East</td>\n",
       "      <td>Corporate</td>\n",
       "      <td>200409.3470</td>\n",
       "      <td>23622.5789</td>\n",
       "      <td>11.787164</td>\n",
       "    </tr>\n",
       "  </tbody>\n",
       "</table>\n",
       "</div>"
      ],
      "text/plain": [
       "    Region      Segment        Sales      Profit  Profit Margin %\n",
       "0  Central     Consumer  252031.4340   8564.0481         3.398008\n",
       "1  Central    Corporate  157995.8128  18703.9020        11.838226\n",
       "2  Central  Home Office   91212.6440  12438.4124        13.636719\n",
       "3     East     Consumer  350908.1670  41190.9843        11.738394\n",
       "4     East    Corporate  200409.3470  23622.5789        11.787164"
      ]
     },
     "execution_count": 52,
     "metadata": {},
     "output_type": "execute_result"
    }
   ],
   "source": [
    "# Group by Region and Segment, then calculate Total Sales & Profit\n",
    "segment_sales = df.groupby(['Region', 'Segment'])[['Sales', 'Profit']].sum().reset_index()\n",
    "\n",
    "# Calculate Profit Margin %\n",
    "segment_sales['Profit Margin %'] = (segment_sales['Profit'] / segment_sales['Sales']) * 100\n",
    "\n",
    "# Show the top segments\n",
    "segment_sales.head()"
   ]
  },
  {
   "cell_type": "code",
   "execution_count": 53,
   "metadata": {},
   "outputs": [
    {
     "data": {
      "application/vnd.plotly.v1+json": {
       "config": {
        "plotlyServerURL": "https://plot.ly"
       },
       "data": [
        {
         "alignmentgroup": "True",
         "hovertemplate": "Segment=Consumer<br>Region=%{x}<br>Sales=%{y}<extra></extra>",
         "legendgroup": "Consumer",
         "marker": {
          "color": "#636efa",
          "pattern": {
           "shape": ""
          }
         },
         "name": "Consumer",
         "offsetgroup": "Consumer",
         "orientation": "v",
         "showlegend": true,
         "textposition": "auto",
         "type": "bar",
         "x": [
          "Central",
          "East",
          "South",
          "West"
         ],
         "xaxis": "x",
         "y": {
          "bdata": "9P3UePvDDkFKDAKr8GoVQeOlm8Tn3wdB30+NFwMmFkE=",
          "dtype": "f8"
         },
         "yaxis": "y"
        },
        {
         "alignmentgroup": "True",
         "hovertemplate": "Segment=Corporate<br>Region=%{x}<br>Sales=%{y}<extra></extra>",
         "legendgroup": "Corporate",
         "marker": {
          "color": "#EF553B",
          "pattern": {
           "shape": ""
          }
         },
         "name": "Corporate",
         "offsetgroup": "Corporate",
         "orientation": "v",
         "showlegend": true,
         "textposition": "auto",
         "type": "bar",
         "x": [
          "Central",
          "East",
          "South",
          "West"
         ],
         "xaxis": "x",
         "y": {
          "bdata": "UkmdgF5JA0Ge76fGynYIQbgehevewf1AVg4tMvqRC0E=",
          "dtype": "f8"
         },
         "yaxis": "y"
        },
        {
         "alignmentgroup": "True",
         "hovertemplate": "Segment=Home Office<br>Region=%{x}<br>Sales=%{y}<extra></extra>",
         "legendgroup": "Home Office",
         "marker": {
          "color": "#00cc96",
          "pattern": {
           "shape": ""
          }
         },
         "name": "Home Office",
         "offsetgroup": "Home Office",
         "orientation": "v",
         "showlegend": true,
         "textposition": "auto",
         "type": "bar",
         "x": [
          "Central",
          "East",
          "South",
          "West"
         ],
         "xaxis": "x",
         "y": {
          "bdata": "qvHSTcpE9kAOLbKdex7/QC/dJAbwIPJAqMZLN46wAEE=",
          "dtype": "f8"
         },
         "yaxis": "y"
        }
       ],
       "layout": {
        "barmode": "group",
        "legend": {
         "title": {
          "text": "Segment"
         },
         "tracegroupgap": 0
        },
        "template": {
         "data": {
          "bar": [
           {
            "error_x": {
             "color": "#2a3f5f"
            },
            "error_y": {
             "color": "#2a3f5f"
            },
            "marker": {
             "line": {
              "color": "#E5ECF6",
              "width": 0.5
             },
             "pattern": {
              "fillmode": "overlay",
              "size": 10,
              "solidity": 0.2
             }
            },
            "type": "bar"
           }
          ],
          "barpolar": [
           {
            "marker": {
             "line": {
              "color": "#E5ECF6",
              "width": 0.5
             },
             "pattern": {
              "fillmode": "overlay",
              "size": 10,
              "solidity": 0.2
             }
            },
            "type": "barpolar"
           }
          ],
          "carpet": [
           {
            "aaxis": {
             "endlinecolor": "#2a3f5f",
             "gridcolor": "white",
             "linecolor": "white",
             "minorgridcolor": "white",
             "startlinecolor": "#2a3f5f"
            },
            "baxis": {
             "endlinecolor": "#2a3f5f",
             "gridcolor": "white",
             "linecolor": "white",
             "minorgridcolor": "white",
             "startlinecolor": "#2a3f5f"
            },
            "type": "carpet"
           }
          ],
          "choropleth": [
           {
            "colorbar": {
             "outlinewidth": 0,
             "ticks": ""
            },
            "type": "choropleth"
           }
          ],
          "contour": [
           {
            "colorbar": {
             "outlinewidth": 0,
             "ticks": ""
            },
            "colorscale": [
             [
              0,
              "#0d0887"
             ],
             [
              0.1111111111111111,
              "#46039f"
             ],
             [
              0.2222222222222222,
              "#7201a8"
             ],
             [
              0.3333333333333333,
              "#9c179e"
             ],
             [
              0.4444444444444444,
              "#bd3786"
             ],
             [
              0.5555555555555556,
              "#d8576b"
             ],
             [
              0.6666666666666666,
              "#ed7953"
             ],
             [
              0.7777777777777778,
              "#fb9f3a"
             ],
             [
              0.8888888888888888,
              "#fdca26"
             ],
             [
              1,
              "#f0f921"
             ]
            ],
            "type": "contour"
           }
          ],
          "contourcarpet": [
           {
            "colorbar": {
             "outlinewidth": 0,
             "ticks": ""
            },
            "type": "contourcarpet"
           }
          ],
          "heatmap": [
           {
            "colorbar": {
             "outlinewidth": 0,
             "ticks": ""
            },
            "colorscale": [
             [
              0,
              "#0d0887"
             ],
             [
              0.1111111111111111,
              "#46039f"
             ],
             [
              0.2222222222222222,
              "#7201a8"
             ],
             [
              0.3333333333333333,
              "#9c179e"
             ],
             [
              0.4444444444444444,
              "#bd3786"
             ],
             [
              0.5555555555555556,
              "#d8576b"
             ],
             [
              0.6666666666666666,
              "#ed7953"
             ],
             [
              0.7777777777777778,
              "#fb9f3a"
             ],
             [
              0.8888888888888888,
              "#fdca26"
             ],
             [
              1,
              "#f0f921"
             ]
            ],
            "type": "heatmap"
           }
          ],
          "histogram": [
           {
            "marker": {
             "pattern": {
              "fillmode": "overlay",
              "size": 10,
              "solidity": 0.2
             }
            },
            "type": "histogram"
           }
          ],
          "histogram2d": [
           {
            "colorbar": {
             "outlinewidth": 0,
             "ticks": ""
            },
            "colorscale": [
             [
              0,
              "#0d0887"
             ],
             [
              0.1111111111111111,
              "#46039f"
             ],
             [
              0.2222222222222222,
              "#7201a8"
             ],
             [
              0.3333333333333333,
              "#9c179e"
             ],
             [
              0.4444444444444444,
              "#bd3786"
             ],
             [
              0.5555555555555556,
              "#d8576b"
             ],
             [
              0.6666666666666666,
              "#ed7953"
             ],
             [
              0.7777777777777778,
              "#fb9f3a"
             ],
             [
              0.8888888888888888,
              "#fdca26"
             ],
             [
              1,
              "#f0f921"
             ]
            ],
            "type": "histogram2d"
           }
          ],
          "histogram2dcontour": [
           {
            "colorbar": {
             "outlinewidth": 0,
             "ticks": ""
            },
            "colorscale": [
             [
              0,
              "#0d0887"
             ],
             [
              0.1111111111111111,
              "#46039f"
             ],
             [
              0.2222222222222222,
              "#7201a8"
             ],
             [
              0.3333333333333333,
              "#9c179e"
             ],
             [
              0.4444444444444444,
              "#bd3786"
             ],
             [
              0.5555555555555556,
              "#d8576b"
             ],
             [
              0.6666666666666666,
              "#ed7953"
             ],
             [
              0.7777777777777778,
              "#fb9f3a"
             ],
             [
              0.8888888888888888,
              "#fdca26"
             ],
             [
              1,
              "#f0f921"
             ]
            ],
            "type": "histogram2dcontour"
           }
          ],
          "mesh3d": [
           {
            "colorbar": {
             "outlinewidth": 0,
             "ticks": ""
            },
            "type": "mesh3d"
           }
          ],
          "parcoords": [
           {
            "line": {
             "colorbar": {
              "outlinewidth": 0,
              "ticks": ""
             }
            },
            "type": "parcoords"
           }
          ],
          "pie": [
           {
            "automargin": true,
            "type": "pie"
           }
          ],
          "scatter": [
           {
            "fillpattern": {
             "fillmode": "overlay",
             "size": 10,
             "solidity": 0.2
            },
            "type": "scatter"
           }
          ],
          "scatter3d": [
           {
            "line": {
             "colorbar": {
              "outlinewidth": 0,
              "ticks": ""
             }
            },
            "marker": {
             "colorbar": {
              "outlinewidth": 0,
              "ticks": ""
             }
            },
            "type": "scatter3d"
           }
          ],
          "scattercarpet": [
           {
            "marker": {
             "colorbar": {
              "outlinewidth": 0,
              "ticks": ""
             }
            },
            "type": "scattercarpet"
           }
          ],
          "scattergeo": [
           {
            "marker": {
             "colorbar": {
              "outlinewidth": 0,
              "ticks": ""
             }
            },
            "type": "scattergeo"
           }
          ],
          "scattergl": [
           {
            "marker": {
             "colorbar": {
              "outlinewidth": 0,
              "ticks": ""
             }
            },
            "type": "scattergl"
           }
          ],
          "scattermap": [
           {
            "marker": {
             "colorbar": {
              "outlinewidth": 0,
              "ticks": ""
             }
            },
            "type": "scattermap"
           }
          ],
          "scattermapbox": [
           {
            "marker": {
             "colorbar": {
              "outlinewidth": 0,
              "ticks": ""
             }
            },
            "type": "scattermapbox"
           }
          ],
          "scatterpolar": [
           {
            "marker": {
             "colorbar": {
              "outlinewidth": 0,
              "ticks": ""
             }
            },
            "type": "scatterpolar"
           }
          ],
          "scatterpolargl": [
           {
            "marker": {
             "colorbar": {
              "outlinewidth": 0,
              "ticks": ""
             }
            },
            "type": "scatterpolargl"
           }
          ],
          "scatterternary": [
           {
            "marker": {
             "colorbar": {
              "outlinewidth": 0,
              "ticks": ""
             }
            },
            "type": "scatterternary"
           }
          ],
          "surface": [
           {
            "colorbar": {
             "outlinewidth": 0,
             "ticks": ""
            },
            "colorscale": [
             [
              0,
              "#0d0887"
             ],
             [
              0.1111111111111111,
              "#46039f"
             ],
             [
              0.2222222222222222,
              "#7201a8"
             ],
             [
              0.3333333333333333,
              "#9c179e"
             ],
             [
              0.4444444444444444,
              "#bd3786"
             ],
             [
              0.5555555555555556,
              "#d8576b"
             ],
             [
              0.6666666666666666,
              "#ed7953"
             ],
             [
              0.7777777777777778,
              "#fb9f3a"
             ],
             [
              0.8888888888888888,
              "#fdca26"
             ],
             [
              1,
              "#f0f921"
             ]
            ],
            "type": "surface"
           }
          ],
          "table": [
           {
            "cells": {
             "fill": {
              "color": "#EBF0F8"
             },
             "line": {
              "color": "white"
             }
            },
            "header": {
             "fill": {
              "color": "#C8D4E3"
             },
             "line": {
              "color": "white"
             }
            },
            "type": "table"
           }
          ]
         },
         "layout": {
          "annotationdefaults": {
           "arrowcolor": "#2a3f5f",
           "arrowhead": 0,
           "arrowwidth": 1
          },
          "autotypenumbers": "strict",
          "coloraxis": {
           "colorbar": {
            "outlinewidth": 0,
            "ticks": ""
           }
          },
          "colorscale": {
           "diverging": [
            [
             0,
             "#8e0152"
            ],
            [
             0.1,
             "#c51b7d"
            ],
            [
             0.2,
             "#de77ae"
            ],
            [
             0.3,
             "#f1b6da"
            ],
            [
             0.4,
             "#fde0ef"
            ],
            [
             0.5,
             "#f7f7f7"
            ],
            [
             0.6,
             "#e6f5d0"
            ],
            [
             0.7,
             "#b8e186"
            ],
            [
             0.8,
             "#7fbc41"
            ],
            [
             0.9,
             "#4d9221"
            ],
            [
             1,
             "#276419"
            ]
           ],
           "sequential": [
            [
             0,
             "#0d0887"
            ],
            [
             0.1111111111111111,
             "#46039f"
            ],
            [
             0.2222222222222222,
             "#7201a8"
            ],
            [
             0.3333333333333333,
             "#9c179e"
            ],
            [
             0.4444444444444444,
             "#bd3786"
            ],
            [
             0.5555555555555556,
             "#d8576b"
            ],
            [
             0.6666666666666666,
             "#ed7953"
            ],
            [
             0.7777777777777778,
             "#fb9f3a"
            ],
            [
             0.8888888888888888,
             "#fdca26"
            ],
            [
             1,
             "#f0f921"
            ]
           ],
           "sequentialminus": [
            [
             0,
             "#0d0887"
            ],
            [
             0.1111111111111111,
             "#46039f"
            ],
            [
             0.2222222222222222,
             "#7201a8"
            ],
            [
             0.3333333333333333,
             "#9c179e"
            ],
            [
             0.4444444444444444,
             "#bd3786"
            ],
            [
             0.5555555555555556,
             "#d8576b"
            ],
            [
             0.6666666666666666,
             "#ed7953"
            ],
            [
             0.7777777777777778,
             "#fb9f3a"
            ],
            [
             0.8888888888888888,
             "#fdca26"
            ],
            [
             1,
             "#f0f921"
            ]
           ]
          },
          "colorway": [
           "#636efa",
           "#EF553B",
           "#00cc96",
           "#ab63fa",
           "#FFA15A",
           "#19d3f3",
           "#FF6692",
           "#B6E880",
           "#FF97FF",
           "#FECB52"
          ],
          "font": {
           "color": "#2a3f5f"
          },
          "geo": {
           "bgcolor": "white",
           "lakecolor": "white",
           "landcolor": "#E5ECF6",
           "showlakes": true,
           "showland": true,
           "subunitcolor": "white"
          },
          "hoverlabel": {
           "align": "left"
          },
          "hovermode": "closest",
          "mapbox": {
           "style": "light"
          },
          "paper_bgcolor": "white",
          "plot_bgcolor": "#E5ECF6",
          "polar": {
           "angularaxis": {
            "gridcolor": "white",
            "linecolor": "white",
            "ticks": ""
           },
           "bgcolor": "#E5ECF6",
           "radialaxis": {
            "gridcolor": "white",
            "linecolor": "white",
            "ticks": ""
           }
          },
          "scene": {
           "xaxis": {
            "backgroundcolor": "#E5ECF6",
            "gridcolor": "white",
            "gridwidth": 2,
            "linecolor": "white",
            "showbackground": true,
            "ticks": "",
            "zerolinecolor": "white"
           },
           "yaxis": {
            "backgroundcolor": "#E5ECF6",
            "gridcolor": "white",
            "gridwidth": 2,
            "linecolor": "white",
            "showbackground": true,
            "ticks": "",
            "zerolinecolor": "white"
           },
           "zaxis": {
            "backgroundcolor": "#E5ECF6",
            "gridcolor": "white",
            "gridwidth": 2,
            "linecolor": "white",
            "showbackground": true,
            "ticks": "",
            "zerolinecolor": "white"
           }
          },
          "shapedefaults": {
           "line": {
            "color": "#2a3f5f"
           }
          },
          "ternary": {
           "aaxis": {
            "gridcolor": "white",
            "linecolor": "white",
            "ticks": ""
           },
           "baxis": {
            "gridcolor": "white",
            "linecolor": "white",
            "ticks": ""
           },
           "bgcolor": "#E5ECF6",
           "caxis": {
            "gridcolor": "white",
            "linecolor": "white",
            "ticks": ""
           }
          },
          "title": {
           "x": 0.05
          },
          "xaxis": {
           "automargin": true,
           "gridcolor": "white",
           "linecolor": "white",
           "ticks": "",
           "title": {
            "standoff": 15
           },
           "zerolinecolor": "white",
           "zerolinewidth": 2
          },
          "yaxis": {
           "automargin": true,
           "gridcolor": "white",
           "linecolor": "white",
           "ticks": "",
           "title": {
            "standoff": 15
           },
           "zerolinecolor": "white",
           "zerolinewidth": 2
          }
         }
        },
        "title": {
         "text": "Sales by Region & Customer Segment"
        },
        "xaxis": {
         "anchor": "y",
         "domain": [
          0,
          1
         ],
         "title": {
          "text": "Region"
         }
        },
        "yaxis": {
         "anchor": "x",
         "domain": [
          0,
          1
         ],
         "title": {
          "text": "Sales"
         }
        }
       }
      }
     },
     "metadata": {},
     "output_type": "display_data"
    }
   ],
   "source": [
    "# Bar chart: Sales by Region & Customer Segment\n",
    "fig = px.bar(segment_sales, \n",
    "             x='Region', \n",
    "             y='Sales', \n",
    "             color='Segment',  \n",
    "             barmode='group',  # Groups bars instead of stacking\n",
    "             title='Sales by Region & Customer Segment')\n",
    "\n",
    "fig.show()\n"
   ]
  },
  {
   "cell_type": "code",
   "execution_count": 54,
   "metadata": {},
   "outputs": [
    {
     "data": {
      "application/vnd.plotly.v1+json": {
       "config": {
        "plotlyServerURL": "https://plot.ly"
       },
       "data": [
        {
         "alignmentgroup": "True",
         "hovertemplate": "Segment=Consumer<br>Region=%{x}<br>Profit Margin %=%{y}<extra></extra>",
         "legendgroup": "Consumer",
         "marker": {
          "color": "#636efa",
          "pattern": {
           "shape": ""
          }
         },
         "name": "Consumer",
         "offsetgroup": "Consumer",
         "orientation": "v",
         "showlegend": true,
         "textposition": "auto",
         "type": "bar",
         "x": [
          "Central",
          "East",
          "South",
          "West"
         ],
         "xaxis": "x",
         "y": {
          "bdata": "BlVgxx4vC0DgT5XRDnonQCB1fQmMhStADDnaV+OpL0A=",
          "dtype": "f8"
         },
         "yaxis": "y"
        },
        {
         "alignmentgroup": "True",
         "hovertemplate": "Segment=Corporate<br>Region=%{x}<br>Profit Margin %=%{y}<extra></extra>",
         "legendgroup": "Corporate",
         "marker": {
          "color": "#EF553B",
          "pattern": {
           "shape": ""
          }
         },
         "name": "Corporate",
         "offsetgroup": "Corporate",
         "orientation": "v",
         "showlegend": true,
         "textposition": "auto",
         "type": "bar",
         "x": [
          "Central",
          "East",
          "South",
          "West"
         ],
         "xaxis": "x",
         "y": {
          "bdata": "5dlGAiytJ0BSwz4xB5MnQEeyXIZh9yhACnKp2MB+LkA=",
          "dtype": "f8"
         },
         "yaxis": "y"
        },
        {
         "alignmentgroup": "True",
         "hovertemplate": "Segment=Home Office<br>Region=%{x}<br>Profit Margin %=%{y}<extra></extra>",
         "legendgroup": "Home Office",
         "marker": {
          "color": "#00cc96",
          "pattern": {
           "shape": ""
          }
         },
         "name": "Home Office",
         "offsetgroup": "Home Office",
         "orientation": "v",
         "showlegend": true,
         "textposition": "auto",
         "type": "bar",
         "x": [
          "Central",
          "East",
          "South",
          "West"
         ],
         "xaxis": "x",
         "y": {
          "bdata": "P53EGABGK0Cxq3xjUfQ0QLxKC0kA5BhADNuAllwuKEA=",
          "dtype": "f8"
         },
         "yaxis": "y"
        }
       ],
       "layout": {
        "barmode": "group",
        "legend": {
         "title": {
          "text": "Segment"
         },
         "tracegroupgap": 0
        },
        "template": {
         "data": {
          "bar": [
           {
            "error_x": {
             "color": "#2a3f5f"
            },
            "error_y": {
             "color": "#2a3f5f"
            },
            "marker": {
             "line": {
              "color": "#E5ECF6",
              "width": 0.5
             },
             "pattern": {
              "fillmode": "overlay",
              "size": 10,
              "solidity": 0.2
             }
            },
            "type": "bar"
           }
          ],
          "barpolar": [
           {
            "marker": {
             "line": {
              "color": "#E5ECF6",
              "width": 0.5
             },
             "pattern": {
              "fillmode": "overlay",
              "size": 10,
              "solidity": 0.2
             }
            },
            "type": "barpolar"
           }
          ],
          "carpet": [
           {
            "aaxis": {
             "endlinecolor": "#2a3f5f",
             "gridcolor": "white",
             "linecolor": "white",
             "minorgridcolor": "white",
             "startlinecolor": "#2a3f5f"
            },
            "baxis": {
             "endlinecolor": "#2a3f5f",
             "gridcolor": "white",
             "linecolor": "white",
             "minorgridcolor": "white",
             "startlinecolor": "#2a3f5f"
            },
            "type": "carpet"
           }
          ],
          "choropleth": [
           {
            "colorbar": {
             "outlinewidth": 0,
             "ticks": ""
            },
            "type": "choropleth"
           }
          ],
          "contour": [
           {
            "colorbar": {
             "outlinewidth": 0,
             "ticks": ""
            },
            "colorscale": [
             [
              0,
              "#0d0887"
             ],
             [
              0.1111111111111111,
              "#46039f"
             ],
             [
              0.2222222222222222,
              "#7201a8"
             ],
             [
              0.3333333333333333,
              "#9c179e"
             ],
             [
              0.4444444444444444,
              "#bd3786"
             ],
             [
              0.5555555555555556,
              "#d8576b"
             ],
             [
              0.6666666666666666,
              "#ed7953"
             ],
             [
              0.7777777777777778,
              "#fb9f3a"
             ],
             [
              0.8888888888888888,
              "#fdca26"
             ],
             [
              1,
              "#f0f921"
             ]
            ],
            "type": "contour"
           }
          ],
          "contourcarpet": [
           {
            "colorbar": {
             "outlinewidth": 0,
             "ticks": ""
            },
            "type": "contourcarpet"
           }
          ],
          "heatmap": [
           {
            "colorbar": {
             "outlinewidth": 0,
             "ticks": ""
            },
            "colorscale": [
             [
              0,
              "#0d0887"
             ],
             [
              0.1111111111111111,
              "#46039f"
             ],
             [
              0.2222222222222222,
              "#7201a8"
             ],
             [
              0.3333333333333333,
              "#9c179e"
             ],
             [
              0.4444444444444444,
              "#bd3786"
             ],
             [
              0.5555555555555556,
              "#d8576b"
             ],
             [
              0.6666666666666666,
              "#ed7953"
             ],
             [
              0.7777777777777778,
              "#fb9f3a"
             ],
             [
              0.8888888888888888,
              "#fdca26"
             ],
             [
              1,
              "#f0f921"
             ]
            ],
            "type": "heatmap"
           }
          ],
          "histogram": [
           {
            "marker": {
             "pattern": {
              "fillmode": "overlay",
              "size": 10,
              "solidity": 0.2
             }
            },
            "type": "histogram"
           }
          ],
          "histogram2d": [
           {
            "colorbar": {
             "outlinewidth": 0,
             "ticks": ""
            },
            "colorscale": [
             [
              0,
              "#0d0887"
             ],
             [
              0.1111111111111111,
              "#46039f"
             ],
             [
              0.2222222222222222,
              "#7201a8"
             ],
             [
              0.3333333333333333,
              "#9c179e"
             ],
             [
              0.4444444444444444,
              "#bd3786"
             ],
             [
              0.5555555555555556,
              "#d8576b"
             ],
             [
              0.6666666666666666,
              "#ed7953"
             ],
             [
              0.7777777777777778,
              "#fb9f3a"
             ],
             [
              0.8888888888888888,
              "#fdca26"
             ],
             [
              1,
              "#f0f921"
             ]
            ],
            "type": "histogram2d"
           }
          ],
          "histogram2dcontour": [
           {
            "colorbar": {
             "outlinewidth": 0,
             "ticks": ""
            },
            "colorscale": [
             [
              0,
              "#0d0887"
             ],
             [
              0.1111111111111111,
              "#46039f"
             ],
             [
              0.2222222222222222,
              "#7201a8"
             ],
             [
              0.3333333333333333,
              "#9c179e"
             ],
             [
              0.4444444444444444,
              "#bd3786"
             ],
             [
              0.5555555555555556,
              "#d8576b"
             ],
             [
              0.6666666666666666,
              "#ed7953"
             ],
             [
              0.7777777777777778,
              "#fb9f3a"
             ],
             [
              0.8888888888888888,
              "#fdca26"
             ],
             [
              1,
              "#f0f921"
             ]
            ],
            "type": "histogram2dcontour"
           }
          ],
          "mesh3d": [
           {
            "colorbar": {
             "outlinewidth": 0,
             "ticks": ""
            },
            "type": "mesh3d"
           }
          ],
          "parcoords": [
           {
            "line": {
             "colorbar": {
              "outlinewidth": 0,
              "ticks": ""
             }
            },
            "type": "parcoords"
           }
          ],
          "pie": [
           {
            "automargin": true,
            "type": "pie"
           }
          ],
          "scatter": [
           {
            "fillpattern": {
             "fillmode": "overlay",
             "size": 10,
             "solidity": 0.2
            },
            "type": "scatter"
           }
          ],
          "scatter3d": [
           {
            "line": {
             "colorbar": {
              "outlinewidth": 0,
              "ticks": ""
             }
            },
            "marker": {
             "colorbar": {
              "outlinewidth": 0,
              "ticks": ""
             }
            },
            "type": "scatter3d"
           }
          ],
          "scattercarpet": [
           {
            "marker": {
             "colorbar": {
              "outlinewidth": 0,
              "ticks": ""
             }
            },
            "type": "scattercarpet"
           }
          ],
          "scattergeo": [
           {
            "marker": {
             "colorbar": {
              "outlinewidth": 0,
              "ticks": ""
             }
            },
            "type": "scattergeo"
           }
          ],
          "scattergl": [
           {
            "marker": {
             "colorbar": {
              "outlinewidth": 0,
              "ticks": ""
             }
            },
            "type": "scattergl"
           }
          ],
          "scattermap": [
           {
            "marker": {
             "colorbar": {
              "outlinewidth": 0,
              "ticks": ""
             }
            },
            "type": "scattermap"
           }
          ],
          "scattermapbox": [
           {
            "marker": {
             "colorbar": {
              "outlinewidth": 0,
              "ticks": ""
             }
            },
            "type": "scattermapbox"
           }
          ],
          "scatterpolar": [
           {
            "marker": {
             "colorbar": {
              "outlinewidth": 0,
              "ticks": ""
             }
            },
            "type": "scatterpolar"
           }
          ],
          "scatterpolargl": [
           {
            "marker": {
             "colorbar": {
              "outlinewidth": 0,
              "ticks": ""
             }
            },
            "type": "scatterpolargl"
           }
          ],
          "scatterternary": [
           {
            "marker": {
             "colorbar": {
              "outlinewidth": 0,
              "ticks": ""
             }
            },
            "type": "scatterternary"
           }
          ],
          "surface": [
           {
            "colorbar": {
             "outlinewidth": 0,
             "ticks": ""
            },
            "colorscale": [
             [
              0,
              "#0d0887"
             ],
             [
              0.1111111111111111,
              "#46039f"
             ],
             [
              0.2222222222222222,
              "#7201a8"
             ],
             [
              0.3333333333333333,
              "#9c179e"
             ],
             [
              0.4444444444444444,
              "#bd3786"
             ],
             [
              0.5555555555555556,
              "#d8576b"
             ],
             [
              0.6666666666666666,
              "#ed7953"
             ],
             [
              0.7777777777777778,
              "#fb9f3a"
             ],
             [
              0.8888888888888888,
              "#fdca26"
             ],
             [
              1,
              "#f0f921"
             ]
            ],
            "type": "surface"
           }
          ],
          "table": [
           {
            "cells": {
             "fill": {
              "color": "#EBF0F8"
             },
             "line": {
              "color": "white"
             }
            },
            "header": {
             "fill": {
              "color": "#C8D4E3"
             },
             "line": {
              "color": "white"
             }
            },
            "type": "table"
           }
          ]
         },
         "layout": {
          "annotationdefaults": {
           "arrowcolor": "#2a3f5f",
           "arrowhead": 0,
           "arrowwidth": 1
          },
          "autotypenumbers": "strict",
          "coloraxis": {
           "colorbar": {
            "outlinewidth": 0,
            "ticks": ""
           }
          },
          "colorscale": {
           "diverging": [
            [
             0,
             "#8e0152"
            ],
            [
             0.1,
             "#c51b7d"
            ],
            [
             0.2,
             "#de77ae"
            ],
            [
             0.3,
             "#f1b6da"
            ],
            [
             0.4,
             "#fde0ef"
            ],
            [
             0.5,
             "#f7f7f7"
            ],
            [
             0.6,
             "#e6f5d0"
            ],
            [
             0.7,
             "#b8e186"
            ],
            [
             0.8,
             "#7fbc41"
            ],
            [
             0.9,
             "#4d9221"
            ],
            [
             1,
             "#276419"
            ]
           ],
           "sequential": [
            [
             0,
             "#0d0887"
            ],
            [
             0.1111111111111111,
             "#46039f"
            ],
            [
             0.2222222222222222,
             "#7201a8"
            ],
            [
             0.3333333333333333,
             "#9c179e"
            ],
            [
             0.4444444444444444,
             "#bd3786"
            ],
            [
             0.5555555555555556,
             "#d8576b"
            ],
            [
             0.6666666666666666,
             "#ed7953"
            ],
            [
             0.7777777777777778,
             "#fb9f3a"
            ],
            [
             0.8888888888888888,
             "#fdca26"
            ],
            [
             1,
             "#f0f921"
            ]
           ],
           "sequentialminus": [
            [
             0,
             "#0d0887"
            ],
            [
             0.1111111111111111,
             "#46039f"
            ],
            [
             0.2222222222222222,
             "#7201a8"
            ],
            [
             0.3333333333333333,
             "#9c179e"
            ],
            [
             0.4444444444444444,
             "#bd3786"
            ],
            [
             0.5555555555555556,
             "#d8576b"
            ],
            [
             0.6666666666666666,
             "#ed7953"
            ],
            [
             0.7777777777777778,
             "#fb9f3a"
            ],
            [
             0.8888888888888888,
             "#fdca26"
            ],
            [
             1,
             "#f0f921"
            ]
           ]
          },
          "colorway": [
           "#636efa",
           "#EF553B",
           "#00cc96",
           "#ab63fa",
           "#FFA15A",
           "#19d3f3",
           "#FF6692",
           "#B6E880",
           "#FF97FF",
           "#FECB52"
          ],
          "font": {
           "color": "#2a3f5f"
          },
          "geo": {
           "bgcolor": "white",
           "lakecolor": "white",
           "landcolor": "#E5ECF6",
           "showlakes": true,
           "showland": true,
           "subunitcolor": "white"
          },
          "hoverlabel": {
           "align": "left"
          },
          "hovermode": "closest",
          "mapbox": {
           "style": "light"
          },
          "paper_bgcolor": "white",
          "plot_bgcolor": "#E5ECF6",
          "polar": {
           "angularaxis": {
            "gridcolor": "white",
            "linecolor": "white",
            "ticks": ""
           },
           "bgcolor": "#E5ECF6",
           "radialaxis": {
            "gridcolor": "white",
            "linecolor": "white",
            "ticks": ""
           }
          },
          "scene": {
           "xaxis": {
            "backgroundcolor": "#E5ECF6",
            "gridcolor": "white",
            "gridwidth": 2,
            "linecolor": "white",
            "showbackground": true,
            "ticks": "",
            "zerolinecolor": "white"
           },
           "yaxis": {
            "backgroundcolor": "#E5ECF6",
            "gridcolor": "white",
            "gridwidth": 2,
            "linecolor": "white",
            "showbackground": true,
            "ticks": "",
            "zerolinecolor": "white"
           },
           "zaxis": {
            "backgroundcolor": "#E5ECF6",
            "gridcolor": "white",
            "gridwidth": 2,
            "linecolor": "white",
            "showbackground": true,
            "ticks": "",
            "zerolinecolor": "white"
           }
          },
          "shapedefaults": {
           "line": {
            "color": "#2a3f5f"
           }
          },
          "ternary": {
           "aaxis": {
            "gridcolor": "white",
            "linecolor": "white",
            "ticks": ""
           },
           "baxis": {
            "gridcolor": "white",
            "linecolor": "white",
            "ticks": ""
           },
           "bgcolor": "#E5ECF6",
           "caxis": {
            "gridcolor": "white",
            "linecolor": "white",
            "ticks": ""
           }
          },
          "title": {
           "x": 0.05
          },
          "xaxis": {
           "automargin": true,
           "gridcolor": "white",
           "linecolor": "white",
           "ticks": "",
           "title": {
            "standoff": 15
           },
           "zerolinecolor": "white",
           "zerolinewidth": 2
          },
          "yaxis": {
           "automargin": true,
           "gridcolor": "white",
           "linecolor": "white",
           "ticks": "",
           "title": {
            "standoff": 15
           },
           "zerolinecolor": "white",
           "zerolinewidth": 2
          }
         }
        },
        "title": {
         "text": "Profitability by Region & Customer Segment"
        },
        "xaxis": {
         "anchor": "y",
         "domain": [
          0,
          1
         ],
         "title": {
          "text": "Region"
         }
        },
        "yaxis": {
         "anchor": "x",
         "domain": [
          0,
          1
         ],
         "title": {
          "text": "Profit Margin %"
         }
        }
       }
      }
     },
     "metadata": {},
     "output_type": "display_data"
    }
   ],
   "source": [
    "# Bar chart: Profitability by Region & Segment\n",
    "fig = px.bar(segment_sales, \n",
    "             x='Region', \n",
    "             y='Profit Margin %', \n",
    "             color='Segment',  \n",
    "             barmode='group',  \n",
    "             title='Profitability by Region & Customer Segment',\n",
    "             color_continuous_scale='RdYlGn')\n",
    "\n",
    "fig.show()"
   ]
  },
  {
   "cell_type": "code",
   "execution_count": 55,
   "metadata": {},
   "outputs": [
    {
     "data": {
      "text/html": [
       "<div>\n",
       "<style scoped>\n",
       "    .dataframe tbody tr th:only-of-type {\n",
       "        vertical-align: middle;\n",
       "    }\n",
       "\n",
       "    .dataframe tbody tr th {\n",
       "        vertical-align: top;\n",
       "    }\n",
       "\n",
       "    .dataframe thead th {\n",
       "        text-align: right;\n",
       "    }\n",
       "</style>\n",
       "<table border=\"1\" class=\"dataframe\">\n",
       "  <thead>\n",
       "    <tr style=\"text-align: right;\">\n",
       "      <th></th>\n",
       "      <th>Year</th>\n",
       "      <th>Month</th>\n",
       "      <th>Sales</th>\n",
       "      <th>Profit</th>\n",
       "      <th>Profit Margin %</th>\n",
       "      <th>Date</th>\n",
       "    </tr>\n",
       "  </thead>\n",
       "  <tbody>\n",
       "    <tr>\n",
       "      <th>0</th>\n",
       "      <td>2014</td>\n",
       "      <td>1</td>\n",
       "      <td>14236.895</td>\n",
       "      <td>2450.1907</td>\n",
       "      <td>17.210148</td>\n",
       "      <td>2014-01-01</td>\n",
       "    </tr>\n",
       "    <tr>\n",
       "      <th>1</th>\n",
       "      <td>2014</td>\n",
       "      <td>2</td>\n",
       "      <td>4519.892</td>\n",
       "      <td>862.3084</td>\n",
       "      <td>19.078075</td>\n",
       "      <td>2014-02-01</td>\n",
       "    </tr>\n",
       "    <tr>\n",
       "      <th>2</th>\n",
       "      <td>2014</td>\n",
       "      <td>3</td>\n",
       "      <td>55691.009</td>\n",
       "      <td>498.7299</td>\n",
       "      <td>0.895530</td>\n",
       "      <td>2014-03-01</td>\n",
       "    </tr>\n",
       "    <tr>\n",
       "      <th>3</th>\n",
       "      <td>2014</td>\n",
       "      <td>4</td>\n",
       "      <td>28295.345</td>\n",
       "      <td>3488.8352</td>\n",
       "      <td>12.330068</td>\n",
       "      <td>2014-04-01</td>\n",
       "    </tr>\n",
       "    <tr>\n",
       "      <th>4</th>\n",
       "      <td>2014</td>\n",
       "      <td>5</td>\n",
       "      <td>23648.287</td>\n",
       "      <td>2738.7096</td>\n",
       "      <td>11.581006</td>\n",
       "      <td>2014-05-01</td>\n",
       "    </tr>\n",
       "  </tbody>\n",
       "</table>\n",
       "</div>"
      ],
      "text/plain": [
       "   Year  Month      Sales     Profit  Profit Margin %       Date\n",
       "0  2014      1  14236.895  2450.1907        17.210148 2014-01-01\n",
       "1  2014      2   4519.892   862.3084        19.078075 2014-02-01\n",
       "2  2014      3  55691.009   498.7299         0.895530 2014-03-01\n",
       "3  2014      4  28295.345  3488.8352        12.330068 2014-04-01\n",
       "4  2014      5  23648.287  2738.7096        11.581006 2014-05-01"
      ]
     },
     "execution_count": 55,
     "metadata": {},
     "output_type": "execute_result"
    }
   ],
   "source": [
    "# Group by Year and Month, then sum Sales & Profit\n",
    "profit_trends = df.groupby(['Year', 'Month'])[['Sales', 'Profit']].sum().reset_index()\n",
    "\n",
    "# Calculate Profit Margin %\n",
    "profit_trends['Profit Margin %'] = (profit_trends['Profit'] / profit_trends['Sales']) * 100\n",
    "\n",
    "# Create a Date column for better plotting\n",
    "profit_trends['Date'] = pd.to_datetime(profit_trends[['Year', 'Month']].assign(Day=1))\n",
    "\n",
    "# Show the first few rows\n",
    "profit_trends.head()"
   ]
  },
  {
   "cell_type": "code",
   "execution_count": 57,
   "metadata": {},
   "outputs": [
    {
     "data": {
      "application/vnd.plotly.v1+json": {
       "config": {
        "plotlyServerURL": "https://plot.ly"
       },
       "data": [
        {
         "mode": "lines+markers",
         "name": "Total Sales",
         "type": "scatter",
         "x": [
          "2014-01-01T00:00:00.000000000",
          "2014-02-01T00:00:00.000000000",
          "2014-03-01T00:00:00.000000000",
          "2014-04-01T00:00:00.000000000",
          "2014-05-01T00:00:00.000000000",
          "2014-06-01T00:00:00.000000000",
          "2014-07-01T00:00:00.000000000",
          "2014-08-01T00:00:00.000000000",
          "2014-09-01T00:00:00.000000000",
          "2014-10-01T00:00:00.000000000",
          "2014-11-01T00:00:00.000000000",
          "2014-12-01T00:00:00.000000000",
          "2015-01-01T00:00:00.000000000",
          "2015-02-01T00:00:00.000000000",
          "2015-03-01T00:00:00.000000000",
          "2015-04-01T00:00:00.000000000",
          "2015-05-01T00:00:00.000000000",
          "2015-06-01T00:00:00.000000000",
          "2015-07-01T00:00:00.000000000",
          "2015-08-01T00:00:00.000000000",
          "2015-09-01T00:00:00.000000000",
          "2015-10-01T00:00:00.000000000",
          "2015-11-01T00:00:00.000000000",
          "2015-12-01T00:00:00.000000000",
          "2016-01-01T00:00:00.000000000",
          "2016-02-01T00:00:00.000000000",
          "2016-03-01T00:00:00.000000000",
          "2016-04-01T00:00:00.000000000",
          "2016-05-01T00:00:00.000000000",
          "2016-06-01T00:00:00.000000000",
          "2016-07-01T00:00:00.000000000",
          "2016-08-01T00:00:00.000000000",
          "2016-09-01T00:00:00.000000000",
          "2016-10-01T00:00:00.000000000",
          "2016-11-01T00:00:00.000000000",
          "2016-12-01T00:00:00.000000000",
          "2017-01-01T00:00:00.000000000",
          "2017-02-01T00:00:00.000000000",
          "2017-03-01T00:00:00.000000000",
          "2017-04-01T00:00:00.000000000",
          "2017-05-01T00:00:00.000000000",
          "2017-06-01T00:00:00.000000000",
          "2017-07-01T00:00:00.000000000",
          "2017-08-01T00:00:00.000000000",
          "2017-09-01T00:00:00.000000000",
          "2017-10-01T00:00:00.000000000",
          "2017-11-01T00:00:00.000000000",
          "2017-12-01T00:00:00.000000000"
         ],
         "y": {
          "bdata": "9ihcj3LOy0AIrBxa5KexQDVeuklgMetASOF6FNah20B9PzVeEhjXQF+YTBVk5OBAarx0k0yT4ECLbOf7XUHbQPd14JwV9/NA1XjpJlm33kBRa5p3SzLzQHNoke2Z+vBA5WGh1oS/0UBU46WbtFfHQNNNYhDI6OJAJzEIrGay4EAtsp3v62zdQJzEILBSN9hAzczMzFQX3ED35GGhSgTiQDeJQWB9iu9Ad76fGjur3kB1kxgESYzyQKvP1VZ4SvJAlUOLbJ8b0kCPwvUotHDWQAAAAAB8QOlAku18P8Hr4kDwp8ZLd9PrQAIrhxYRs+NAQmDl0L4r40C5/If012LeQNuK/WUg7PFAcT0K1/ck7UBos+pzP2PzQJzEILBwrvdAF9nO92t45UBSJ6CJSNPTQME5I0oLv+xA7C+7JzHV4UCBJsKGo5zlQNc07zi33ulAZDvfTw0a5kDb+X5qHNLuQFCNl26qc/VA+1xtxQ798kAzMzMz/er8QF8HzhlVd/RA",
          "dtype": "f8"
         },
         "yaxis": "y"
        },
        {
         "mode": "lines+markers",
         "name": "Total Profit",
         "type": "scatter",
         "x": [
          "2014-01-01T00:00:00.000000000",
          "2014-02-01T00:00:00.000000000",
          "2014-03-01T00:00:00.000000000",
          "2014-04-01T00:00:00.000000000",
          "2014-05-01T00:00:00.000000000",
          "2014-06-01T00:00:00.000000000",
          "2014-07-01T00:00:00.000000000",
          "2014-08-01T00:00:00.000000000",
          "2014-09-01T00:00:00.000000000",
          "2014-10-01T00:00:00.000000000",
          "2014-11-01T00:00:00.000000000",
          "2014-12-01T00:00:00.000000000",
          "2015-01-01T00:00:00.000000000",
          "2015-02-01T00:00:00.000000000",
          "2015-03-01T00:00:00.000000000",
          "2015-04-01T00:00:00.000000000",
          "2015-05-01T00:00:00.000000000",
          "2015-06-01T00:00:00.000000000",
          "2015-07-01T00:00:00.000000000",
          "2015-08-01T00:00:00.000000000",
          "2015-09-01T00:00:00.000000000",
          "2015-10-01T00:00:00.000000000",
          "2015-11-01T00:00:00.000000000",
          "2015-12-01T00:00:00.000000000",
          "2016-01-01T00:00:00.000000000",
          "2016-02-01T00:00:00.000000000",
          "2016-03-01T00:00:00.000000000",
          "2016-04-01T00:00:00.000000000",
          "2016-05-01T00:00:00.000000000",
          "2016-06-01T00:00:00.000000000",
          "2016-07-01T00:00:00.000000000",
          "2016-08-01T00:00:00.000000000",
          "2016-09-01T00:00:00.000000000",
          "2016-10-01T00:00:00.000000000",
          "2016-11-01T00:00:00.000000000",
          "2016-12-01T00:00:00.000000000",
          "2017-01-01T00:00:00.000000000",
          "2017-02-01T00:00:00.000000000",
          "2017-03-01T00:00:00.000000000",
          "2017-04-01T00:00:00.000000000",
          "2017-05-01T00:00:00.000000000",
          "2017-06-01T00:00:00.000000000",
          "2017-07-01T00:00:00.000000000",
          "2017-08-01T00:00:00.000000000",
          "2017-09-01T00:00:00.000000000",
          "2017-10-01T00:00:00.000000000",
          "2017-11-01T00:00:00.000000000",
          "2017-12-01T00:00:00.000000000"
         ],
         "y": {
          "bdata": "si5uo2Eko0CxUGuad/KKQJtVn6utK39APZtVn6tBq0B88rBQa2WlQAYSFD+GcLNAZ4hjXdxLisAUrkfhGsa0QJyiI7kMRMBAhlrTvIPwqkDuWkI+ECbCQP+ye/LIi8FAJQaBlQOiqcDgvg6cs/ulQMbctYQMAsNARpT2Bn9bsEA5tMh23juyQKqCUUkdD6pA/kP67UuxqUAWak3zzuu0QIiFWtOUCMBArBxaZLsCpkAVjErqZF3IQDXvOEX3UL9AmN2Th6URpkAIrBxalIyzQA8tsp3vN6xABaOSOqFDp0ARNjy9EuvAQJ5eKctgjrJAKO0NvuBQsUA6I0p7IxygQO2ePCxUOMJA2KNwPZK5z0A9Ctej0FavQCo6kstTd9FArIvbaHDku0ByaJHtfDeZQDIIrBzyz8xAtx6F61EqjUAcfGEylca4QKK0N/iqD8BARpT2Bp8ou0BlqmBUeqjBQNSa5h3Hd8VABoGVQ6MdwkBMpgpGDe3CQCFB8WOskcBA",
          "dtype": "f8"
         },
         "yaxis": "y2"
        }
       ],
       "layout": {
        "legend": {
         "x": 0.1,
         "y": 1.1
        },
        "template": {
         "data": {
          "bar": [
           {
            "error_x": {
             "color": "#2a3f5f"
            },
            "error_y": {
             "color": "#2a3f5f"
            },
            "marker": {
             "line": {
              "color": "#E5ECF6",
              "width": 0.5
             },
             "pattern": {
              "fillmode": "overlay",
              "size": 10,
              "solidity": 0.2
             }
            },
            "type": "bar"
           }
          ],
          "barpolar": [
           {
            "marker": {
             "line": {
              "color": "#E5ECF6",
              "width": 0.5
             },
             "pattern": {
              "fillmode": "overlay",
              "size": 10,
              "solidity": 0.2
             }
            },
            "type": "barpolar"
           }
          ],
          "carpet": [
           {
            "aaxis": {
             "endlinecolor": "#2a3f5f",
             "gridcolor": "white",
             "linecolor": "white",
             "minorgridcolor": "white",
             "startlinecolor": "#2a3f5f"
            },
            "baxis": {
             "endlinecolor": "#2a3f5f",
             "gridcolor": "white",
             "linecolor": "white",
             "minorgridcolor": "white",
             "startlinecolor": "#2a3f5f"
            },
            "type": "carpet"
           }
          ],
          "choropleth": [
           {
            "colorbar": {
             "outlinewidth": 0,
             "ticks": ""
            },
            "type": "choropleth"
           }
          ],
          "contour": [
           {
            "colorbar": {
             "outlinewidth": 0,
             "ticks": ""
            },
            "colorscale": [
             [
              0,
              "#0d0887"
             ],
             [
              0.1111111111111111,
              "#46039f"
             ],
             [
              0.2222222222222222,
              "#7201a8"
             ],
             [
              0.3333333333333333,
              "#9c179e"
             ],
             [
              0.4444444444444444,
              "#bd3786"
             ],
             [
              0.5555555555555556,
              "#d8576b"
             ],
             [
              0.6666666666666666,
              "#ed7953"
             ],
             [
              0.7777777777777778,
              "#fb9f3a"
             ],
             [
              0.8888888888888888,
              "#fdca26"
             ],
             [
              1,
              "#f0f921"
             ]
            ],
            "type": "contour"
           }
          ],
          "contourcarpet": [
           {
            "colorbar": {
             "outlinewidth": 0,
             "ticks": ""
            },
            "type": "contourcarpet"
           }
          ],
          "heatmap": [
           {
            "colorbar": {
             "outlinewidth": 0,
             "ticks": ""
            },
            "colorscale": [
             [
              0,
              "#0d0887"
             ],
             [
              0.1111111111111111,
              "#46039f"
             ],
             [
              0.2222222222222222,
              "#7201a8"
             ],
             [
              0.3333333333333333,
              "#9c179e"
             ],
             [
              0.4444444444444444,
              "#bd3786"
             ],
             [
              0.5555555555555556,
              "#d8576b"
             ],
             [
              0.6666666666666666,
              "#ed7953"
             ],
             [
              0.7777777777777778,
              "#fb9f3a"
             ],
             [
              0.8888888888888888,
              "#fdca26"
             ],
             [
              1,
              "#f0f921"
             ]
            ],
            "type": "heatmap"
           }
          ],
          "histogram": [
           {
            "marker": {
             "pattern": {
              "fillmode": "overlay",
              "size": 10,
              "solidity": 0.2
             }
            },
            "type": "histogram"
           }
          ],
          "histogram2d": [
           {
            "colorbar": {
             "outlinewidth": 0,
             "ticks": ""
            },
            "colorscale": [
             [
              0,
              "#0d0887"
             ],
             [
              0.1111111111111111,
              "#46039f"
             ],
             [
              0.2222222222222222,
              "#7201a8"
             ],
             [
              0.3333333333333333,
              "#9c179e"
             ],
             [
              0.4444444444444444,
              "#bd3786"
             ],
             [
              0.5555555555555556,
              "#d8576b"
             ],
             [
              0.6666666666666666,
              "#ed7953"
             ],
             [
              0.7777777777777778,
              "#fb9f3a"
             ],
             [
              0.8888888888888888,
              "#fdca26"
             ],
             [
              1,
              "#f0f921"
             ]
            ],
            "type": "histogram2d"
           }
          ],
          "histogram2dcontour": [
           {
            "colorbar": {
             "outlinewidth": 0,
             "ticks": ""
            },
            "colorscale": [
             [
              0,
              "#0d0887"
             ],
             [
              0.1111111111111111,
              "#46039f"
             ],
             [
              0.2222222222222222,
              "#7201a8"
             ],
             [
              0.3333333333333333,
              "#9c179e"
             ],
             [
              0.4444444444444444,
              "#bd3786"
             ],
             [
              0.5555555555555556,
              "#d8576b"
             ],
             [
              0.6666666666666666,
              "#ed7953"
             ],
             [
              0.7777777777777778,
              "#fb9f3a"
             ],
             [
              0.8888888888888888,
              "#fdca26"
             ],
             [
              1,
              "#f0f921"
             ]
            ],
            "type": "histogram2dcontour"
           }
          ],
          "mesh3d": [
           {
            "colorbar": {
             "outlinewidth": 0,
             "ticks": ""
            },
            "type": "mesh3d"
           }
          ],
          "parcoords": [
           {
            "line": {
             "colorbar": {
              "outlinewidth": 0,
              "ticks": ""
             }
            },
            "type": "parcoords"
           }
          ],
          "pie": [
           {
            "automargin": true,
            "type": "pie"
           }
          ],
          "scatter": [
           {
            "fillpattern": {
             "fillmode": "overlay",
             "size": 10,
             "solidity": 0.2
            },
            "type": "scatter"
           }
          ],
          "scatter3d": [
           {
            "line": {
             "colorbar": {
              "outlinewidth": 0,
              "ticks": ""
             }
            },
            "marker": {
             "colorbar": {
              "outlinewidth": 0,
              "ticks": ""
             }
            },
            "type": "scatter3d"
           }
          ],
          "scattercarpet": [
           {
            "marker": {
             "colorbar": {
              "outlinewidth": 0,
              "ticks": ""
             }
            },
            "type": "scattercarpet"
           }
          ],
          "scattergeo": [
           {
            "marker": {
             "colorbar": {
              "outlinewidth": 0,
              "ticks": ""
             }
            },
            "type": "scattergeo"
           }
          ],
          "scattergl": [
           {
            "marker": {
             "colorbar": {
              "outlinewidth": 0,
              "ticks": ""
             }
            },
            "type": "scattergl"
           }
          ],
          "scattermap": [
           {
            "marker": {
             "colorbar": {
              "outlinewidth": 0,
              "ticks": ""
             }
            },
            "type": "scattermap"
           }
          ],
          "scattermapbox": [
           {
            "marker": {
             "colorbar": {
              "outlinewidth": 0,
              "ticks": ""
             }
            },
            "type": "scattermapbox"
           }
          ],
          "scatterpolar": [
           {
            "marker": {
             "colorbar": {
              "outlinewidth": 0,
              "ticks": ""
             }
            },
            "type": "scatterpolar"
           }
          ],
          "scatterpolargl": [
           {
            "marker": {
             "colorbar": {
              "outlinewidth": 0,
              "ticks": ""
             }
            },
            "type": "scatterpolargl"
           }
          ],
          "scatterternary": [
           {
            "marker": {
             "colorbar": {
              "outlinewidth": 0,
              "ticks": ""
             }
            },
            "type": "scatterternary"
           }
          ],
          "surface": [
           {
            "colorbar": {
             "outlinewidth": 0,
             "ticks": ""
            },
            "colorscale": [
             [
              0,
              "#0d0887"
             ],
             [
              0.1111111111111111,
              "#46039f"
             ],
             [
              0.2222222222222222,
              "#7201a8"
             ],
             [
              0.3333333333333333,
              "#9c179e"
             ],
             [
              0.4444444444444444,
              "#bd3786"
             ],
             [
              0.5555555555555556,
              "#d8576b"
             ],
             [
              0.6666666666666666,
              "#ed7953"
             ],
             [
              0.7777777777777778,
              "#fb9f3a"
             ],
             [
              0.8888888888888888,
              "#fdca26"
             ],
             [
              1,
              "#f0f921"
             ]
            ],
            "type": "surface"
           }
          ],
          "table": [
           {
            "cells": {
             "fill": {
              "color": "#EBF0F8"
             },
             "line": {
              "color": "white"
             }
            },
            "header": {
             "fill": {
              "color": "#C8D4E3"
             },
             "line": {
              "color": "white"
             }
            },
            "type": "table"
           }
          ]
         },
         "layout": {
          "annotationdefaults": {
           "arrowcolor": "#2a3f5f",
           "arrowhead": 0,
           "arrowwidth": 1
          },
          "autotypenumbers": "strict",
          "coloraxis": {
           "colorbar": {
            "outlinewidth": 0,
            "ticks": ""
           }
          },
          "colorscale": {
           "diverging": [
            [
             0,
             "#8e0152"
            ],
            [
             0.1,
             "#c51b7d"
            ],
            [
             0.2,
             "#de77ae"
            ],
            [
             0.3,
             "#f1b6da"
            ],
            [
             0.4,
             "#fde0ef"
            ],
            [
             0.5,
             "#f7f7f7"
            ],
            [
             0.6,
             "#e6f5d0"
            ],
            [
             0.7,
             "#b8e186"
            ],
            [
             0.8,
             "#7fbc41"
            ],
            [
             0.9,
             "#4d9221"
            ],
            [
             1,
             "#276419"
            ]
           ],
           "sequential": [
            [
             0,
             "#0d0887"
            ],
            [
             0.1111111111111111,
             "#46039f"
            ],
            [
             0.2222222222222222,
             "#7201a8"
            ],
            [
             0.3333333333333333,
             "#9c179e"
            ],
            [
             0.4444444444444444,
             "#bd3786"
            ],
            [
             0.5555555555555556,
             "#d8576b"
            ],
            [
             0.6666666666666666,
             "#ed7953"
            ],
            [
             0.7777777777777778,
             "#fb9f3a"
            ],
            [
             0.8888888888888888,
             "#fdca26"
            ],
            [
             1,
             "#f0f921"
            ]
           ],
           "sequentialminus": [
            [
             0,
             "#0d0887"
            ],
            [
             0.1111111111111111,
             "#46039f"
            ],
            [
             0.2222222222222222,
             "#7201a8"
            ],
            [
             0.3333333333333333,
             "#9c179e"
            ],
            [
             0.4444444444444444,
             "#bd3786"
            ],
            [
             0.5555555555555556,
             "#d8576b"
            ],
            [
             0.6666666666666666,
             "#ed7953"
            ],
            [
             0.7777777777777778,
             "#fb9f3a"
            ],
            [
             0.8888888888888888,
             "#fdca26"
            ],
            [
             1,
             "#f0f921"
            ]
           ]
          },
          "colorway": [
           "#636efa",
           "#EF553B",
           "#00cc96",
           "#ab63fa",
           "#FFA15A",
           "#19d3f3",
           "#FF6692",
           "#B6E880",
           "#FF97FF",
           "#FECB52"
          ],
          "font": {
           "color": "#2a3f5f"
          },
          "geo": {
           "bgcolor": "white",
           "lakecolor": "white",
           "landcolor": "#E5ECF6",
           "showlakes": true,
           "showland": true,
           "subunitcolor": "white"
          },
          "hoverlabel": {
           "align": "left"
          },
          "hovermode": "closest",
          "mapbox": {
           "style": "light"
          },
          "paper_bgcolor": "white",
          "plot_bgcolor": "#E5ECF6",
          "polar": {
           "angularaxis": {
            "gridcolor": "white",
            "linecolor": "white",
            "ticks": ""
           },
           "bgcolor": "#E5ECF6",
           "radialaxis": {
            "gridcolor": "white",
            "linecolor": "white",
            "ticks": ""
           }
          },
          "scene": {
           "xaxis": {
            "backgroundcolor": "#E5ECF6",
            "gridcolor": "white",
            "gridwidth": 2,
            "linecolor": "white",
            "showbackground": true,
            "ticks": "",
            "zerolinecolor": "white"
           },
           "yaxis": {
            "backgroundcolor": "#E5ECF6",
            "gridcolor": "white",
            "gridwidth": 2,
            "linecolor": "white",
            "showbackground": true,
            "ticks": "",
            "zerolinecolor": "white"
           },
           "zaxis": {
            "backgroundcolor": "#E5ECF6",
            "gridcolor": "white",
            "gridwidth": 2,
            "linecolor": "white",
            "showbackground": true,
            "ticks": "",
            "zerolinecolor": "white"
           }
          },
          "shapedefaults": {
           "line": {
            "color": "#2a3f5f"
           }
          },
          "ternary": {
           "aaxis": {
            "gridcolor": "white",
            "linecolor": "white",
            "ticks": ""
           },
           "baxis": {
            "gridcolor": "white",
            "linecolor": "white",
            "ticks": ""
           },
           "bgcolor": "#E5ECF6",
           "caxis": {
            "gridcolor": "white",
            "linecolor": "white",
            "ticks": ""
           }
          },
          "title": {
           "x": 0.05
          },
          "xaxis": {
           "automargin": true,
           "gridcolor": "white",
           "linecolor": "white",
           "ticks": "",
           "title": {
            "standoff": 15
           },
           "zerolinecolor": "white",
           "zerolinewidth": 2
          },
          "yaxis": {
           "automargin": true,
           "gridcolor": "white",
           "linecolor": "white",
           "ticks": "",
           "title": {
            "standoff": 15
           },
           "zerolinecolor": "white",
           "zerolinewidth": 2
          }
         }
        },
        "title": {
         "text": "Sales vs. Profit Trends Over Time"
        },
        "xaxis": {
         "title": {
          "text": "Date"
         }
        },
        "yaxis": {
         "side": "left",
         "title": {
          "text": "Total Sales"
         }
        },
        "yaxis2": {
         "overlaying": "y",
         "side": "right",
         "title": {
          "text": "Total Profit"
         }
        }
       }
      }
     },
     "metadata": {},
     "output_type": "display_data"
    }
   ],
   "source": [
    "import plotly.graph_objects as go\n",
    "\n",
    "fig = go.Figure()\n",
    "\n",
    "# Sales Line\n",
    "fig.add_trace(go.Scatter(x=profit_trends['Date'], y=profit_trends['Sales'], \n",
    "                         mode='lines+markers', name='Total Sales', \n",
    "                         yaxis='y1'))\n",
    "\n",
    "# Profit Line\n",
    "fig.add_trace(go.Scatter(x=profit_trends['Date'], y=profit_trends['Profit'], \n",
    "                         mode='lines+markers', name='Total Profit', \n",
    "                         yaxis='y2'))\n",
    "\n",
    "# Layout adjustments\n",
    "fig.update_layout(\n",
    "    title='Sales vs. Profit Trends Over Time',\n",
    "    xaxis=dict(title='Date'),\n",
    "    yaxis=dict(title='Total Sales', side='left'),\n",
    "    yaxis2=dict(title='Total Profit', overlaying='y', side='right'),\n",
    "    legend=dict(x=0.1, y=1.1),\n",
    ")\n",
    "\n",
    "fig.show()\n"
   ]
  },
  {
   "cell_type": "code",
   "execution_count": 58,
   "metadata": {},
   "outputs": [
    {
     "data": {
      "text/html": [
       "<div>\n",
       "<style scoped>\n",
       "    .dataframe tbody tr th:only-of-type {\n",
       "        vertical-align: middle;\n",
       "    }\n",
       "\n",
       "    .dataframe tbody tr th {\n",
       "        vertical-align: top;\n",
       "    }\n",
       "\n",
       "    .dataframe thead th {\n",
       "        text-align: right;\n",
       "    }\n",
       "</style>\n",
       "<table border=\"1\" class=\"dataframe\">\n",
       "  <thead>\n",
       "    <tr style=\"text-align: right;\">\n",
       "      <th></th>\n",
       "      <th>Category</th>\n",
       "      <th>Sales</th>\n",
       "      <th>Profit</th>\n",
       "      <th>Profit Margin %</th>\n",
       "    </tr>\n",
       "  </thead>\n",
       "  <tbody>\n",
       "    <tr>\n",
       "      <th>0</th>\n",
       "      <td>Furniture</td>\n",
       "      <td>741999.7953</td>\n",
       "      <td>18451.2728</td>\n",
       "      <td>2.486695</td>\n",
       "    </tr>\n",
       "    <tr>\n",
       "      <th>1</th>\n",
       "      <td>Office Supplies</td>\n",
       "      <td>719047.0320</td>\n",
       "      <td>122490.8008</td>\n",
       "      <td>17.035158</td>\n",
       "    </tr>\n",
       "    <tr>\n",
       "      <th>2</th>\n",
       "      <td>Technology</td>\n",
       "      <td>836154.0330</td>\n",
       "      <td>145454.9481</td>\n",
       "      <td>17.395712</td>\n",
       "    </tr>\n",
       "  </tbody>\n",
       "</table>\n",
       "</div>"
      ],
      "text/plain": [
       "          Category        Sales       Profit  Profit Margin %\n",
       "0        Furniture  741999.7953   18451.2728         2.486695\n",
       "1  Office Supplies  719047.0320  122490.8008        17.035158\n",
       "2       Technology  836154.0330  145454.9481        17.395712"
      ]
     },
     "execution_count": 58,
     "metadata": {},
     "output_type": "execute_result"
    }
   ],
   "source": [
    "# Group by Category and sum Sales & Profit\n",
    "category_profit = df.groupby('Category')[['Sales', 'Profit']].sum().reset_index()\n",
    "\n",
    "# Calculate Profit Margin %\n",
    "category_profit['Profit Margin %'] = (category_profit['Profit'] / category_profit['Sales']) * 100\n",
    "\n",
    "# Show data\n",
    "category_profit"
   ]
  },
  {
   "cell_type": "code",
   "execution_count": 59,
   "metadata": {},
   "outputs": [
    {
     "data": {
      "application/vnd.plotly.v1+json": {
       "config": {
        "plotlyServerURL": "https://plot.ly"
       },
       "data": [
        {
         "hovertemplate": "Category=%{x}<br>Profit Margin %=%{marker.color}<extra></extra>",
         "legendgroup": "",
         "marker": {
          "color": {
           "bdata": "TqAKa8DkA0BjWucjAAkxQBPi/GJNZTFA",
           "dtype": "f8"
          },
          "coloraxis": "coloraxis",
          "pattern": {
           "shape": ""
          }
         },
         "name": "",
         "orientation": "v",
         "showlegend": false,
         "textposition": "auto",
         "type": "bar",
         "x": [
          "Furniture",
          "Office Supplies",
          "Technology"
         ],
         "xaxis": "x",
         "y": {
          "bdata": "TqAKa8DkA0BjWucjAAkxQBPi/GJNZTFA",
          "dtype": "f8"
         },
         "yaxis": "y"
        }
       ],
       "layout": {
        "barmode": "relative",
        "coloraxis": {
         "colorbar": {
          "title": {
           "text": "Profit Margin %"
          }
         },
         "colorscale": [
          [
           0,
           "rgb(165,0,38)"
          ],
          [
           0.1,
           "rgb(215,48,39)"
          ],
          [
           0.2,
           "rgb(244,109,67)"
          ],
          [
           0.3,
           "rgb(253,174,97)"
          ],
          [
           0.4,
           "rgb(254,224,139)"
          ],
          [
           0.5,
           "rgb(255,255,191)"
          ],
          [
           0.6,
           "rgb(217,239,139)"
          ],
          [
           0.7,
           "rgb(166,217,106)"
          ],
          [
           0.8,
           "rgb(102,189,99)"
          ],
          [
           0.9,
           "rgb(26,152,80)"
          ],
          [
           1,
           "rgb(0,104,55)"
          ]
         ]
        },
        "legend": {
         "tracegroupgap": 0
        },
        "template": {
         "data": {
          "bar": [
           {
            "error_x": {
             "color": "#2a3f5f"
            },
            "error_y": {
             "color": "#2a3f5f"
            },
            "marker": {
             "line": {
              "color": "#E5ECF6",
              "width": 0.5
             },
             "pattern": {
              "fillmode": "overlay",
              "size": 10,
              "solidity": 0.2
             }
            },
            "type": "bar"
           }
          ],
          "barpolar": [
           {
            "marker": {
             "line": {
              "color": "#E5ECF6",
              "width": 0.5
             },
             "pattern": {
              "fillmode": "overlay",
              "size": 10,
              "solidity": 0.2
             }
            },
            "type": "barpolar"
           }
          ],
          "carpet": [
           {
            "aaxis": {
             "endlinecolor": "#2a3f5f",
             "gridcolor": "white",
             "linecolor": "white",
             "minorgridcolor": "white",
             "startlinecolor": "#2a3f5f"
            },
            "baxis": {
             "endlinecolor": "#2a3f5f",
             "gridcolor": "white",
             "linecolor": "white",
             "minorgridcolor": "white",
             "startlinecolor": "#2a3f5f"
            },
            "type": "carpet"
           }
          ],
          "choropleth": [
           {
            "colorbar": {
             "outlinewidth": 0,
             "ticks": ""
            },
            "type": "choropleth"
           }
          ],
          "contour": [
           {
            "colorbar": {
             "outlinewidth": 0,
             "ticks": ""
            },
            "colorscale": [
             [
              0,
              "#0d0887"
             ],
             [
              0.1111111111111111,
              "#46039f"
             ],
             [
              0.2222222222222222,
              "#7201a8"
             ],
             [
              0.3333333333333333,
              "#9c179e"
             ],
             [
              0.4444444444444444,
              "#bd3786"
             ],
             [
              0.5555555555555556,
              "#d8576b"
             ],
             [
              0.6666666666666666,
              "#ed7953"
             ],
             [
              0.7777777777777778,
              "#fb9f3a"
             ],
             [
              0.8888888888888888,
              "#fdca26"
             ],
             [
              1,
              "#f0f921"
             ]
            ],
            "type": "contour"
           }
          ],
          "contourcarpet": [
           {
            "colorbar": {
             "outlinewidth": 0,
             "ticks": ""
            },
            "type": "contourcarpet"
           }
          ],
          "heatmap": [
           {
            "colorbar": {
             "outlinewidth": 0,
             "ticks": ""
            },
            "colorscale": [
             [
              0,
              "#0d0887"
             ],
             [
              0.1111111111111111,
              "#46039f"
             ],
             [
              0.2222222222222222,
              "#7201a8"
             ],
             [
              0.3333333333333333,
              "#9c179e"
             ],
             [
              0.4444444444444444,
              "#bd3786"
             ],
             [
              0.5555555555555556,
              "#d8576b"
             ],
             [
              0.6666666666666666,
              "#ed7953"
             ],
             [
              0.7777777777777778,
              "#fb9f3a"
             ],
             [
              0.8888888888888888,
              "#fdca26"
             ],
             [
              1,
              "#f0f921"
             ]
            ],
            "type": "heatmap"
           }
          ],
          "histogram": [
           {
            "marker": {
             "pattern": {
              "fillmode": "overlay",
              "size": 10,
              "solidity": 0.2
             }
            },
            "type": "histogram"
           }
          ],
          "histogram2d": [
           {
            "colorbar": {
             "outlinewidth": 0,
             "ticks": ""
            },
            "colorscale": [
             [
              0,
              "#0d0887"
             ],
             [
              0.1111111111111111,
              "#46039f"
             ],
             [
              0.2222222222222222,
              "#7201a8"
             ],
             [
              0.3333333333333333,
              "#9c179e"
             ],
             [
              0.4444444444444444,
              "#bd3786"
             ],
             [
              0.5555555555555556,
              "#d8576b"
             ],
             [
              0.6666666666666666,
              "#ed7953"
             ],
             [
              0.7777777777777778,
              "#fb9f3a"
             ],
             [
              0.8888888888888888,
              "#fdca26"
             ],
             [
              1,
              "#f0f921"
             ]
            ],
            "type": "histogram2d"
           }
          ],
          "histogram2dcontour": [
           {
            "colorbar": {
             "outlinewidth": 0,
             "ticks": ""
            },
            "colorscale": [
             [
              0,
              "#0d0887"
             ],
             [
              0.1111111111111111,
              "#46039f"
             ],
             [
              0.2222222222222222,
              "#7201a8"
             ],
             [
              0.3333333333333333,
              "#9c179e"
             ],
             [
              0.4444444444444444,
              "#bd3786"
             ],
             [
              0.5555555555555556,
              "#d8576b"
             ],
             [
              0.6666666666666666,
              "#ed7953"
             ],
             [
              0.7777777777777778,
              "#fb9f3a"
             ],
             [
              0.8888888888888888,
              "#fdca26"
             ],
             [
              1,
              "#f0f921"
             ]
            ],
            "type": "histogram2dcontour"
           }
          ],
          "mesh3d": [
           {
            "colorbar": {
             "outlinewidth": 0,
             "ticks": ""
            },
            "type": "mesh3d"
           }
          ],
          "parcoords": [
           {
            "line": {
             "colorbar": {
              "outlinewidth": 0,
              "ticks": ""
             }
            },
            "type": "parcoords"
           }
          ],
          "pie": [
           {
            "automargin": true,
            "type": "pie"
           }
          ],
          "scatter": [
           {
            "fillpattern": {
             "fillmode": "overlay",
             "size": 10,
             "solidity": 0.2
            },
            "type": "scatter"
           }
          ],
          "scatter3d": [
           {
            "line": {
             "colorbar": {
              "outlinewidth": 0,
              "ticks": ""
             }
            },
            "marker": {
             "colorbar": {
              "outlinewidth": 0,
              "ticks": ""
             }
            },
            "type": "scatter3d"
           }
          ],
          "scattercarpet": [
           {
            "marker": {
             "colorbar": {
              "outlinewidth": 0,
              "ticks": ""
             }
            },
            "type": "scattercarpet"
           }
          ],
          "scattergeo": [
           {
            "marker": {
             "colorbar": {
              "outlinewidth": 0,
              "ticks": ""
             }
            },
            "type": "scattergeo"
           }
          ],
          "scattergl": [
           {
            "marker": {
             "colorbar": {
              "outlinewidth": 0,
              "ticks": ""
             }
            },
            "type": "scattergl"
           }
          ],
          "scattermap": [
           {
            "marker": {
             "colorbar": {
              "outlinewidth": 0,
              "ticks": ""
             }
            },
            "type": "scattermap"
           }
          ],
          "scattermapbox": [
           {
            "marker": {
             "colorbar": {
              "outlinewidth": 0,
              "ticks": ""
             }
            },
            "type": "scattermapbox"
           }
          ],
          "scatterpolar": [
           {
            "marker": {
             "colorbar": {
              "outlinewidth": 0,
              "ticks": ""
             }
            },
            "type": "scatterpolar"
           }
          ],
          "scatterpolargl": [
           {
            "marker": {
             "colorbar": {
              "outlinewidth": 0,
              "ticks": ""
             }
            },
            "type": "scatterpolargl"
           }
          ],
          "scatterternary": [
           {
            "marker": {
             "colorbar": {
              "outlinewidth": 0,
              "ticks": ""
             }
            },
            "type": "scatterternary"
           }
          ],
          "surface": [
           {
            "colorbar": {
             "outlinewidth": 0,
             "ticks": ""
            },
            "colorscale": [
             [
              0,
              "#0d0887"
             ],
             [
              0.1111111111111111,
              "#46039f"
             ],
             [
              0.2222222222222222,
              "#7201a8"
             ],
             [
              0.3333333333333333,
              "#9c179e"
             ],
             [
              0.4444444444444444,
              "#bd3786"
             ],
             [
              0.5555555555555556,
              "#d8576b"
             ],
             [
              0.6666666666666666,
              "#ed7953"
             ],
             [
              0.7777777777777778,
              "#fb9f3a"
             ],
             [
              0.8888888888888888,
              "#fdca26"
             ],
             [
              1,
              "#f0f921"
             ]
            ],
            "type": "surface"
           }
          ],
          "table": [
           {
            "cells": {
             "fill": {
              "color": "#EBF0F8"
             },
             "line": {
              "color": "white"
             }
            },
            "header": {
             "fill": {
              "color": "#C8D4E3"
             },
             "line": {
              "color": "white"
             }
            },
            "type": "table"
           }
          ]
         },
         "layout": {
          "annotationdefaults": {
           "arrowcolor": "#2a3f5f",
           "arrowhead": 0,
           "arrowwidth": 1
          },
          "autotypenumbers": "strict",
          "coloraxis": {
           "colorbar": {
            "outlinewidth": 0,
            "ticks": ""
           }
          },
          "colorscale": {
           "diverging": [
            [
             0,
             "#8e0152"
            ],
            [
             0.1,
             "#c51b7d"
            ],
            [
             0.2,
             "#de77ae"
            ],
            [
             0.3,
             "#f1b6da"
            ],
            [
             0.4,
             "#fde0ef"
            ],
            [
             0.5,
             "#f7f7f7"
            ],
            [
             0.6,
             "#e6f5d0"
            ],
            [
             0.7,
             "#b8e186"
            ],
            [
             0.8,
             "#7fbc41"
            ],
            [
             0.9,
             "#4d9221"
            ],
            [
             1,
             "#276419"
            ]
           ],
           "sequential": [
            [
             0,
             "#0d0887"
            ],
            [
             0.1111111111111111,
             "#46039f"
            ],
            [
             0.2222222222222222,
             "#7201a8"
            ],
            [
             0.3333333333333333,
             "#9c179e"
            ],
            [
             0.4444444444444444,
             "#bd3786"
            ],
            [
             0.5555555555555556,
             "#d8576b"
            ],
            [
             0.6666666666666666,
             "#ed7953"
            ],
            [
             0.7777777777777778,
             "#fb9f3a"
            ],
            [
             0.8888888888888888,
             "#fdca26"
            ],
            [
             1,
             "#f0f921"
            ]
           ],
           "sequentialminus": [
            [
             0,
             "#0d0887"
            ],
            [
             0.1111111111111111,
             "#46039f"
            ],
            [
             0.2222222222222222,
             "#7201a8"
            ],
            [
             0.3333333333333333,
             "#9c179e"
            ],
            [
             0.4444444444444444,
             "#bd3786"
            ],
            [
             0.5555555555555556,
             "#d8576b"
            ],
            [
             0.6666666666666666,
             "#ed7953"
            ],
            [
             0.7777777777777778,
             "#fb9f3a"
            ],
            [
             0.8888888888888888,
             "#fdca26"
            ],
            [
             1,
             "#f0f921"
            ]
           ]
          },
          "colorway": [
           "#636efa",
           "#EF553B",
           "#00cc96",
           "#ab63fa",
           "#FFA15A",
           "#19d3f3",
           "#FF6692",
           "#B6E880",
           "#FF97FF",
           "#FECB52"
          ],
          "font": {
           "color": "#2a3f5f"
          },
          "geo": {
           "bgcolor": "white",
           "lakecolor": "white",
           "landcolor": "#E5ECF6",
           "showlakes": true,
           "showland": true,
           "subunitcolor": "white"
          },
          "hoverlabel": {
           "align": "left"
          },
          "hovermode": "closest",
          "mapbox": {
           "style": "light"
          },
          "paper_bgcolor": "white",
          "plot_bgcolor": "#E5ECF6",
          "polar": {
           "angularaxis": {
            "gridcolor": "white",
            "linecolor": "white",
            "ticks": ""
           },
           "bgcolor": "#E5ECF6",
           "radialaxis": {
            "gridcolor": "white",
            "linecolor": "white",
            "ticks": ""
           }
          },
          "scene": {
           "xaxis": {
            "backgroundcolor": "#E5ECF6",
            "gridcolor": "white",
            "gridwidth": 2,
            "linecolor": "white",
            "showbackground": true,
            "ticks": "",
            "zerolinecolor": "white"
           },
           "yaxis": {
            "backgroundcolor": "#E5ECF6",
            "gridcolor": "white",
            "gridwidth": 2,
            "linecolor": "white",
            "showbackground": true,
            "ticks": "",
            "zerolinecolor": "white"
           },
           "zaxis": {
            "backgroundcolor": "#E5ECF6",
            "gridcolor": "white",
            "gridwidth": 2,
            "linecolor": "white",
            "showbackground": true,
            "ticks": "",
            "zerolinecolor": "white"
           }
          },
          "shapedefaults": {
           "line": {
            "color": "#2a3f5f"
           }
          },
          "ternary": {
           "aaxis": {
            "gridcolor": "white",
            "linecolor": "white",
            "ticks": ""
           },
           "baxis": {
            "gridcolor": "white",
            "linecolor": "white",
            "ticks": ""
           },
           "bgcolor": "#E5ECF6",
           "caxis": {
            "gridcolor": "white",
            "linecolor": "white",
            "ticks": ""
           }
          },
          "title": {
           "x": 0.05
          },
          "xaxis": {
           "automargin": true,
           "gridcolor": "white",
           "linecolor": "white",
           "ticks": "",
           "title": {
            "standoff": 15
           },
           "zerolinecolor": "white",
           "zerolinewidth": 2
          },
          "yaxis": {
           "automargin": true,
           "gridcolor": "white",
           "linecolor": "white",
           "ticks": "",
           "title": {
            "standoff": 15
           },
           "zerolinecolor": "white",
           "zerolinewidth": 2
          }
         }
        },
        "title": {
         "text": "Profitability by Category"
        },
        "xaxis": {
         "anchor": "y",
         "domain": [
          0,
          1
         ],
         "title": {
          "text": "Category"
         }
        },
        "yaxis": {
         "anchor": "x",
         "domain": [
          0,
          1
         ],
         "title": {
          "text": "Profit Margin %"
         }
        }
       }
      }
     },
     "metadata": {},
     "output_type": "display_data"
    }
   ],
   "source": [
    "fig = px.bar(category_profit, \n",
    "             x='Category', \n",
    "             y='Profit Margin %', \n",
    "             color='Profit Margin %', \n",
    "             title='Profitability by Category',\n",
    "             color_continuous_scale='RdYlGn')\n",
    "\n",
    "fig.show()"
   ]
  },
  {
   "cell_type": "code",
   "execution_count": null,
   "metadata": {},
   "outputs": [],
   "source": []
  }
 ],
 "metadata": {
  "kernelspec": {
   "display_name": "Python 3",
   "language": "python",
   "name": "python3"
  },
  "language_info": {
   "codemirror_mode": {
    "name": "ipython",
    "version": 3
   },
   "file_extension": ".py",
   "mimetype": "text/x-python",
   "name": "python",
   "nbconvert_exporter": "python",
   "pygments_lexer": "ipython3",
   "version": "3.9.0"
  }
 },
 "nbformat": 4,
 "nbformat_minor": 2
}
